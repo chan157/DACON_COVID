{
 "cells": [
  {
   "cell_type": "markdown",
   "metadata": {},
   "source": [
    "<br><h1>[<span style=\"color:red\">COVID-19</span> Analysis & Visualization] <span style=\"color:red\">뭉치면 </span>죽고 퍼지면 산다! </h1></br> \n",
    "\n",
    "\n",
    "안녕하세요. Mulcamer팀입니다. \n",
    "Mulcamer(Multicampus+Learner)는 현재 삼성 멀티캠퍼스에서 데이터 분석과 AI과정을 공부하고 있는 학생들로 이루어진 팀입니다. 현재 가장 큰 이슈인 코로나라는 펜데믹(pandemic)에 대응하여 인류 전체의 문제를 해결하기 위한 노력과 지식 공유를 목적으로 프로젝트에 임하였습니다. 더 나아가 저희팀의 분석 자료를 통해 앞으로의 코로나 관련 정책 방향성이나 사람들 인식의 변화에 영향을 줄 수 있는 객관적인 저널이 되고자 하는 목표가 있습니다.\n",
    "\n",
    "우선, 진행방향을 잡기위해 전체적인 데이터에 대한 EDA를 진행하였습니다. 그 후 EDA를 바탕으로 총 4가지의 주제를 잡고 분석 작업을 진행하였습니다. 코로나 바이러스를 예방하기 위해서는 현재 <span style=\"color:red\">감염률이 높은 집단</span>과 <span style=\"color:red\">사망률이 높은 집단</span>, <span style=\"color:red\">지역별 감염 경로</span>에 대한 현황 및 원인을 제대로 파악해야 한다고 생각하였습니다. 이를 통해 각별한 주의가 필요한 집단은 스스로 경각심을 인지하고 정부는 이에 대한 적절한 대처 방안을 세워야합니다.\n",
    "\n",
    "---\n",
    "\n",
    "# [ 목차 ]\n",
    "### 1. 20대 감염원인과 성향 파악 \n",
    "\n",
    "    Topic 1 결론 및 요약\n",
    "\n",
    "    1-1. 20대 감염자 어디서 왔는가?\n",
    "\n",
    "    1-2. 20대 높은 감염자수 신천지 때문인가?\n",
    "\n",
    "\n",
    "\n",
    "### 2. 과연, COVID19는 누구에게 치명적일까? \n",
    "\n",
    "    Topic 2 결론 및 요약\n",
    "\n",
    "    2-1. 나이가 많을 수록 완치 기간이 오래걸린다?\n",
    "\n",
    "    2-2. 치명률과 사망 환자 원인 분석\n",
    "\n",
    "\n",
    "\n",
    "### 3. 수도권과 비수도권 신규 확진자 양상의 차이? \n",
    "\n",
    "    Topic 3 결론 및 요약\n",
    "\n",
    "    3-1. 지역별 신규 확진자 증가 양상? \n",
    "\n",
    "    3-2. 수도권과 영남지역의 신규 확진자 발생 원인 비교\n",
    "    \n",
    "    3-3. 해외 유입 확진자 위협적인가?\n",
    "\n",
    "\n",
    "\n",
    "### 4. Linear Regression과 Logistic Curve를 통한 확진자 예측 \n",
    "\n",
    "    Topic 4 결론 및 요약\n",
    "\n",
    "    4-1. 모델 설명 및 선정 이유\n",
    "\n",
    "    4-2. 한국, 중국, 이탈리아, 미국 확진자 수 예측 및 비교\n",
    "\n",
    "    4-3. 신천지 집단 감염이 일어나지 않았다면?\n",
    "    \n",
    "### 5. 최종 결론 및 마무리 \n",
    "    \n",
    "### 부록 :  사회적 거리두기에서 생활속 거리두기, 괜찮은 걸까? \n",
    "    \n",
    "   \n",
    "---\n",
    "\n",
    "#### [ 포스팅 링크 ]\n",
    "\n",
    "#### [Tableau & Plotly 활용 전반적 EDA 와 시각화](https://dacon.io/competitions/official/235590/codeshare/1032?page=1&dtype=recent)\n",
    "#### [Topic_1 : 20대 감염원인과 성향 파악](https://dacon.io/competitions/official/235590/codeshare/1069?page=1&dtype=recent)\n",
    "#### [Topic_2 : 과연, COVID19는 누구에게 치명적일까?](https://dacon.io/competitions/official/235590/codeshare/1067?page=1&dtype=recent)\n",
    "#### [Topic_3 : 수도권과 비수도권 확진자 양상의 차이?](https://dacon.io/competitions/official/235590/codeshare/1068?page=1&dtype=recent)\n",
    "#### [Topic_4 : Logistic Function과 Linear Regression을 통한 확진자 수 예측](https://dacon.io/competitions/official/235590/codeshare/1077?page=1&dtype=recent&ptype=pub)\n",
    "\n",
    "---\n",
    "\n",
    "#### [ 업데이트 이력]\n",
    "(4월 22일) COVID-19 Plotly를 사용한 전반적 EDA\n",
    "\n",
    "(4월 23일) 시간에 따른 세계 확진자 추이 TABLEU\n",
    "\n",
    "(4월 24일) 시간에 따른 한국 확진자 추이 TABLEU\n",
    "\n",
    "(4월 26일) EDA 결과 및 특징을 통한 분석 방향 확립\n",
    "\n",
    "(4월 29일) Topic 1. 20대 감염 원인과 성향\n",
    "\n",
    "(4월 29일) Topic 2. COVID19에 취약한 집단 분석\n",
    "\n",
    "(5월 01일) Topic 3. 수도권과 다른 지역의 확진자 양상 분석\n",
    "\n",
    "(5월 09일) Topic 4. Logistic Function과 Linear Regression을 통한 확진자 수 예측\n",
    "\n",
    "---"
   ]
  },
  {
   "cell_type": "markdown",
   "metadata": {},
   "source": [
    "# Topic 1. 20대 감염원인과 성향 파악"
   ]
  },
  {
   "cell_type": "markdown",
   "metadata": {},
   "source": [
    "> 기존 EDA를 통해서 연령별 누적 확진자 추이와 사망자 추이를 보면 각 연령별 추이가 꾸준하게 지속되는 것을 확인했습니다. 20대는 꾸준하게 확진자 수가 높았으며 70~80대의 사망률 또한 계속해서 높은 상태를 유지했습니다. 그리하여, 연령대별 특징이나 행동특성이 코로나 감염과의 관계가 있을 것이라고 생각하여 `20대 감염자 어디서 왔는가?!`라는 주제로 분석을 진행해보았습니다.\n",
    "\n",
    "\n",
    "## 결론 및 요약\n",
    "코로나 종식 및 예방을 위해서는 가장 많은 감염자 수를 가진 20대 감염자의 수를 줄이는 것이 핵심과제라고 생각했습니다. 그래서 20대를 초점으로 분석을 진행하였고 다음과 같은 결과를 도출하였습니다.\n",
    "\n",
    "### 1. 20대 감염자 어디서 왔는가?\n",
    "확연히 들어나는 20대 확진자 수가 많은 원인을 찾아보았습니다. 처음 예상은 EDA를 바탕으로 '해외 유입인구'를 예상하였습니다. 하지만, 대다수가  <span style=\"color:red\">신천지 집단 감염으로 발생</span>된 것으로 확인하였습니다.\n",
    "\n",
    "### 2. 과연? 신천지와 해외유입 뿐인가?\n",
    "신전치를 제외하고도 높은 20대 확진자의 비율을 확인하였습니다. 그 원인을 찾기위해 20대의 행동 특성을 방문경로와 유동인구 측면에서 확인해보았습니다. 그 결과  <span style=\"color:red\">20대는 코로나 바이러스에 대한 위험의식이 낮은 경향이 있으며, 불필요한 방문지역(PC방 등)에 더 많이 방문</span>하는 등 활동 반경이 넓은 특성을 파악했습니다.\n",
    "\n",
    "### 3. 해결방안\n",
    "코로나 확산 방지 및 종식을 위해서는 가장 우선적으로 신천지와 같은 집단 감염을 막는 것을 막아야합니다. 사회적 거리두기를 적극 실천하고 불필요 방문지역을 줄이도록 해야합니다. 사회적 거리두기가 끝난 이후에도 경각심을 가지고 단체활동을 피하는 것이 바람직합니다. 또한, 20대가 많이 방문하는 업종은 사전에 방역 작업과 개인 위생관리를 철저하게 준수하도록하여 확산을 사전에 방지해야합니다. 더 나아가, 20대 스스로 '나는 괜찮다, 젊어서 괜찮다'는 방식의 사고방식을 버리고, 코로나에 대한 경각심을 가져야합니다. 또한, 불필요한 외출을 자제해야합니다.\n"
   ]
  },
  {
   "cell_type": "markdown",
   "metadata": {},
   "source": [
    "## 1. 20대 감염자 어디서 왔는가?!"
   ]
  },
  {
   "cell_type": "code",
   "execution_count": 1,
   "metadata": {
    "scrolled": false
   },
   "outputs": [
    {
     "ename": "NameError",
     "evalue": "name 'make_subplots' is not defined",
     "output_type": "error",
     "traceback": [
      "\u001b[1;31m---------------------------------------------------------------------------\u001b[0m",
      "\u001b[1;31mNameError\u001b[0m                                 Traceback (most recent call last)",
      "\u001b[1;32m<ipython-input-1-fd59a0f9fa2f>\u001b[0m in \u001b[0;36m<module>\u001b[1;34m\u001b[0m\n\u001b[1;32m----> 1\u001b[1;33m fig = make_subplots(rows=1, cols=2, horizontal_spacing=0.15, vertical_spacing=0.05,\n\u001b[0m\u001b[0;32m      2\u001b[0m                    subplot_titles=['<b>연령별 인구수</b>', '<b>연령별 10만명당 발생률</b>'])\n\u001b[0;32m      3\u001b[0m \u001b[1;33m\u001b[0m\u001b[0m\n\u001b[0;32m      4\u001b[0m fig.add_trace(go.Bar(x=pops.index,y=pops.values,\n\u001b[0;32m      5\u001b[0m                      marker=dict(color=DEFAULT_PLOTLY_COLORS[1:])), row=1,col=1)\n",
      "\u001b[1;31mNameError\u001b[0m: name 'make_subplots' is not defined"
     ]
    }
   ],
   "source": [
    "fig = make_subplots(rows=1, cols=2, horizontal_spacing=0.15, vertical_spacing=0.05,\n",
    "                   subplot_titles=['<b>연령별 인구수</b>', '<b>연령별 10만명당 발생률</b>'])\n",
    "\n",
    "fig.add_trace(go.Bar(x=pops.index,y=pops.values,\n",
    "                     marker=dict(color=DEFAULT_PLOTLY_COLORS[1:])), row=1,col=1)\n",
    "\n",
    "fig.add_trace(go.Bar(x=C_Ratio_df.index,y=C_Ratio_df.values,\n",
    "                     marker=dict(color=DEFAULT_PLOTLY_COLORS[1:])), row=1, col=2)\n",
    "\n",
    "fig.update_layout(title='<b>연령별 누적 확진자</b>', **layout_font, showlegend=False)\n",
    "\n",
    "fig.update_xaxes(title_text='<b>연령 그룹</b>')\n",
    "fig.update_yaxes(title_text='<b>인구수</b>', row=1, col=1)\n",
    "fig.update_yaxes(title_text='<b>발생률</b>', row=1, col=2)\n",
    "\n",
    "fig.show()"
   ]
  },
  {
   "cell_type": "markdown",
   "metadata": {},
   "source": [
    "20대의 인구수에 비해서 40~50대의 인구수가 약 28% 더 많은 것을 알 수 있습니다. 그럼에도 20대의 확진자 수가 훨씬 많은 것을 알 수 있습니다. 또한, 연령별 인구수에 대한 확진자의 비율을 보면 20대의 확진자 비율이 더욱 극명하게 나타나는 것을 확인할 수 있습니다. 20대의 코로나 확진자가 많은 것의 이유를 알아보겠습니다."
   ]
  },
  {
   "cell_type": "markdown",
   "metadata": {},
   "source": [
    "### 1-1) 20대 감염경로 파악, 해외 유입인구"
   ]
  },
  {
   "cell_type": "code",
   "execution_count": null,
   "metadata": {},
   "outputs": [],
   "source": [
    "fig = make_subplots(rows=1, cols=2, specs=[[{'type':'domain'}, {'type':'domain'}]],\n",
    "                   subplot_titles=['<b>전체 연령</b>', '<b>20 대</b>'])\n",
    "\n",
    "fig.add_trace(go.Pie(values=patientTotal.values, labels=patientTotal.index, \n",
    "                    name='<b>전연령</b>', pull=[.1,0]),row=1,col=1)\n",
    "fig.add_trace(go.Pie(values=patient20sTop.values, labels=patient20sTop.index, \n",
    "                    name='<b>20s</b>', pull=[.1,0]),row=1,col=2,)\n",
    "\n",
    "fig.update_traces(textinfo=\"percent+label\")\n",
    "fig.update_layout(title='<b>확진자 감염 케이스</b>', **layout_font, showlegend=True,\n",
    "                 height=500)\n",
    "fig.show()"
   ]
  },
  {
   "cell_type": "markdown",
   "metadata": {},
   "source": [
    "가장 많은 확진자 수를 가진 20대들은 과연 어느 경로를 통해서 유입되는지 확인해보았습니다. 우선 patientinfo 데이터를 사용해서 감염된 경로 및 케이스를 분석해보았습니다. 그 중에서 목표로하는 20대의 확진 케이스가 어떠한지 확인하였습니다. 전체 감염자 비율과는 조금 다르게 <span style=\"color:red\">해외에서 유입되는 20대의 비율이 상당히 높은 것</span>을 알 수 있습니다. 따라서, 20대의 경우 해외 유입을 통해서 들어온 확진자가 많다고 생각할 수 있습니다. 하지만 환자 정보 데이터의 결측치와 기타 부분이 많아 분석의 한계점과 데이터에 대한 신뢰에 의문을 가졌고 중앙방역대책 본부의 데이터를 통해 다시 분석을 진행하였습니다."
   ]
  },
  {
   "cell_type": "markdown",
   "metadata": {},
   "source": [
    "## 1-2) 20대 감염경로 파악, 핵심은 신천지"
   ]
  },
  {
   "cell_type": "code",
   "execution_count": null,
   "metadata": {
    "scrolled": false
   },
   "outputs": [],
   "source": [
    "fig=px.pie(confiredSum_df, values='num', names='index', hole=.3,\n",
    "           color_discrete_sequence=px.colors.qualitative.Plotly)\n",
    "fig.update_traces(textinfo=\"percent+label\")\n",
    "fig.update_layout(title='<b>확진자 감염 케이스 비율</b>', **layout_font, showlegend=True)\n",
    "fig.show()"
   ]
  },
  {
   "cell_type": "markdown",
   "metadata": {},
   "source": [
    "patientInfo의 부족한 데이터를 보충하기 위해서 중앙방역대책본부의 데이터와 대구광역시 재난안전 대책본부의 발표를 활용하였습니다. \n",
    "\n",
    "[중앙방역대책본부의 4월28일 현황 발표 데이터](https://www.cdc.go.kr/board/board.es?mid=a20501000000&bid=0015)에 의하면 전체 코로나 확진자 중 48.5%가 대구 신천지와 관련된 확진자인 것으로 조사되었습니다. \n",
    "\n",
    "[대구광역시 재난안전대책본부의 3월 6일 발표](https://blog.naver.com/daegu_news/221840129905)에 의하면 신천지 교인 10,914명 중 90% 이상이 진단검사를 받은 것으로 파악되고 이 중 3,617명이 확진판정을 받았습니다. 신천지 교인 3,617명 중 남성이 1,170명(32.3%), 여성은 2,447명(67.7%)로 여성이 2배 이상 많으며, <span style=\"color:red\">20대 1,376명(38.0%)</span>, 50대 663명(18.3%), 40대 496명(13.7%) 순으로, <span style=\"color:red\">20대가 가장 많은 신천지 확진자 비율</span>을 차지하고 있습니다.\n",
    "\n",
    "즉, <span style=\"color:red\">상당수의 20대 확진자의 감염 경로가 신천지 교회에서 발생된 것</span>을 판단하였습니다."
   ]
  },
  {
   "cell_type": "markdown",
   "metadata": {},
   "source": [
    "## 2. 20대 높은 감염자수 오직 신천지 때문인가?"
   ]
  },
  {
   "cell_type": "markdown",
   "metadata": {},
   "source": [
    "[3월 23일 중앙방역대책본부장의 정례 브리핑 내용](https://www.youtube.com/watch?v=6BnKcnACgnk)에 의하면 신천지 교인 중 20대가 많은 점도 있지만 <span style=\"color:red\">신천지 교인을 제외하더라도 20대가 많다</span>고 발표하였습니다. 20대 확진자가 타 연령대에 비해 신천지에 잘 걸리는 이유가 행동 특성에 들어날 것이라고 생각하였습니다. 이를 파악하기위해 유동인구와 방문지역을 중심으로 분석을 진행하였습니다."
   ]
  },
  {
   "cell_type": "markdown",
   "metadata": {},
   "source": [
    "### 2-1) 20대의 유동인구 파악 \n",
    "가장 먼저 생각해볼 수 있는 것이 유동인구라고 생각했습니다. [SKT 빅데이터 허브](https://www.bigdatahub.co.kr/index.do)에서 제공하는 기지국 신호정보를 기반으로 서울시 유동인구를 활용하였습니다. API 연동 부분의 코드는 AccessKey 공개여부 때문에 생략했고, 저장된 DB에서 불러오는 부분만 첨부하였습니다.\n",
    "\n",
    "코로나 전과 후의 유동인구를 파악하기위해서 공개된 데이터 최초인 2019년 3월에서 시작해서 가장 최근 데이터인 2020년 2월까지의 데이터를 활용했습니다."
   ]
  },
  {
   "cell_type": "code",
   "execution_count": null,
   "metadata": {
    "scrolled": false
   },
   "outputs": [],
   "source": [
    "sql = sqlite3.connect(r\"floating_data_2019_03.db\")\n",
    "floating_02 = pd.read_sql(\"SELECT * FROM moving1903\", sql)\n",
    "floating_02 = floating_02.drop(['index'], axis=1, errors='ignore')\n",
    "\n",
    "fp_age = pd.pivot_table(floating_02, index='date',columns='birth_year',values='fp_num')\n",
    "fp_age.index = list(map(lambda x : x[:4] + '-' + x[4:6] + '-' + x[6:], fp_age.index))\n",
    "fig = go.Figure()\n",
    "for col in fp_age.columns:\n",
    "    fig.add_trace(go.Scatter(x=fp_age.index, y=fp_age[col],mode='lines+markers', name=col) )\n",
    "\n",
    "fig.update_layout(title='<b>2019년 3~5월 유동인구</b>', **layout_font)\n",
    "fig.update_yaxes(title_text=\"<b>유동인구수</b>\")\n",
    "fig.update_xaxes(title_text=\"<b>날짜</b>\")\n",
    "fig.show()"
   ]
  },
  {
   "cell_type": "markdown",
   "metadata": {},
   "source": [
    "20대의 유동인구가 많을 것이라고 예상했던 것과는 다르게 <span style=\"color:red\">30~40대의 유동인구가 가장 많았습니다.</span> 그 다음으로 20대와 50대가 유동인구 측면에서 유사한 것을 확인할 수 있었습니다. \n",
    "\n",
    "전반적으로 평일은 회사나 학원 등 일상생활을 진행하기에 유동인구가 주말에 비해 높으면서 일정하게 유지되는 것을 확인할 수 있습니다. 이후, 주말은 토요일과 일요일 순서로 점차 유동인구가 감소하는 것을 확인할 수 있습니다.\n",
    "\n",
    "반면, 20대는 다른 연령대에 비해서 주말 유동인구가 많은 것을 확인할 수 있습니다. 20대 행동 패턴으로 <span style=\"color:red\">불금</span> 성향을 20대의 유동인구를 통해서 확인할 수 있었습니다."
   ]
  },
  {
   "cell_type": "code",
   "execution_count": null,
   "metadata": {},
   "outputs": [],
   "source": [
    "sql = sqlite3.connect(r\"floating_data_2020.db\")\n",
    "floating = pd.read_sql(\"SELECT * FROM moving\", sql)\n",
    "floating = floating.drop(['index'], axis=1, errors='ignore')\n",
    "\n",
    "fp_age = pd.pivot_table(floating, index='date',columns='birth_year',values='fp_num')\n",
    "fp_age.loc['20200223'] = fp_age.loc['20200216'] # 이상치 처리, 한주 전으로 대체\n",
    "fp_age.loc['20200311'] = fp_age.loc['20200304'] # 이상치 처리, 한주 전으로 대체\n",
    "fp_age.index = list(map(lambda x : x[:4] + '-' + x[4:6] + '-' + x[6:], fp_age.index))\n",
    "fig = go.Figure()\n",
    "for col in fp_age.columns:\n",
    "    fig.add_trace(go.Scatter(x=fp_age.index, y=fp_age[col],mode='lines+markers', name=col) )\n",
    "\n",
    "fig.update_layout(title='<b>2020년 1~4월 유동인구</b>', **layout_font)\n",
    "fig.update_yaxes(title_text=\"<b>유동인구수</b>\")\n",
    "fig.update_xaxes(title_text=\"<b>날짜</b>\")\n",
    "fig.show()"
   ]
  },
  {
   "cell_type": "markdown",
   "metadata": {},
   "source": [
    "2020년 2월~4월 까지의 데이터를 API를 통해 가져왔습니다. 1월 25일 근처로 깊은 유동인구의 하락은 설날로 인한 지방으로 전체적인 인구가 이동하면서 발생된 감소이므로 분석에서 제외하고 그래프를 보시면 되겠습니다. \n",
    "\n",
    "설날 이후 중국에서 넘어온 코로나에 대한 경각심이 시작된 시점입니다. <span style=\"color:red\">1월 31일을 기점으로 60, 70대의 유동인구가 급격하게 감소</span>하였으며, 그 추세를 이어가고 있습니다. 유동인구가 높을 것이라고 예상했던 것과는 다르게 20대의 전반적인 유동인구의 수가 높지 않은 것을 확인하였습니다. 오히려, 2월 말부터 20대의 유동인구수가 약간 줄어들어 50대와의 간격이 발생했습니다. 하지만 3월 말부터 다시 1월 초와 유사한 유동인구 모습을 볼 수 있습니다.\n",
    "\n",
    "5천만 인구인 대한민국에서 서울시의 유동인구를 대표하기에 부족한점, 동일 기간의 데이터가 아닌점, 대학과 학교가 개학하지 않고 온라인 수업을 진행한 것, 코로나에 민감해진 3월~4월의 유동인구 데이터가 없는 점 등의 한계가 많았습니다. \n",
    "\n",
    "결론적으로 <span style=\"color:red\">유동인구를 통한 20대의 코로나 확진자 관계는 발견되지 않았습니다.</span> 한국의 정책에서 1월 28일 Level 3 질병 경보 이후의 고연령층의 유동인구 변화를 통해 고연령층의 주의깊은 자세를 확인할 수 있습니다. 반면 금요일과 주말의 유동인구의 변화를 통해 20대의 주말 활동성을 확인하였습니다."
   ]
  },
  {
   "cell_type": "markdown",
   "metadata": {},
   "source": [
    "### 2-2) 20대 확진자들의 이동경로 파악"
   ]
  },
  {
   "cell_type": "markdown",
   "metadata": {},
   "source": [
    "유동인구 측면에서 20대의 움직임이 많지 않았습니다. 하지만 금요일 저녁부터 토요일까지의 유동인구가 다른 연령대에 비해 훨씬 많은 것을 파악했습니다. 사회활동이 활발한 20대의 특징을 확연히 볼 수 있었습니다. 이를 바탕으로 실제 확진자들을 기준으로 20대가 어떻게 움직였는지를 확인하기 위한 분석을 진행했습니다. 환자의 이동경로를 나타낸 Route 데이터셋과 환자 정보가 전반적으로 나타나있는 PatientInfo 데이터를 환자의 아이디 번호를 기준으로 합병한 데이터를 활용하였습니다. "
   ]
  },
  {
   "cell_type": "code",
   "execution_count": null,
   "metadata": {},
   "outputs": [],
   "source": [
    "pinfoANDroute = pd.merge(route, patientinfo,on='patient_id').pivot_table(index='type', columns=['age'], values='patient_id', aggfunc='count')\n",
    "pinfoANDroute.index = list(map(lambda x : x.split('_')[0], pinfoANDroute.index))\n",
    "target = [\"20s\",\"30s\",\"40s\",\"50s\"]\n",
    "\n",
    "fig = make_subplots(2,2, horizontal_spacing=0.1,\n",
    "                   vertical_spacing=0.1, subplot_titles=[f\"{x}\" for x in target])\n",
    "\n",
    "for i, column in enumerate(target):\n",
    "    row, col = i//2 + 1, i%2 + 1\n",
    "    infectionRoute = pinfoANDroute[column].dropna()\n",
    "    fig.add_trace(go.Bar(x=infectionRoute.values, y=infectionRoute.index,\n",
    "                         name=column, orientation='h'),row=row, col=col)\n",
    "    \n",
    "fig.update_layout(title=\"<b>연령별 확진자 방문지역</b>\",\n",
    "                  margin=dict(l=20, r=20, t=100, b=20),\n",
    "                  height=600, **layout_font)    \n",
    "fig.show()"
   ]
  },
  {
   "cell_type": "markdown",
   "metadata": {},
   "source": [
    "환자들의 이동경로가 결국 마지막은 병원으로 이동해서 확진을 받는다는 점과, etc는 파악이 불가능하고 모든 집단에서 가장 높은 비율을 가지고 있다는 점을 고려하여, 두 경로를 분석에서 제외하였습니다. \n",
    "\n",
    "코로나 사태에서 생활에 필수적인 방문지와 불필요한 방문지를 다음과 같이 구분하여 분석을 진행했습니다.\n",
    "\n",
    "불필요 방문 업종 : 부동산, 미용, 제과점, 헬스장, 바, 숙박업소, pc방, 카페, 교회, 가게, 레스토랑\n",
    "\n",
    "필요 방문 업종 : 관공서, 은행, 학업관련, 약국, 대중교통 등 \n",
    "\n",
    "전체 확진자들 보다는 20대와 가장 유사한 유동인구 수를 보여주었던 50대와의 비교를 통해 분석을 진행했습니다."
   ]
  },
  {
   "cell_type": "code",
   "execution_count": null,
   "metadata": {
    "scrolled": false
   },
   "outputs": [],
   "source": [
    "pinfoANDroute.drop(['hospital','etc'], inplace=True, errors='ignore')\n",
    "\n",
    "not_necessary = ['real', 'beauty', 'bakery', 'gym', 'bar', 'lodging',\n",
    "                 'pc', 'cafe', 'church', 'store', 'restaurant']\n",
    "\n",
    "target = [\"20s\", \"50s\"]\n",
    "\n",
    "fig = make_subplots(1,2, horizontal_spacing=0.15, subplot_titles=[f\"{x}\" for x in target])\n",
    "\n",
    "for i, column in enumerate(target):\n",
    "    row, col = i//2 + 1, i%2 + 1\n",
    "    infectionRoute = pinfoANDroute.loc[:,column].fillna(0)\n",
    "    infectionRoute = infectionRoute / sum(infectionRoute)\n",
    "    infectionRoute = infectionRoute[not_necessary]\n",
    "    fig.add_trace(go.Bar(x=infectionRoute.values, y=infectionRoute.index,\n",
    "                         name=column, orientation='h'),row=row, col=col)\n",
    "    \n",
    "fig.update_layout(title=\"<b>20대와 50대의 불필요 방문지역</b>\",\n",
    "                  margin=dict(l=20, r=20, t=100, b=20),\n",
    "                  height=600, **layout_font)    \n",
    "\n",
    "fig.update_xaxes(title_text=\"<b>방문 비율</b>\")\n",
    "fig.update_yaxes(title_text=\"<b>방문 지역</b>\", row=1, col=1)\n",
    "\n",
    "fig.show()"
   ]
  },
  {
   "cell_type": "markdown",
   "metadata": {},
   "source": [
    "필수 방문지가 아닌 곳, `not necessary`에 방문한 비율을 구하여 비교하였습니다. 공통적으로 많이 방문하는 store과 church는 비슷한 양상을 보여주고 있습니다. 하지만, 20대는 restaurant, pc방, cafe, bar 등에서 훨씬 많은 방문비율을 확인할 수 있었습니다. \n",
    "\n",
    "이를 통해서 <span style=\"color:red\">20대는 활동 반경이 넓고 활발하며, 불필요한 방문 지역에 자주 방문</span>하는 것을 확인하였습니다. 이를 통해서 코로나에 더 쉽게 노출될 수 있을 것이라 판단하였습니다."
   ]
  },
  {
   "cell_type": "markdown",
   "metadata": {},
   "source": [
    "### 외부 자료 및 보도"
   ]
  },
  {
   "cell_type": "markdown",
   "metadata": {},
   "source": [
    "위의 결과 외에도, 서울대학교 보건대학원 유명순 교수팀이 지난달 25~27일간 한국리서치에 의뢰해 진행한 [‘코로나19국민 인식조사’를 분석결과](https://news.joins.com/article/23751923)에 따르면, <span style=\"color:red\">20대의 코로나 바이러스에 대한 인식이 매우 낮다는 결과</span>가 나왔습니다. \n",
    "\n",
    "그 뿐만 아니라, [4월 27일 질병관리본부에서 발표한 보도자료](https://www.cdc.go.kr/board/board.es?mid=a20501000000&bid=0015&list_no=367014&act=view)에 따르면 대구 확진자가 부산 클럽, 주점 및 숙박업소 등에 방문하며 143명의 접촉자가 발생했습니다.  \n",
    "\n",
    "또한, 강남과 홍대 클럽이 개장하며 길게 줄서있는 모습, [자가격리 중 매일 스타벅스 간 20대 서초구 36번 확진자](https://www.nocutnews.co.kr/news/5325329) 등을 보았을 때, 20대들의 코로나에 대한 경각심과 인식이 부족한 경향이있습니다."
   ]
  },
  {
   "cell_type": "markdown",
   "metadata": {},
   "source": [
    "---\n",
    "\n",
    "# Topic 2. 과연, COVID19는 누구에게 치명적일까?\n",
    "\n",
    "> 대부분의 사람들은 고연령층과 기저질환이 있는 사람들이 높은 사망률을 가지고 있다는 점은 모두 알고 있습니다. 하지만 정확히 어떤 연령대가 제일 취약하고 실제 기저질환을 가진 사람들이 어떠한 경로로 감염이 되는지, 사망률이 면역력(완치기간)과 연관이 있는지에 대한 부분은 알지 못합니다. 그래서 나이와 질병유무를 중심으로 환자 위험 요인에 대한 분석을 진행하였습니다. 이를 위해 연령별 완치기간과 치명률을 통해 알아보고, 세부적으로 사망원인을 파악하며 코로나 바이러스에 가장 취약한 집단을 도출하고자 이번 주제의 분석 작업을 진행하였습니다."
   ]
  },
  {
   "cell_type": "markdown",
   "metadata": {},
   "source": [
    "## 결론 및 요약\n",
    " \n",
    " COVID19 바이러스는 고연령일수록 완치기간과 사망률이 높습니다, 또한 거의 모든 사망자는 기저질환을 가지고 있었으며 그 중 호흡기계 질환(폐 질환)보다 다른 순환기계나 내분비계 기저질환을 앓고 있는 환자에게 더 높은 사망률을 보입니다.\n",
    "\n",
    "### 1. 나이가 많을 수록 완치 기간이 오래 걸린다? \n",
    "\n",
    "COVID19를 회복하기 까지의 기간은 평균 21일, 약 3주로 회복하기까지의 기간이 깁니다. 특히 <span style=\"color:red\">고연령층은</span> 다른 연령대에 비해 완치기간이 길었으며 이는 나이에 따른 면역력 차이라고 볼 수 있었습니다.\n",
    " \n",
    " 반대로 20대는 빠른 회복기간을 가진다는 것은 면역력이 높다는 것으로 예상할 수 있습니다. 또한, 20대의 경우 기존의 병력이 있는 경우가 드물고, 코로나가 합병증과 함께 사망으로까지 이어질 확률이 낮을 것입니다. \n",
    " \n",
    "### 2. 치명률과 사망원인을 알아보자.\n",
    "\n",
    "첫번째 치명률 분석을 통해 알 수 있었던 점은 4월 30일 기준으로 80대 이상 확진자의 치명률은 약 25%로 가장 높았습니다. 또한 치명률은 연령에 비례함을 알 수 있었습니다.\n",
    "\n",
    "두번째, 사망자를 파악해보니 거의 모두 기저질환을 가지고 있는 고연령층이었습니다. 총 247명의 사망자중 244명(98.8%)은 기저질환이 있는 환자였으며 흔히 알고 있는 페렴 환자에만 높은 사망률을 보일 뿐만 아니라 소화기계 질환, 순환기계 질환 등 다른 기저 질환을 앓고 있는 환자들의 사망률이 더 높았음을 알 수 있었습니다. 또한 사망자들의 53%는 병원 및 요양원에서 감염 되었음을 보아 고연령층이 자주 방문하는 병원내에서의 감염이 잘 된다는 것을 알 수 있었습니다.\n",
    "\n",
    "### 3. 해결방안\n",
    "\n",
    "노년층의 사망률을 줄이기 위해서는 확진자가 있는 병원의 방문을 삼가해야 합니다. 이를 위해 노년층을 대상으로 현재 확진자가 분포한 지역의 의료기관 및 요양시설에 대한 정보를 알기 쉽게 안내해 주는 알림 서비스 개발도 필요하다고 생각합니다. 또한 병원 및 요양 시설에 대한 방역 작업이 우선적으로 철저하게 이루워져야 노년층에게 치명적인 코로나 바이러스를 예방할 수 있으며 이에 따른 사망률을 줄일 수 있습니다."
   ]
  },
  {
   "cell_type": "code",
   "execution_count": null,
   "metadata": {},
   "outputs": [],
   "source": [
    "fig = make_subplots(1,2, horizontal_spacing=0.05, subplot_titles=['<b>연령별 누적 확진자수</b>', '<b>연령별 누적 사망자수</b>'])\n",
    "trace1 = px.bar(timeAge, x='date', y='confirmed',\n",
    "                 hover_data=['age'], color='age', )\n",
    "trace2 = px.bar(timeAge, x='date', y='deceased',\n",
    "                 hover_data=['age'], color='age', )\n",
    "\n",
    "for i in range(len(trace1['data'])):\n",
    "    trace2['data'][i].showlegend=False\n",
    "    fig.add_trace(trace1['data'][i], 1, 1)\n",
    "    fig.add_trace(trace2['data'][i], 1, 2)\n",
    "    \n",
    "\n",
    "fig.update_yaxes(title_text=\"<b>Number</b>\", row=1, col=1)\n",
    "fig.update_xaxes(title_text=\"<b>Date</b>\")\n",
    "\n",
    "fig.update_layout(title='<b>연령별 누적 추이 비교</b>', \n",
    "                  barmode='stack', **layout_font, height=600, width=900)\n",
    "fig.show()"
   ]
  },
  {
   "cell_type": "markdown",
   "metadata": {},
   "source": [
    "우선, 연령별로 확진 환자와 사망 환자의 분포 현황에 알아보기 위한 EDA를 진행했고 아래와 같은 연령별 확진자와 사망자 추이 결과를 알 수 있었습니다. 20대와 80대는 완전히 반대되는 성향을 보입니다. 20대는 확진 환자 수가 가장 많지만, 사망 환자는 단 한건도 없습니다. 반대로, 80대는 확진 환자 수는 적지만 사망 환자 수가 가장 많습니다. 또한 70대, 80대의 사망자 추이는 시간이 지날 수록 계속적으로 증가하는것을 볼 수 있습니다."
   ]
  },
  {
   "cell_type": "markdown",
   "metadata": {},
   "source": [
    " 그 다음은 환자 정보를 통해 연령대 별로 격리 중인 환자, 격리 해제된 환자 그리고 사망 환자에 대한 비교를 위한 작업을 하였습니다. \n",
    " \n",
    " #### 다음은 2020.01.23 - 2020.04.14 사이의 연령별 환자 상태 입니다."
   ]
  },
  {
   "cell_type": "code",
   "execution_count": null,
   "metadata": {},
   "outputs": [],
   "source": [
    "layout_setting = {'xaxis_title':'연령별','font':dict(size=18,color='#60606e',family='Franklin Gothic' )}\n",
    "\n",
    "fig = make_subplots(specs=[[{\"secondary_y\": True}]])\n",
    "fig.add_trace(go.Bar(x=released_.index, y=released_['count'],\n",
    "                    name='격리해제 환자'), secondary_y = False)\n",
    "fig.add_trace(go.Bar(x=isolated.index, y=isolated['count'],\n",
    "                    name='격리 환자'), secondary_y = False)\n",
    "fig.add_trace(go.Scatter(x=deceased.index, y=deceased['count'], \n",
    "                    mode='lines+markers', name='사망 환자', line=dict(\n",
    "                color=\"Green\",\n",
    "                width=2,\n",
    "            )), secondary_y=True)\n",
    "\n",
    "fig.update_layout(title='<b>연령별 환자 상태 (격리해제 환자/ 격리 환자 / 사망 환자)<b>', **layout_font, xaxis=dict(showgrid=False, zeroline=False),\n",
    "    yaxis=dict(showgrid=False, zeroline=False))\n",
    "\n",
    "fig.update_yaxes(title_text='<b>환자수</b>', secondary_y=False, tickfont=dict(size=8))\n",
    "fig.update_yaxes(title_text='<b>사망자수</b>', secondary_y=True, tickfont=dict(size=8))\n",
    "\n",
    "fig.show()"
   ]
  },
  {
   "cell_type": "markdown",
   "metadata": {},
   "source": [
    "확진환자 수는 20대에 가장 두드러지게 볼 수 있었으며, 사망자수는 80대에 가장 많았음을 알 수 있었습니다.\n",
    "가장 주목해서 볼 수 있었던 점은 70대부터 90대는 격리해제 환자보다 아직 격리중인 환자수가 더 많다는 사실을 볼 수 있었습니다.\n",
    "\n",
    "반대로 0대부대 50대는 격리해제 환자가 격리 환자보다 많았습니다. 이는 70대부터는 완치가 잘 되지 않고 격리 해제가 되기까지의 기간이 길기 때문에 격리 환자 수가 격리 해제 환자보다 많다라고 예상해 볼 수 있었습니다."
   ]
  },
  {
   "cell_type": "markdown",
   "metadata": {},
   "source": [
    "## 1.  나이가 많을 수록 완치기간이 더 오래걸린다?\n",
    "\n",
    " 코로나가 연령대 별로 얼마나 오랜 기간동안 완치되지 않은지에 대해 알아보고자 하였습니다. 더불어, 사망률이 코로나의 완치기간과 연관성이 있는가에 대한 의문점이 들었습니다. 완치기간은 '확진날짜(Confirmed date)'와 '격리 해제(Released date)'의 차이로 계산하였습니다.\n",
    "\n",
    " PatientInfo data에서 격리해제일과 확진판정일의 차이를 구해서 실제 나이가 많을 수록 면역력이 부족하기 때문에 격리 해제까지 기간이 오래 걸리는가에 대해 알아보았습니다. 우선 격리해제자인데 격리해제된일이 NaN인 사람, 즉 Null값을 가지고 있는 304명의 데이터는 제외하고 분석작업을 진행하였으며, 완치 기간의 평균을 구해 연령대별 평균 이상, 이하의 분포를 알아보았습니다."
   ]
  },
  {
   "cell_type": "markdown",
   "metadata": {},
   "source": [
    "### 1-1) 평균 완치기간 이상/이하 분포"
   ]
  },
  {
   "cell_type": "markdown",
   "metadata": {},
   "source": [
    "평균 완치기간은 21일, 최대 54일, 최소 0일이라는 결과가 나왔습니다. 그래서 21일을 기준으로 이상, 이하으로 분류하여 각 연령층의 비율을 알아보았습니다. \n",
    "\n",
    "아래의 그래프에서도 볼 수 있듯이 0대와 10대가 전반적으로 훨씬 빠르게 완치되는 것을 알 수 있습니다. 반대로 80, 90대 같은 경우 평균 완치기간을 넘는 환자 비율이 63.3%, 70%를 차지하였습니다. 또한 모든 연령은 평균 21일동안 코로나로 인한 질병을 앓았고, 코로나는 감기처럼 쉽게 낫는 질병이 아님을 알 수 있었습니다."
   ]
  },
  {
   "cell_type": "code",
   "execution_count": null,
   "metadata": {},
   "outputs": [],
   "source": [
    "fig = make_subplots(rows=1, cols=1, horizontal_spacing=0.03, vertical_spacing= 0.05)\n",
    "age_avg_released = age_avg_released.loc[list(reversed(age_avg_released.index))]\n",
    "\n",
    "fig.add_trace(go.Bar(x=age_avg_released.under_per, y=age_avg_released.age, name='빠른 완치 기간',\n",
    "                     orientation='h'))\n",
    "\n",
    "fig.add_trace(go.Bar(x=age_avg_released.over_per, y=age_avg_released.age, name='오랜 완치 기간',\n",
    "                     text=age_avg_released.over_per, texttemplate='%{x:.1%}', textposition='inside',\n",
    "                    textfont=dict(color='white'),\n",
    "                    orientation='h'))\n",
    "fig.update_layout(barmode='stack',\n",
    "                  paper_bgcolor='rgb(248, 248, 255)',\n",
    "                  plot_bgcolor='rgb(248, 248, 255)',\n",
    "                 )\n",
    "\n",
    "fig.update_layout(\n",
    "    title_text=\"<b>연령별 평균완치기간 이상/이하 비율 <b>\", **layout_font)\n",
    "    \n",
    "fig.update_xaxes(title_text=\"<b>비율</b>\")\n",
    "fig.update_yaxes(title_text=\"<b>연령</b>\")\n",
    "fig.show()"
   ]
  },
  {
   "cell_type": "markdown",
   "metadata": {},
   "source": [
    "### 1-2) 연령대별 평균 완치 기간\n",
    "\n",
    "고연령층의 확실한 완치 기간 비교를 위해 총 5개의 연령대와 연령층별로 나누어 비교해보았습니다. \n",
    "\n",
    "연령대 지표(한국보건사회 논문 참고)는 유아층은 0-9세, 청년층은 10-29세, 중년층은 30-49세, 장년층은 50-69세, 그리고 노년층은 70세 이상으로 분류하였습니다. 분석 결과 각 연령대 별로 완치 기간의 차이가 있었습니다.가장 눈에 띄는 것은 노년층이 확연히 다른 연령대층에 비해 완치기간이 길다라는 점을 볼 수 있스며 고연령층으로 갈수록 완치 기간이 길어지는 것 또한 볼 수 있었습니다."
   ]
  },
  {
   "cell_type": "code",
   "execution_count": null,
   "metadata": {},
   "outputs": [],
   "source": [
    "layout_setting = {'xaxis_title':'<b>연령대별</b>','yaxis_title':'<b>평균 완치기간</b>',\n",
    "                  'font':dict(size=18,color='#60606e',family='Franklin Gothic' )}\n",
    "\n",
    "fig = make_subplots(rows=1, cols=2, horizontal_spacing=0.15, vertical_spacing=0.05)\n",
    "\n",
    "fig.add_trace(go.Bar(x=age_class_mean['연령대'],y=age_class_mean['평균 완치기간'],\n",
    "                     marker=dict(color=DEFAULT_PLOTLY_COLORS2)), row=1,col=1)\n",
    "\n",
    "fig.add_trace(go.Bar(x=age_mean['연령'],y=age_mean['평균 완치기간'], \n",
    "                     marker=dict(color=DEFAULT_PLOTLY_COLORS2_2)\n",
    "                    ),row=1, col=2)\n",
    "\n",
    "fig.update_layout(title='<b>연령대별 / 연령별 평균 완치기간<b>', **layout_setting, showlegend=False)\n",
    "fig.update_yaxes( range=[15,25])\n",
    "\n",
    "fig.update_xaxes(title_text='<b>연령별</b>', row=1, col=2)\n",
    "fig.update_yaxes(title_text='<b>평균 완치기간</b>', row=1, col=2, range=[15,25])"
   ]
  },
  {
   "cell_type": "markdown",
   "metadata": {},
   "source": [
    "## 2. 치명률과 사망 환자 원인 분석"
   ]
  },
  {
   "cell_type": "markdown",
   "metadata": {},
   "source": [
    "### 2-1) 치명률 \n",
    "\n",
    "앞에서 고연령층의 높은 사망자수와 긴 완치기간을 확인할 수 있었습니다. 더 나아가 연령대 별로 얼마나 높은 치명률을 가지고 있는지 확진자 수 대비 사망률을 구하여 연령별의 정확한 치명률을 구하였습니다. 그리고 시간의 흐름에 따른 연령별 치명률을 알아보겠습니다.\n",
    "\n",
    "치명률  = 사망자수 / 확진자 수 *100\n",
    "\n",
    "<b> 단, 0대부터 20대(0살~29살) 까지 연령에는 사망자가 있지 않아 치명률 분석에서 제외하였습니다. </b>"
   ]
  },
  {
   "cell_type": "code",
   "execution_count": null,
   "metadata": {},
   "outputs": [],
   "source": [
    "layout_setting = {'xaxis_title':'<b>확진자 수</b>','yaxis_title':'<b>사망자 수(log)</b>',\n",
    "                  'font':dict(size=18,color='#60606e',family='Franklin Gothic' )}\n",
    "fig = px.scatter(timeAge, x=\"confirmed\", y=\"deceased\", \n",
    "                 animation_frame=\"date\", animation_group=\"age\",\n",
    "                 size=\"deathrate\", color=\"age\", hover_name=\"age\",\n",
    "                 log_x=False, size_max=100, range_x=[30,2000],\n",
    "                range_y=[0,3])\n",
    "\n",
    "fig[\"layout\"].pop(\"updatemenus\") \n",
    "fig.update_layout(title='<b>시간에 따른 연령별 치명률 변화<b>', **layout_setting, \n",
    "                   yaxis_type=\"log\",\n",
    "                  xaxis=dict(showgrid=False, zeroline=False),\n",
    "                  yaxis=dict(showgrid=False, zeroline=False))\n",
    "fig.show()"
   ]
  },
  {
   "cell_type": "markdown",
   "metadata": {},
   "source": [
    "질병관리본부에 따르면 2020년 02월 09일 첫 사망 사례 이후 4월 30일 0시 까지 총 247명의 사망자가 발생하였고, 우리나라의 치명률은 전국 확진자  (10,765명 대비) 2.29%입니다. \n",
    "\n",
    "기간에 따른 연령별 치명률을 보고자 2020/03/02부터 2020/04/30까지 기간의 timeAge.csv를 사용하였습니다. \n",
    "\n",
    "우선, 2020/03/02 부터 슬라이드를 보게 되면 70대와 80대의 치명률이 각각 3.7%, 3.1% 로 높지 않을 뿐만 아니라 고연령층 내의 차이가 크게 나지 않습니다.\n",
    "하지만 시간이 흐를수록 점차 80대의 치명률이 급격히 높아지며 2020/04/30 기준으로 80대 이상의 치명률은 24.3% 로써 4명중 1명은 사망했다고 할 수 있을 정도로 매우 높은 비율을 보여줍니다. 그 외 70대 10.4%, 60대 2.6%, 50대 0.8%, 40대 0.21%, 30대 0.17% 의 치명률의 차이를 볼 수 있습니다."
   ]
  },
  {
   "cell_type": "markdown",
   "metadata": {},
   "source": [
    "### 2-2) 사망자 원인 분석 "
   ]
  },
  {
   "cell_type": "markdown",
   "metadata": {},
   "source": [
    "PatientInfo.csv내 사망 환자 정보 60건의 질병의 유무가 사망에 큰 영향을 끼쳤는지 알아보았으나 PatientInfo내부의 질병 유무는 대부분 NAN값으로 되어있었습니다. 이를 뒷받침하기 위해 질병관리본부의 4월 30일자 브리핑 데이터를 가져와 질병유무를 정확하게 판단하였습니다.\n",
    "\n",
    "우선, PatientInfo 데이터에서 state가 deceased인 환자의 정보를 뽑아보니 총 60명의 사망자 정보가 나왔습니다. 존재하는 사망 환자 정보를 통해 사망 환자의 공통점과 차이점을 통해 원인을 찾아 보고자 하였습니다."
   ]
  },
  {
   "cell_type": "markdown",
   "metadata": {},
   "source": [
    "#### 기저질환을 앓고 있었던 사망자들"
   ]
  },
  {
   "cell_type": "markdown",
   "metadata": {},
   "source": [
    "1.  사망 환자를  탐색하던 중 사망 기간이 -1 인 데이터가 2건 있었습니다.\n",
    "\n",
    "    -1인 사망 환자를 뽑아 본 결과 사후판정 받은 청도 대남 병원 환자임을 확인할 수 있었습니다.\n",
    "    2건 모두 질병여부가 있었으며, 청도 대남 병원에서 각  2월 19일, 2월 21일에 사망하였습니다.\n",
    "\n",
    "    - 첫번째 사후 판정 사망자 : 청도 대남 정신병동에서 20년 넘게 질병을 치료 중이었던 페렴 환자(60대 남성) 였으며,  사망 후 코로나 사후확진 판정을 받았음을 확인하였습니다.\n",
    "\n",
    "    - 두번째 사후 판정 사망자 :  50대 여성 역시 페렴을 앓고 있었던 여성이며 , 대남 병원에 오래 입원해 있던 환자였습니다.  부산대 병원으로 이송되었지만 도착 직후 숨졌습니다.\n",
    "\n",
    "\n",
    "2.  두 명 사망자 외 청도 대남 병원에 총 7명의 사망환자가 있었으며, 모두 다음과 같은 공통점이 있었습니다.\n",
    "\n",
    "    - 50,60대의 장년층이라는 공통점.\n",
    "\n",
    "    - 본래 질병을 가진 중증환자라는 공통점. \n",
    "\n",
    "    - 확진후 평균 1.8일만에 사망했다는 공통점.\n",
    "    \n",
    "    \n",
    "3. 대구지역 20건, 경상북도 37건, 강원도 1건, 경기도 1건, 울산 1건 총 60명의 사망자의 공통점은 다음과 같습니다.\n",
    "\n",
    "    - 사망 환자들은 확진 판정후 평균 8일만에 사망하였으며 질병이 있는 환자들은 평균 2.5일만에 사망합니다.\n",
    "  \n",
    "    - 사망 환자 중 기저질환을 앓고 있었던 환자가 약 30%정도 있다는 것을 확인했을 때 기저질환을 앓고 있는 사람들이 사망률이 높다라는 결론을 내세우긴 조금 애매하였습니다. 그래서 질병관리본부 데이터를 활용해 사망자의 질병유무에 대한 근거를 뒷받침 하였습니다.\n"
   ]
  },
  {
   "cell_type": "code",
   "execution_count": null,
   "metadata": {},
   "outputs": [],
   "source": [
    "table = ff.create_table(deceased_60p[deceased_60p['disease']==True])\n",
    "plotly.offline.iplot(table) "
   ]
  },
  {
   "cell_type": "markdown",
   "metadata": {},
   "source": [
    "60명외 사망자에 관해 더 자세하게 알아보기 위해 질병관리본부 4월 30일자 브리핑 데이터를 가져와 사망 원인을 파악하였습니다."
   ]
  },
  {
   "cell_type": "markdown",
   "metadata": {},
   "source": [
    "#### 기저질환을 가지고 있었던 사망자 및 추정 감염경로"
   ]
  },
  {
   "cell_type": "markdown",
   "metadata": {},
   "source": [
    "첫번째 시각화는 사망자들이 가지고 있었던 기저질환의 종류를 알아보았습니다. \n",
    "기저질환을 가지고 있었던 사망자는 98.8%(약 99%)으로 압도적인 수치를 통해 다시 한번 기저질환을 가진 확진자는 사망률이 매우 높다는 사실을 인지하였습니다. 하지만, 기저질환을 가지지 않은 환자가 사망한 사례도 1건 존재하였습니다. 이를 통해 기저질환을 가지고 있지 않다고 하여도 사망할 수 있는 가능성은 존재함으로써 위험성을 잊어서는 안됩니다.\n",
    " 또한 사망자들이 모두 폐와 관련 기저질환을 앓고 있어 사망했을 것이다라고 생각하였으나 호흡 기계 질환보다 순한기계 질환을 앓고 있었던 사망자들이 76.9%로 3배이상 차이를 보이며 사망률과 더 밀접한 관련이 있음을 확인하였습니다. 다음은 시각화의 이해를 돕기 위해 해당 기저 질환의 세부 병명을 기재하였습니다.\n",
    "\n",
    "\n",
    "- 순한기계 질환 : 심근경색, 심부전, 뇌졸중, 고혈압 등\n",
    "- 내분비계 질환 : 당뇨병, 통풍, 쿠싱증후군 등\n",
    "- 정신 질환 : 치매, 조현병 등\n",
    "- 호흡 기계 질환 : 만성 패쇄성 폐 질환, 천식 등\n",
    "- 비뇨.생식 기계 질환 : 만성신장질환, 전립선질환 등\n",
    "- 악성신생물(암) : 폐암, 간암, 위암 등\n",
    "- 신경계 질환 : 피킨슨 병 등\n",
    "- 소화기계 질환 : 간경변증 등\n",
    "- 근골격게 질환 : 골다골증, 관절암 등\n",
    "- 혈액 및 조혈계 질환 : 원발성 혈소판증가증, 빈혈 등\n",
    "\n",
    "두번째 시각화는 사망자의 감염 경로를 나타내였습니다. 50%이상이 의료시설에서의 감염이 일어난 것을 보아 기존에 기저질환을 앓고 있던 환자가 병원을 이용하던 도중 확진자와 접촉하여 감염이 되었을 가능성이 큽니다. 이에 따라 기존 기저질환을 가진 환자들을 위해 확진자가 있는 병원은 이용을 막고, 기저질환을 가진 환자들과 기존 코로나 확진자들의 접촉을 최대한 막아야 사망률을 낮출 수 있을거라 생각합니다."
   ]
  },
  {
   "cell_type": "code",
   "execution_count": 2,
   "metadata": {
    "scrolled": true
   },
   "outputs": [
    {
     "ename": "NameError",
     "evalue": "name 'px' is not defined",
     "output_type": "error",
     "traceback": [
      "\u001b[1;31m---------------------------------------------------------------------------\u001b[0m",
      "\u001b[1;31mNameError\u001b[0m                                 Traceback (most recent call last)",
      "\u001b[1;32m<ipython-input-2-514a0d5b68f9>\u001b[0m in \u001b[0;36m<module>\u001b[1;34m\u001b[0m\n\u001b[1;32m----> 1\u001b[1;33m color = ['#FFFFFF', px.colors.sequential.Reds[3], px.colors.sequential.Reds[1], px.colors.sequential.Reds[1],\n\u001b[0m\u001b[0;32m      2\u001b[0m          \u001b[0mpx\u001b[0m\u001b[1;33m.\u001b[0m\u001b[0mcolors\u001b[0m\u001b[1;33m.\u001b[0m\u001b[0msequential\u001b[0m\u001b[1;33m.\u001b[0m\u001b[0mReds\u001b[0m\u001b[1;33m[\u001b[0m\u001b[1;36m1\u001b[0m\u001b[1;33m]\u001b[0m\u001b[1;33m,\u001b[0m \u001b[0mpx\u001b[0m\u001b[1;33m.\u001b[0m\u001b[0mcolors\u001b[0m\u001b[1;33m.\u001b[0m\u001b[0msequential\u001b[0m\u001b[1;33m.\u001b[0m\u001b[0mReds\u001b[0m\u001b[1;33m[\u001b[0m\u001b[1;36m1\u001b[0m\u001b[1;33m]\u001b[0m\u001b[1;33m,\u001b[0m \u001b[0mpx\u001b[0m\u001b[1;33m.\u001b[0m\u001b[0mcolors\u001b[0m\u001b[1;33m.\u001b[0m\u001b[0msequential\u001b[0m\u001b[1;33m.\u001b[0m\u001b[0mReds\u001b[0m\u001b[1;33m[\u001b[0m\u001b[1;36m1\u001b[0m\u001b[1;33m]\u001b[0m\u001b[1;33m,\u001b[0m\u001b[1;33m\u001b[0m\u001b[1;33m\u001b[0m\u001b[0m\n\u001b[0;32m      3\u001b[0m          px.colors.sequential.Reds[5], px.colors.sequential.Reds[3], px.colors.sequential.Reds[8]]\n\u001b[0;32m      4\u001b[0m \u001b[1;33m\u001b[0m\u001b[0m\n\u001b[0;32m      5\u001b[0m fig = make_subplots(1, 2, specs=[[{\"type\": \"xy\"}, {\"type\": \"domain\"}]], subplot_titles=['<b>기저질환 종류별 사망자(단위: 명/중복 포함)</b>', '<b>사망자의 추정 감염 경로(단위: 명)</b>'], \n",
      "\u001b[1;31mNameError\u001b[0m: name 'px' is not defined"
     ]
    }
   ],
   "source": [
    "color = ['#FFFFFF', px.colors.sequential.Reds[3], px.colors.sequential.Reds[1], px.colors.sequential.Reds[1],\n",
    "         px.colors.sequential.Reds[1], px.colors.sequential.Reds[1], px.colors.sequential.Reds[1],\n",
    "         px.colors.sequential.Reds[5], px.colors.sequential.Reds[3], px.colors.sequential.Reds[8]]\n",
    "\n",
    "fig = make_subplots(1, 2, specs=[[{\"type\": \"xy\"}, {\"type\": \"domain\"}]], subplot_titles=['<b>기저질환 종류별 사망자(단위: 명/중복 포함)</b>', '<b>사망자의 추정 감염 경로(단위: 명)</b>'], \n",
    "                      vertical_spacing=0.5)\n",
    "\n",
    "fig.add_trace(go.Bar(x=disease['기저질환 종류'],y=disease['Count'], \n",
    "                     marker=dict(color=px.colors.sequential.Emrld[4]),\n",
    "                    ),1,1)\n",
    "\n",
    "fig.add_trace(go.Sunburst(\n",
    "    labels=[\"전체 사망자 수\", \"시설 및 병원\", \"청도 대남 병원\", \"요양 병원\", \n",
    "               \"기타 의료기관\", \"요양원\", \"기타 사회복지 시설\", \"신천지 관련\", \"확진자 접촉\", \"조사중\"],\n",
    "    \n",
    "    parents=[\"\", \"전체 사망자 수\", \"시설 및 병원\", \"시설 및 병원\", \"시설 및 병원\", \"시설 및 병원\", \"시설 및 병원\", \n",
    "            \"전체 사망자 수\", \"전체 사망자 수\",\"전체 사망자 수\"],\n",
    "    values=[247, 132, 9, 64, 30, 20, 9, 26, 21, 68],\n",
    "    marker=dict(colors= color),\n",
    "    textinfo='label+value+percent entry',\n",
    "    branchvalues='total',\n",
    "   ),1,2) \n",
    "\n",
    "fig.update_layout(margin = dict(l=0, r=0, t=30, b=0), height = 500)\n",
    "fig.show()"
   ]
  },
  {
   "cell_type": "markdown",
   "metadata": {},
   "source": [
    "---\n",
    "\n",
    "# Topic 3. 수도권과 영남 지역의 신규 확진자 양상의 차이\n",
    "> 지역별 누적 확지자 추이가 지역별로 차이가 보이는 것을 확인하였습니다. 코로나에 취약한 지역적 특성이 어떤것이 있는지 확인해보고자 분석을 진행하였습니다. "
   ]
  },
  {
   "cell_type": "markdown",
   "metadata": {},
   "source": [
    "## 결론 및 요약\n",
    " 지역별로 확진자 수가 많은 영남지역과 수도권 지역의 확진자 양상을 비교 및 분석을 진행하였습니다. \n",
    "  \n",
    " ### 1. 지역별 확진자 증가 양상\n",
    " \n",
    " 영남지역은 신천지 사건을 중심으로 급격한 속도로 확진자가 증가하였습니다. 반면 수도권은 상대적으로 신천지 관련 환자가 적어 영남 지역에서 급격히 증가할때 증가 폭이 작았습니다. 대신 구로 콜센터 단체 감염으로 급격한 확진자 증가가 발생하였습니다. 그 이외에도 꾸준하게 확진자가 늘어가는 모습을 보였습니다. \n",
    " \n",
    "### 2. 수도권 지역의 꾸준한 신규 확진자 유입 원인\n",
    " \n",
    " 태블로의 세계 코로나 발병을 보면 미주와 유럽의 확진자가 3월 중순이후로 급격히 증가하는 것으로 볼 수 있습니다. 미국과 유럽 등에 코로나가 본격적으로 전파되기 시작한 3월 중순이후로 해외입국자가 많은 수도권의 확진자가 늘어나는 것을 알 수 있습니다. \n",
    " \n",
    " \n",
    "### 3. 해외 유입 감염자가 신규 감염자 위협적인가?\n",
    " \n",
    " 4월 14일에서 27일까지의 신규확진자 수의 비중을 보면, 해외 유입이 48.9%이고 집단 감염이 37.8%를 차지하고 있습니다. 해외 감염자 유입이 가장 높은 것을 확인할 수 있습니다. 하지만, 해외에서 입국하는 사람들은 해외에서 감염되서 들어온 것이므로 유입을 막기는 현실적으로 어렵습니다. 대신 입국시 공항에서 검사, 입국 후 자가격리, 해외 유입자 관리 등을 통해서 2차적인 감염을 막기위해 노력중입니다. 반면 집단 감염과 환자와의 접촉 등은 국민들 스스로 조심하고 경각심을 가지고 행동해야합니다. \n",
    " \n",
    " 따라서 조금씩 늘어나는 해외유입 감염자보다 신천지나 구로콜센터 등과 같은 집단 감염이 더 위협적이라고 생각판단하였습니다."
   ]
  },
  {
   "cell_type": "markdown",
   "metadata": {},
   "source": [
    "### 1. 지역별 신규 확진자 증가 양상"
   ]
  },
  {
   "cell_type": "code",
   "execution_count": null,
   "metadata": {},
   "outputs": [],
   "source": [
    "confirmed = pd.pivot_table(timeProvince, index='date',columns='province', values='confirmed')\n",
    "\n",
    "sub_title = ['수도권 지역','영남 지역','호서 지역','호남 지역','관동 지역']\n",
    "fig = make_subplots(rows=5,cols=1,\n",
    "                    subplot_titles=([f'<b>{prov}</b>' for prov in sub_title]),\n",
    "                    specs=[[{\"secondary_y\": True}],[{\"secondary_y\": True}],[{\"secondary_y\": True}],[{\"secondary_y\": True}],[{\"secondary_y\": True}]])\n",
    "\n",
    "provinces = [sudo, youngnam, honam, hosae, gandong]\n",
    "for i in range(5):\n",
    "    legend=False\n",
    "    if i==4:\n",
    "        legend=True\n",
    "        \n",
    "    # 지역 추출\n",
    "    df = pd.DataFrame(confirmed.loc[:,provinces[i]].sum(axis=1))\n",
    "    \n",
    "    # 그래프 만들기\n",
    "    fig.add_trace(go.Bar(name='신규 확진자', x=df.index, y=df.diff().fillna(0).sum(axis=1),\n",
    "                         marker=dict(color = DEFAULT_PLOTLY_COLORS[3]), showlegend=legend),\n",
    "                  secondary_y=False, row=i+1, col=1)\n",
    "    fig.add_trace(go.Scatter(name = '누적 확진자',x=df.index, y= df.sum(axis=1),\n",
    "                             marker=dict(color = DEFAULT_PLOTLY_COLORS[9]), showlegend=legend),\n",
    "                 secondary_y=True, row=i+1, col=1)\n",
    "\n",
    "fig.update_layout(title ='<b>지역별 신규 확진자와 누적 확진자 수<b>',\n",
    "                  height=1500,\n",
    "                  legend=dict(x=1.1, y=1.00, traceorder=\"normal\",font=dict(family=\"sans-serif\", size=14)),\n",
    "                  **layout_font)\n",
    "\n",
    "fig.update_yaxes(title_text='<b>신규 확진자 수</b>', secondary_y=False, tickfont=dict(size=12))\n",
    "fig.update_yaxes(title_text='<b>누적 확진자 수</b>', secondary_y=True, tickfont=dict(size=12))\n",
    "\n",
    "n=17\n",
    "fig.update_layout(xaxis=dict(showgrid=False, zeroline=False),\n",
    "                  yaxis=dict(titlefont=dict(size=n)),\n",
    "                  yaxis3=dict(titlefont=dict(size=n)),\n",
    "                  yaxis5=dict(titlefont=dict(size=n)),\n",
    "                  yaxis7=dict(titlefont=dict(size=n)),\n",
    "                  yaxis9=dict(titlefont=dict(size=n)),\n",
    "                  yaxis2=dict(titlefont=dict(size=n),showgrid=False, zeroline=False),\n",
    "                  yaxis4=dict(titlefont=dict(size=n),showgrid=False, zeroline=False),\n",
    "                  yaxis6=dict(titlefont=dict(size=n),showgrid=False, zeroline=False),\n",
    "                  yaxis8=dict(titlefont=dict(size=n),showgrid=False, zeroline=False),\n",
    "                  yaxis10=dict(titlefont=dict(size=n),showgrid=False, zeroline=False),)\n",
    "\n",
    "fig.show()"
   ]
  },
  {
   "cell_type": "markdown",
   "metadata": {},
   "source": [
    "수도권, 영남, 호서, 호남, 관동 지역에 대해서 신규 확진자와 누적 확진자 그래프를 그려 보았습니다. \n",
    "수도권에서 감염자 수가 급증한 2020.03.11은 03.08에 구로구 콜 센터 집단 감염 발생으로 인한 감염자(53명)가 생겼기기 때문입니다.\n",
    "\n",
    "영남에서 감염자 수가 급증한 2020.02.29은 대구에서 신천지 관련으로 집단감염자(741명)가 생겼기때문입니다.\n",
    "\n",
    "영남 지역과 그외의 지역은 31번 확진자 발생일(2월 18일) 이후인 2월 말부터 3월 초까지 확진자 수가 크게 증가하였습니다. 반면, 수도권 지역에서는 3월초 급격한 구로 콜센터 사건때 가장 크게 증가했습니다. 그 외에도 3월 말까지 꾸준하게 신규확진자가 늘어가는 추세임을 확인할 수 있습니다."
   ]
  },
  {
   "cell_type": "code",
   "execution_count": null,
   "metadata": {},
   "outputs": [],
   "source": [
    "# 그래프\n",
    "sub_title=[\"수도권과 영남 일단위 신규 확진자 규모\"]\n",
    "fig = make_subplots(rows=1, cols=1,\n",
    "                    subplot_titles=([f'<b>{prov}</b>' for prov in sub_title]))\n",
    "\n",
    "fig.add_trace(go.Bar(name='수도권', x=DailyTrned.index, y=DailyTrned.iloc[:,0],\n",
    "                     marker=dict(color = '#835AF1'), showlegend=legend), row=1, col=1)\n",
    "fig.add_trace(go.Bar(name='영남', x=DailyTrned.index, y=DailyTrned.iloc[:,1],\n",
    "                     showlegend=legend),row=1,col=1)\n",
    "\n",
    "\n",
    "fig.update_traces( opacity=0.75)\n",
    "fig.update_layout(barmode='overlay', **layout_font)\n",
    "fig.update_xaxes(title_text='<b>Date</b>')\n",
    "fig.update_yaxes(title_text='<b>Scale</b>')\n",
    "fig.show()"
   ]
  },
  {
   "cell_type": "markdown",
   "metadata": {},
   "source": [
    "확진자가 가장 많은 수도권과 영남지역의 신규 확진자 규모를 비교한 그래프입니다. 확인하게 다른 양상을 확인할 수 있습니다. 왜 증가하는 시기가 다른지 그 원인이 무엇인지 확인해 보았습니다."
   ]
  },
  {
   "cell_type": "markdown",
   "metadata": {},
   "source": [
    "### 2. 수도권과 영남지역의 신규 확진자 발생 원인 비교"
   ]
  },
  {
   "cell_type": "markdown",
   "metadata": {},
   "source": [
    "patientinfo 데이터를 활용하여 각 기간별, 지역별 신규 확진자 발생 원인을 확인해보았습니다.\n",
    "\n",
    "신천지 사건당시 환자 정보와 감염 경로 데이터를 공개하지 않았습니다. 알 수 없는 경로의 대부분과 Nan으로 처리된 데이터를 신천지로 인한 감염으로 보고 분석을 하였습니다."
   ]
  },
  {
   "cell_type": "code",
   "execution_count": null,
   "metadata": {},
   "outputs": [],
   "source": [
    "patientInfo = pd.read_csv('PatientInfo.csv')\n",
    "\n",
    "# Nan으로 되어 있는 것 None으로 변경\n",
    "patientInfo = patientInfo.fillna('None')\n",
    "\n",
    "# 케이스 카테고리화\n",
    "church=['Onchun Church','Dongan Church','River of Grace Community Church','Geochang Church','Pilgrimage to Israel']\n",
    "nurshing=['Gyeongsan Seorin Nursing Home',\"Eunpyeong St. Mary's Hospital\",'Bonghwa Pureun Nursing Home','Milal Shelter','Suyeong-gu Kindergarten','Gyeongsan Jeil Silver Town','Cheongdo Daenam Hospital','Gyeongsan Cham Joeun Community Center']\n",
    "gym=['gym facility in Sejong','gym facility in Cheonan']\n",
    "etc=['Changnyeong Coin Karaoke','Seongdong-gu APT', 'etc']\n",
    "work = ['Guro-gu Call Center','Ministry of Oceans and Fisheries']\n",
    "shincheonji = ['Shincheonji Church', 'None']\n",
    "\n",
    "category_name = ['Church related','Nurshing related', 'Gym related', 'ETC', 'Workplace related', 'Shincheonji Church']\n",
    "for i,category in enumerate([church, nurshing, gym, etc, work, shincheonji]):\n",
    "    patientInfo.infection_case = patientInfo.infection_case.replace(category, category_name[i])\n",
    "    \n",
    "# 지역별로 분류해서 그래프 만들기\n",
    "sub_title=[\"수도권 지역\", \"영남 지역\"]\n",
    "fig = make_subplots(rows=1, cols=2,\n",
    "                    specs=[[{'type':'domain'},{'type':'domain'}]],\n",
    "                   subplot_titles=([f'<b>{prov}</b>' for prov in sub_title]))\n",
    "\n",
    "province_name = [sudo, youngnam]\n",
    "for i, province in enumerate(province_name):\n",
    "    row=1\n",
    "    if i==1:\n",
    "        col=2\n",
    "    else:\n",
    "        col=1\n",
    "\n",
    "    df = pd.DataFrame()\n",
    "    for city_name in province:\n",
    "        sub = patientInfo[(patientInfo.confirmed_date >='2020-02-25')&(patientInfo.confirmed_date <='2020-03-09')&\n",
    "                          (patientInfo.province==city_name)]\n",
    "        df = pd.concat([df,sub],ignore_index=True)\n",
    "    df = pd.pivot_table(df, index='confirmed_date', columns='infection_case',values='patient_id',aggfunc='count').ffill().fillna(0).cumsum()\n",
    "    fig.add_trace(go.Pie(labels=list(df.columns), values=df.iloc[-1,:].values.tolist()), row=row, col=col)\n",
    "\n",
    "fig.update_traces(textinfo=\"percent\")\n",
    "fig.update_layout(title='<b>2월20일부터 3월9일까지의 감염경로</b>',\n",
    "                  font = layout_setting['font'],\n",
    "                  width = 1000, height=600,\n",
    "                  legend=dict(x=1.1, y=0.3, traceorder=\"normal\",\n",
    "                             font=dict(family=\"sans-serif\", size=15)),\n",
    "                 margin=dict(b=0))\n",
    "fig.show()"
   ]
  },
  {
   "cell_type": "markdown",
   "metadata": {},
   "source": [
    "2월 20일부터 3월 9일까지의 감염 경로를 보았을때, 영남 지역에서 신천지로 인한 감염자의 비율이 62.7%로 압도적으로 높은 것을 볼 수 있었습니다. 대구 신천지 집단 감염의 발생의 영향인 것으로 생각할 수 있습니다. 반면 수도권 지역은 확진 환자 접촉으로 인한 확진자 비율이 높은 것을 확인할 수 있습니다."
   ]
  },
  {
   "cell_type": "code",
   "execution_count": null,
   "metadata": {},
   "outputs": [],
   "source": [
    "patientInfo = pd.read_csv('PatientInfo.csv')\n",
    "\n",
    "# Nan으로 되어 있는 것 None으로 변경\n",
    "patientInfo = patientInfo.fillna('None')\n",
    "\n",
    "# 케이스 카테고리화\n",
    "church=['Onchun Church','Dongan Church','River of Grace Community Church','Geochang Church','Pilgrimage to Israel']\n",
    "nurshing=['Gyeongsan Seorin Nursing Home',\"Eunpyeong St. Mary's Hospital\",'Bonghwa Pureun Nursing Home','Milal Shelter','Suyeong-gu Kindergarten','Gyeongsan Jeil Silver Town','Cheongdo Daenam Hospital','Gyeongsan Cham Joeun Community Center']\n",
    "gym=['gym facility in Sejong','gym facility in Cheonan']\n",
    "etc=['Changnyeong Coin Karaoke','Seongdong-gu APT', 'etc']\n",
    "work = ['Guro-gu Call Center','Ministry of Oceans and Fisheries']\n",
    "shincheonji = ['Shincheonji Church', 'None']\n",
    "\n",
    "category_name = ['Church related','Nurshing related', 'Gym related', 'ETC', 'Workplace related', 'Shincheonji Church']\n",
    "for i,category in enumerate([church, nurshing, gym, etc, work, shincheonji]):\n",
    "    patientInfo.infection_case = patientInfo.infection_case.replace(category, category_name[i])\n",
    "    \n",
    "# 지역별로 분류해서 그래프 만들기\n",
    "sub_title=[\"수도권 지역\", \"영남 지역\"]\n",
    "fig = make_subplots(rows=1, cols=2,\n",
    "                    specs=[[{'type':'domain'},{'type':'domain'}]],\n",
    "                   subplot_titles=([f'<b>{prov}</b>' for prov in sub_title]))\n",
    "\n",
    "province_name = [sudo, youngnam]\n",
    "for i, province in enumerate(province_name):\n",
    "    row=1\n",
    "    if i==1:\n",
    "        col=2\n",
    "    else:\n",
    "        col=1\n",
    "\n",
    "    df = pd.DataFrame()\n",
    "    for city_name in province:\n",
    "        sub = patientInfo[(patientInfo.confirmed_date >='2020-03-10')&(patientInfo.confirmed_date <='2020-04-03')&\n",
    "                          (patientInfo.province==city_name)]\n",
    "        df = pd.concat([df,sub],ignore_index=True)\n",
    "    df = pd.pivot_table(df, index='confirmed_date', columns='infection_case',values='patient_id',aggfunc='count').ffill().fillna(0).cumsum()\n",
    "    fig.add_trace(go.Pie(labels=list(df.columns), values=df.iloc[-1,:].values.tolist()), row=row, col=col)\n",
    "\n",
    "fig.update_traces(textinfo=\"percent\")\n",
    "fig.update_layout(title='<b>3월 10일부터 4월 3일까지의 감염경로</b>',\n",
    "                  font = layout_setting['font'],\n",
    "                  width = 1000, height=600,\n",
    "                  legend=dict(x=1.1, y=0.3, traceorder=\"normal\",\n",
    "                             font=dict(family=\"sans-serif\", size=15)),\n",
    "                  margin=dict(b=0))\n",
    "fig.show()"
   ]
  },
  {
   "cell_type": "markdown",
   "metadata": {},
   "source": [
    "3월 10일 부터 4월 3일까지의 신규 확진자 감염 경로를 파악해보았습니다.\n",
    "\n",
    "영남지역은 신천지 관련 신규 확진자 발생의 비중이 줄어든 것을 확인할 수 있습니다.\n",
    "\n",
    "수도권의 경우 여전히 환자와의 접촉이 가장 큰 감염 경로입니다. 하지만, 5% 정도였던 해외유입 확진자의 비중이 32.5%로 급격하게 늘어난 것을 확인할 수 있습니다.\n",
    "\n",
    "이를 통해서 지역별 확진자 증가 원인이 차이가 있는 것을 확인할 수 있습니다."
   ]
  },
  {
   "cell_type": "code",
   "execution_count": null,
   "metadata": {},
   "outputs": [],
   "source": [
    "# case = pd.read_csv('Case.csv')\n",
    "dfs = []\n",
    "for province in [sudo, youngnam]:\n",
    "    df = pd.DataFrame()\n",
    "    for city in province:\n",
    "        df = pd.concat([df, case[case.province==city]])\n",
    "    df = pd.pivot_table(df, columns='infection_case', values='confirmed', aggfunc='sum')\n",
    "    dfs.append(df)\n",
    "    \n",
    "provinces=[\"수도권 지역\", \"영남 지역\"]\n",
    "fig = make_subplots(rows=1, cols=2,\n",
    "                    horizontal_spacing=0.03,\n",
    "                    specs=[[{'type':'domain'}, {'type':'domain'}]],\n",
    "                   subplot_titles=([f'<b>{prov}</b>' for prov in provinces]))\n",
    "rotation=[0,-75]\n",
    "for i,df in enumerate(dfs):\n",
    "    df = df.sort_values(by='confirmed', axis=1, ascending=False)\n",
    "    etc = df.iloc[:,6:].sum(axis=1).values[0]\n",
    "    df = df.iloc[:,:6]\n",
    "    df['etc'] = etc\n",
    "    fig.add_trace(go.Pie(labels=list(df.columns), values=df.values[0].tolist(),rotation=rotation[i]), row=1, col=i+1)\n",
    "\n",
    "fig.update_layout(title='<b>수도권과 영남지역의 확진자 감염 경로 비율</b>',\n",
    "                  font = layout_setting['font'], height=400,\n",
    "                  legend=dict(x=1., y=0.0, traceorder=\"normal\",\n",
    "                             font=dict(family=\"sans-serif\", size=15)))\n",
    "fig.show()"
   ]
  },
  {
   "cell_type": "markdown",
   "metadata": {},
   "source": [
    "전체 감염경로별 확진자를 보았을때, 수도권 지역은 감염자 접촉과 해외유입으로 인한 감염자가 많았고 영남지역은 신천지로인한 감염자가 많다는 것을 볼 수 있었습니다.\n",
    "\n",
    "영남 지역에서 감염 경로별 확진자 추이는 같이 증가하는 모습을 보이지만 수도권 지역에서는 3월 중순부터 뒤늦게 해외유입으로인한 감염자가 증가하고 있는 것을 볼 수 있습니다."
   ]
  },
  {
   "cell_type": "code",
   "execution_count": null,
   "metadata": {},
   "outputs": [],
   "source": [
    "# 날짜 맞추기 => x 축 맞추기\n",
    "latest_date = []\n",
    "oldest_date=[]\n",
    "province_name = [sudo, youngnam]\n",
    "for province in province_name:\n",
    "    dates=[]\n",
    "    for city in province:\n",
    "        dates += list(set(patientInfo[patientInfo.province==city].confirmed_date))\n",
    "    latest_date.append(max(dates))\n",
    "    oldest_date.append(min(dates))\n",
    "period = [max(oldest_date),min(latest_date)]\n",
    "\n",
    "# columns(항목 8개)\n",
    "all_columns = ['contact with patient', 'ETC', 'Nurshing related', 'Workplace related',\n",
    "               'overseas inflow', 'Shincheonji Church', 'Church related', 'Gym related']\n",
    "\n",
    "\n",
    "sub_title=[\"수도권 지역\", \"영남 지역\"]\n",
    "fig = make_subplots(rows=2, cols=1,\n",
    "                    subplot_titles=([f'<b>{prov}</b>' for prov in sub_title]))\n",
    "\n",
    "province_name = [sudo, youngnam]\n",
    "for i, province in enumerate(province_name):\n",
    "    row = i+1\n",
    "    col = 1\n",
    "    legend=False\n",
    "    if i==1:\n",
    "        legend=True\n",
    "        \n",
    "    # 지역분류\n",
    "    df = pd.DataFrame()\n",
    "    for city_name in province:\n",
    "        sub = patientInfo[(patientInfo.confirmed_date >=period[0])&(patientInfo.confirmed_date <=period[1])&\n",
    "                          (patientInfo.province==city_name)]\n",
    "        df = pd.concat([df,sub],ignore_index=True)\n",
    "    df = pd.pivot_table(df, index='confirmed_date', columns='infection_case',values='patient_id',aggfunc='count').ffill().fillna(0).cumsum()\n",
    "    \n",
    "    # 없는 항목 0으로 채우기\n",
    "    need_column = set(all_columns) - set(df.columns)\n",
    "    for name in need_column:\n",
    "        df[name] = 0\n",
    "        \n",
    "    # 그래프\n",
    "    for i,name in enumerate(all_columns):\n",
    "        fig.add_trace(go.Scatter(x=df.index, y=df[name],\n",
    "                                 marker=dict(color = DEFAULT_PLOTLY_COLORS[i]),\n",
    "                                 mode='lines', name=name, showlegend=legend), row=row, col=col)   \n",
    "\n",
    "\n",
    "fig.update_layout(title='<b>수도권과 영남지역의 누적 확진자 감염 경로</b>',\n",
    "                  font = layout_setting['font'],\n",
    "                  width = 1000, height=700,\n",
    "                  legend=dict(x=1., y=1.0, traceorder=\"normal\",\n",
    "                             font=dict(family=\"sans-serif\", size=15)))\n",
    "\n",
    "fig.show()"
   ]
  },
  {
   "cell_type": "code",
   "execution_count": null,
   "metadata": {},
   "outputs": [],
   "source": [
    "scaler = MinMaxScaler()\n",
    "dailyConfirmed = confirmed.diff().fillna(0)\n",
    "confirmedSudo = dailyConfirmed[sudo].sum(axis=1)\n",
    "confirmedYNam = dailyConfirmed[youngnam].sum(axis=1)\n",
    "SudoYMam = pd.concat([confirmedSudo, confirmedYNam], axis=1)\n",
    "DailyTrned = pd.DataFrame(scaler.fit_transform(SudoYMam), index=SudoYMam.index)\n",
    "\n",
    "who = pd.read_csv('WHO-COVID-19-global-data.csv')\n",
    "# 미국\n",
    "who[who['Country Name']=='United States of America']\n",
    "us = who[who.Country=='US']\n",
    "us.set_index('day', drop=True, inplace=True)\n",
    "\n",
    "# 유럽\n",
    "euro = pd.DataFrame()\n",
    "eu_country = ['Spain','Italy','The United Kingdom','Germany','France','Turkey']\n",
    "for name in eu_country:\n",
    "    euro = pd.concat([euro,who[who['Country Name']==name]])\n",
    "euro = pd.pivot_table(euro,index='day', aggfunc='sum')\n",
    "\n",
    "\n",
    "\n",
    "# 그래프\n",
    "sub_title=[\"수도권 일단위 신규 확진자 규모\", \"미국과 유럽 코로나 누적 확진자 수\"]\n",
    "fig = make_subplots(rows=1, cols=1,\n",
    "                    subplot_titles=([f'<b>{prov}</b>' for prov in sub_title]),\n",
    "                   specs=[[{\"secondary_y\": True}]])\n",
    "\n",
    "fig.add_trace(go.Bar(name='수도권', x=DailyTrned.index, y=DailyTrned.iloc[:,0],\n",
    "                     marker=dict(color = '#835AF1'), showlegend=legend), row=1, col=1, secondary_y=False)\n",
    "\n",
    "fig.add_trace(go.Scatter(x=us.index,y=us['Cumulative Confirmed'],\n",
    "             mode='lines+markers', name='미국'),row=1,col=1, secondary_y=True)\n",
    "fig.add_trace(go.Scatter(x=euro.index,y=euro['Cumulative Confirmed'],\n",
    "             mode='lines+markers', name='유럽'),row=1,col=1, secondary_y=True)\n",
    "\n",
    "\n",
    "fig.update_traces( opacity=0.75)\n",
    "fig.update_layout(barmode='overlay', **layout_font)\n",
    "fig.update_xaxes(title_text='<b>Date</b>')\n",
    "fig.update_yaxes(title_text='<b>Scale</b>')\n",
    "\n",
    "fig.update_xaxes(title_text='<b>Date</b>')\n",
    "fig.update_yaxes(title_text='<b>Confirmed</b>', secondary_y=True)\n",
    "\n",
    "fig.update_layout(yaxis2=dict(showgrid=False, zeroline=False),\n",
    "                  yaxis4=dict(showgrid=False, zeroline=False),\n",
    "                  yaxis6=dict(showgrid=False, zeroline=False),\n",
    "                  yaxis8=dict(showgrid=False, zeroline=False),\n",
    "                  yaxis10=dict(showgrid=False, zeroline=False),)\n",
    "\n",
    "\n",
    "fig.show()"
   ]
  },
  {
   "cell_type": "markdown",
   "metadata": {},
   "source": [
    "WHO의 코로나 데이터를 참고하였을때, 3월 중순부터 미국과 유럽 등 해외에 코로나 확진자가 증가하는 것을 볼 수 있었습니다. 이를 보았을때, 3월 중순부터 해외에서 입국한 사람들의 코로나 감염률이 높아져 해외유입으로 인한 감염자 수가 증가하여 해외유입인구가 가장 많은 수도권의 신규확진자가 지속적으로 많이 나왔다고 볼 수 있었습니다."
   ]
  },
  {
   "cell_type": "markdown",
   "metadata": {},
   "source": [
    "### 3. 해외 유입 확진자 위협적인가?\n",
    "\n",
    "\n",
    "2020.04.14부터 2020.04.27동안 질병관리본부에서 발표한 보도자료에서 추출하여 감염경로를 살펴 보았습니다."
   ]
  },
  {
   "cell_type": "code",
   "execution_count": null,
   "metadata": {},
   "outputs": [],
   "source": [
    "provinces=[\"수도권 지역\", \"영남 지역\",\"전국\"]\n",
    "fig = make_subplots(rows=1, cols=3,\n",
    "                    specs=[[{'type':'domain'}, {'type':'domain'}, {'type':'domain'}]],\n",
    "                   subplot_titles=([f'<b>{prov}</b>' for prov in provinces]))\n",
    "\n",
    "index=list(total.columns[:-1])\n",
    "fig.add_trace(go.Pie(labels=index, values=total.iloc[0,:].tolist()), row=1, col=1)\n",
    "fig.add_trace(go.Pie(labels=index, values=total.iloc[1,:].tolist()), row=1, col=2)\n",
    "fig.add_trace(go.Pie(labels=index, values=total.sum().tolist()), row=1, col=3)\n",
    "\n",
    "fig.update_traces(textinfo=\"percent+label\", textposition=\"inside\")\n",
    "fig.update_layout(title='<b>4월14일부터 4월27일동안의 감염 경로</b>',\n",
    "                  font = layout_setting['font'],\n",
    "                  height=500, font_size=14, legend_orientation=\"h\",\n",
    "                  legend=dict( traceorder=\"normal\", \n",
    "                             font=dict(family=\"sans-serif\", size=15))) "
   ]
  },
  {
   "cell_type": "markdown",
   "metadata": {},
   "source": [
    "해외 유입 감염자 수가 뒤늦게 증가하여 최근 이슈화가 되고 있어 신규 감염자의 대부분이 해외유입으로 인한 감염자일 것이라고 생각하였습니다. 하지만 수도권만 해외유입으로 인한 확진자가 다수를 이루었고 그 외 지역에서는 해외유입보다는 집단감염이 더 큰 비중을 차지하였습니다. 최근 2주동안 신규 확진자의 총 수를 보았을 때, 해외유입 감염자 57명, 집단감염자 49명으로 이 두 사례가 신규확진자 증가에 영향을 끼친다는 것을 알 수 있었습니다.\n",
    "\n",
    "해외 유입 감염자로 인한 확진자 증가는 공항에서 1차적인 검사와 입국 후 2주간의 자가격리 및 환자 관리 통해서 국가에서 확산 방지를 위한 노력이 더 중요합니다. 하지만, 국내에서 발생되는 집단 감염의 경우, 국가에서 확산 방지를 위해 직접적인 노력이 어렵습니다. 집단 감염은 대한민국 국민들이 다 함께 노력해서 감염되지 않기 위한 노력에 적극 참여해야 막을 수 있습니다."
   ]
  },
  {
   "cell_type": "markdown",
   "metadata": {},
   "source": [
    "---\n",
    "# Topic 4. Logistic Function과 Linear Regression을 통한 확진자 수 예측\n",
    "\n",
    "누적 확진자 수의 양상을 파악하고 예측하기 위해서 로지스틱 함수와 선형회귀 분석을 통해서 확진자 수를 확인해보고 예측을 진행하였습니다. 대표적인 한국, 중국, 이탈리아, 미국의 누적 확진자 수의 방향을 예측해보았습니다.\n",
    "\n",
    "더 나아가 신천지 집단 감염이후 급격하게 증가하는 확진자수가 증가하는 것을 고려하여, 만약 신천지 사태가 발생하지 않았다면 한국의 확진자 수가 어떻게 되었을지 예측해보았습니다."
   ]
  },
  {
   "cell_type": "markdown",
   "metadata": {},
   "source": [
    "## 결론 및 요약\n",
    "\n",
    "로지스틱 함수와 선형회귀를 통해 확진자 증가 양상과 종식을 예측해 보았습니다. 그 중 특징적인 4개의 국가의 코로나 확진자 추세를 예측해보았고, 더 나아가 신천지 집단 감염이 없었을 경우를 예측해보았습니다.\n",
    "\n",
    "### 1. 중국, 한국, 이탈리아, 미국 확진자 수 예측하기\n",
    "현재 한국과 중국은 소강상태에 가깝고 종식으로 이어질 것으로 예측할 수 있습니다. 반면, 이탈리아와 미국은 여전히 확진자가 증가하는 방향임을 예측할 수 있습니다. \n",
    "\n",
    "### 2.신천지 집단 감염이 일어나지 않았다면?\n",
    "<span style=\"color:red\">신천지 이전 기간을 통해 예측한 결과 확진자가 거의 증가하지 않는 소강 상태로 갈 것이라고 예측</span>이 되었습니다. 하지만 코로나 집단 감염 발생으로 완전히 다른 그래프 양상을 보이며 급격히 증가하였습니다. 이를 보았을때 신천지 대규모 감염이 발생하지 않았다면 이렇게 많은 확진자가 발생하지 않았을 것이며, 한국은 지금보다 일찍 코로나 종식에 가까워졌을 것이라 예상할 수 있습니다.\n",
    "\n",
    "\n",
    "따라서, <span style=\"color:red\">신천지 사태와 같은 예상치 못한 대규모 집단 감염이 발생하지 않도록 완전 종식까지 긴장을 늦추지 않고 경계</span>해야합니다. 한 확진자가 대규모 감염을 발생시킬 수 있으며, 이는 곧 전국적인 확산으로 퍼질 수 있습니다. 코로나 증가추세가 꺽인 현재의 한국과 중국은 코로나 종식까지 철저한 위생관리 및 방역활동을 진행해야하며, 사회적 거리두기를 지속해야 합니다. 사회적 거리두기가 끝나더라도 <span style=\"color:red\">완전 종식이 될 때까지, 단체활동을 줄이고 불필요한 접촉 및 외출을 최소화</span>해야합니다. "
   ]
  },
  {
   "cell_type": "markdown",
   "metadata": {},
   "source": [
    "## 1. 모델 설명 및 선정 이유"
   ]
  },
  {
   "cell_type": "code",
   "execution_count": null,
   "metadata": {},
   "outputs": [],
   "source": [
    "# 기본 설정\n",
    "WHO_Data = pd.read_csv('WHO-COVID-19-global-data.csv', header=0,\n",
    "                      names=['Date', 'Country Code', 'Country', 'Region', 'Daily Deaths', 'Deaths', 'Daily Confirmed', 'Confirmed'])\n",
    "WHO_Data['Date'] = WHO_Data['Date'].apply(pd.Timestamp)\n",
    "WHO_Data.drop(['Country Code', 'Region'], axis=1, inplace=True)"
   ]
  },
  {
   "cell_type": "markdown",
   "metadata": {},
   "source": [
    "#### 예측 방향\n",
    "앞서 분석했던 방향에 맞추어 더 자세한 예측(감염 경로 예측, 사망 원인 예측, 기저질환 예측 등)을 진행하고자 하였으나, 급격한 전염병 증가로 인하여 자세하게 정확하게 정리된 데이터를 구하기가 어려었습니다. 게다가, 결측치나 기타로 분류된 파악 불가능한 데이터들도 많아 한계가 많아 예측의 정확성 및 근거가 부족할 것이라고 판단했습니다. 그리하여, 결측치가 없고 가장 정리가 잘 된 확진자 수 데이터를 통해서 앞으로의 증가 방향성을 예측해 보기로 결정하였습니다.\n",
    "\n",
    "#### 로지스틱 그래프 설명\n",
    "기본적인 logistic curve의 모양은 sigmoid curve 모양과 같고 수식은 다음과 같습니다.\n",
    "\n",
    "$$f (x) = \\frac{L}{1+e^{-k(x-x_0)}}$$\n",
    "\n",
    "자연 발생의 증가는 지수함수적으로(exponentialy)증가하지만, 실제 현실에서는 최대 증가치가 정해져 있으므로 특정 값으로 수렴하게됩니다. 이러한 특성을 로지스틱 함수(Logistic Curve)가 이를 잘 나타냅니다. 실제로 많은 감염병 예측이나 자연발생 증가에 대한 연구에 많이 사용되는 방식입니다. 그리하여 확진자 증가 방향 예측에 유용할 것이라 판단했습니다.\n",
    "\n",
    "로지스틱 그래프의 특성상 최종적으로는 특정 값에 수렴하는 형태를 가집니다. 그리하여 아래 그래프와 같이 예측한 확진자 수 그래프와 실제 확진자 수 그래프가 같이 수평한 모습을 보이며 수렴해 간다면, 확진자 수가 거의 나오지 않는 소강상태에 접어든 것으로 판단할 수 있습니다. 예측과 다르게 수렴하지 않고 실제값이 위로 향하고 있다면 아직 확진자가 증가하는 추세로 확인할 수 있습니다.\n",
    "\n",
    "로지스틱 함수의 초기값 L, k, x0은 curve fit을 통해서 적절한 값을 다시 찾을 것이므로 다음과 같이 대략적으로 값을 설정하였습니다. \n",
    "2월 18일 신천지 31번 확진자가 발생하기 이전인 2월 17일 이전의 중국 확진자 데이터를 바탕으로 로지스틱 함수의 파라미터를 설정하였습니다.\n",
    "\n",
    "L : 최대 확진자수 : 17일 전까지의 중국 확진자 수 사용\n",
    "\n",
    "k : Growth Rate : 중국과 세계의 Growth Rate 평균 값 사용\n",
    "\n",
    "중국은 이제 급격히 증가하는 단계이고 다른 세계 국가들은 이제 초기 단계이므로 평균값을 사용하였습니다.\n",
    "\n",
    "x0 : mid point : 최대 확진자수에 이르기 까지의 중간 지점\n",
    "\n",
    "#### 선형회귀 그래프 설명\n",
    "전체적인 확진자 수에대해 log를 취해서 전반적인 증가 추세를 선형회귀로 확인할 수 있습니다. 하지만, 저희는 최근 n일 간의 확진자 수를 통해서 선형회귀 선의 기울기를 통해서 최근 n일 동안의 확진자 증가 트렌드와 증가 속도를 확인하였습니다. n일 까지의 선형회귀 선의 기울기 보다 n일 이후의 데이터가 낮은 기울기를 가지는 모습을 보인다면 점차 확진자수 증가세가 줄어든 것을 의미합니다. 반대로 큰 값을 가지는 경우 더욱 빠르게 확진자 수가 증가하는 것을 의미합니다. \n",
    "\n",
    "로지스틱 함수를 따라 줄어드는 모습을 보인다면 점차 소강상태에 가까워지는 것을 의미하며, 선형회귀 선을 따라 증가하면, 증가추세가 이어지고 있는 것을 의미합니다. 만일 선형회귀 선보다 더 가파른 기울기를 보인다면, 코로나 신규 확진자 증가수가 급격히 늘어난 것으로 확산이 계속 증가될 것으로 전망할 수 있습니다."
   ]
  },
  {
   "cell_type": "code",
   "execution_count": null,
   "metadata": {
    "scrolled": true
   },
   "outputs": [],
   "source": [
    "# 로지스틱 함수\n",
    "def logistic(x, L, k, x0):\n",
    "    return L / (1 + np.exp(-k * (x - x0)))\n",
    "\n",
    "# Growth Rate 구하기 위한 함수\n",
    "def add_rates(df):\n",
    "    df['Mortality Rate'] = df['Deaths'] / df['Confirmed']\n",
    "    df['Growth Rate'] = df['Confirmed'] / df['Confirmed'].shift(1) - 1 # 당일 확진자 / 전일 확진자 - 1\n",
    "    df['Growth Rate Change'] = df['Growth Rate'].diff().shift(-1)\n",
    "    return df"
   ]
  },
  {
   "cell_type": "code",
   "execution_count": null,
   "metadata": {},
   "outputs": [],
   "source": [
    "DAYS2FIT = 7\n",
    "PREDICT_PERIOD = 7\n",
    "\n",
    "# 선형회귀 모델 함수\n",
    "def linearRgPrediction(df, Days2Fit, Days2Pred):\n",
    "    lastData = df[-Days2Fit:] # 최근 n 일 데이터\n",
    "    fittingDate = lastData['Date']\n",
    "    \n",
    "    x = np.array(range(len(lastData))).reshape(-1,1)\n",
    "    y = lastData['Confirmed'].to_numpy().reshape(-1,1) # n일의 확진자 수\n",
    "\n",
    "    linearReg = LinearRegression().fit(x,y) # 선형 회귀\n",
    "    predRange = pd.date_range(fittingDate.iloc[0], # 예측 기간 Days2Fit~Days2Pred까지\n",
    "                              fittingDate.iloc[-1] + dt.timedelta(days=Days2Pred))\n",
    "    predX = np.array(range(len(predRange))).reshape(-1,1)\n",
    "    predY = linearReg.predict(predX)\n",
    "    \n",
    "    return predRange, predY"
   ]
  },
  {
   "cell_type": "code",
   "execution_count": null,
   "metadata": {
    "scrolled": false
   },
   "outputs": [],
   "source": [
    "fig = make_subplots(rows=2, cols=2, subplot_titles=['<b>로지스틱 : 소강 트렌드</b>', '<b>로지스틱 : 증가 트렌드</b>',\n",
    "                                                   '<b>선형회귀 : 소강 트렌드</b>', '<b>선형회귀 : 확산 트렌드</b>'])\n",
    "# 중국 \n",
    "china = WHO_Data[WHO_Data['Country'] == 'China']\n",
    "popt, pcov = curve_fit(logistic, range(len(china)), china['Confirmed'], p0)\n",
    "\n",
    "predChina = logistic(range(len(china)+PREDICT_PERIOD), *popt)\n",
    "\n",
    "\n",
    "# 중국 확진자 수 그래프\n",
    "# 두 그래프 차이를 비교하기 위한 것으로 최대 값으로 나눠 0~1사이로 나타내도록함\n",
    "fig.add_trace(go.Scatter(x=list(range(len(china))), \n",
    "                         y=china['Confirmed']/china['Confirmed'].values[-1],\n",
    "                         marker=dict(color = DEFAULT_PLOTLY_COLORS[0]), showlegend=False),row=1,col=1)\n",
    "# 로지스틱 확진자 그래프 \n",
    "fig.add_trace(go.Scatter(x=list(range(len(china))), \n",
    "                         y=(predChina/predChina[-1])[:-PREDICT_PERIOD],\n",
    "                         marker=dict(color = DEFAULT_PLOTLY_COLORS[1]), showlegend=False),row=1,col=1)\n",
    "# 로지스틱 예측 기간 그래프\n",
    "fig.add_trace(go.Scatter(x=list(range(len(china)-1,len(china)+PREDICT_PERIOD)), \n",
    "                         y=(predChina/predChina[-1])[-PREDICT_PERIOD-1:], mode='lines', \n",
    "                         line = dict(color=DEFAULT_PLOTLY_COLORS[4], \n",
    "                         width=4, dash='dot'), showlegend=False),row=1,col=1)\n",
    "\n",
    "\n",
    "us = WHO_Data[WHO_Data['Country'] == 'United States of America'] # WHO 데이터\n",
    "popt, pcov = curve_fit(logistic, range(len(us)), us['Confirmed'], p0)\n",
    "predUS = logistic(range(len(us)+PREDICT_PERIOD), *popt)\n",
    "\n",
    "# 기존 확진자 그래프\n",
    "fig.add_trace(go.Scatter(x=list(range(len(us))), \n",
    "                         y=us['Confirmed']/us['Confirmed'].values[-1],\n",
    "                         marker=dict(color = DEFAULT_PLOTLY_COLORS[0]),\n",
    "                         name=\"Actual\", showlegend=True),row=1,col=2)\n",
    "# 로지스틱 함수 그래프 \n",
    "fig.add_trace(go.Scatter(x=list(range(len(us))), \n",
    "                         y=(predUS/predUS[-1])[:-PREDICT_PERIOD],\n",
    "                         marker=dict(color = DEFAULT_PLOTLY_COLORS[1]),\n",
    "                         name='Logistic Curve', showlegend=True),row=1,col=2)\n",
    "# 로지스틱 함수 예측 부분\n",
    "fig.add_trace(go.Scatter(x=list(range(len(us)-1,len(china)+PREDICT_PERIOD)), \n",
    "                         y=(predUS/predUS[-1])[-PREDICT_PERIOD-1:], mode='lines', \n",
    "                         line = dict(color=DEFAULT_PLOTLY_COLORS[4], width=4, dash='dot'),\n",
    "                         showlegend=True,name='Logistic Prediction'), row=1,col=2)\n",
    "\n",
    "##### 선형회귀 #####\n",
    "predDate, predY = linearRgPrediction(china, DAYS2FIT, PREDICT_PERIOD)\n",
    "\n",
    "# 중국\n",
    "# 기존 중국 확진자 그래프\n",
    "fig.add_trace(go.Scatter(x=list(range(len(china))), \n",
    "                         y=china['Confirmed']/china['Confirmed'].values[-1],\n",
    "                         marker=dict(color = DEFAULT_PLOTLY_COLORS[0]), showlegend=False),row=2,col=1)\n",
    "\n",
    "# 최근 DAYS2FIT 기간의 데이터를 바탕으로 선형회귀 그래프 \n",
    "# 중국 선형 회귀\n",
    "fig.add_trace(go.Scatter(x=list(range(len(china)-PREDICT_PERIOD,len(china)+PREDICT_PERIOD)),\n",
    "                         y=predY.reshape(1,-1)[0] / predY.reshape(1,-1)[0][:PREDICT_PERIOD].max(),\n",
    "                         mode='lines', line = dict(color=DEFAULT_PLOTLY_COLORS[2], width=4, dash='dot'),\n",
    "                         showlegend=False),row=2,col=1)\n",
    "\n",
    "# 미국\n",
    "predDate, predY = linearRgPrediction(us, DAYS2FIT, PREDICT_PERIOD)\n",
    "fig.add_trace(go.Scatter(x=list(range(len(us))), \n",
    "                         y=us['Confirmed']/us['Confirmed'].values[-1],\n",
    "                         marker=dict(color = DEFAULT_PLOTLY_COLORS[0]),\n",
    "                         showlegend=False),row=2,col=2)\n",
    "\n",
    "fig.add_trace(go.Scatter(x=list(range(len(us)-PREDICT_PERIOD,len(us)+PREDICT_PERIOD)),\n",
    "                         y=predY.reshape(1,-1)[0] / predY.reshape(1,-1)[0][:PREDICT_PERIOD].max(),\n",
    "                         line = dict(color=DEFAULT_PLOTLY_COLORS[2], width=4, dash='dot'),\n",
    "                         mode='lines', showlegend=True, name='Linear prediction'),\n",
    "                         row=2,col=2)\n",
    "\n",
    "fig.update_layout(title='<b>코로나 확진자 추이 예측 모델 예시</b>',\n",
    "                  height = 600, font = layout_setting['font'],\n",
    "                  font_size=14, legend_orientation=\"h\",\n",
    "                  legend=dict( traceorder=\"normal\", font=dict(family=\"sans-serif\", size=15)))\n",
    "\n",
    "fig.show()"
   ]
  },
  {
   "cell_type": "markdown",
   "metadata": {},
   "source": [
    "## 2. 중국, 한국, 이탈리아, 미국 확진자 수 예측하기\n",
    "로지스틱 함수와 선형회귀를 통해서 4개의 특징적인 국가의 확진자 수를 예측해보았습니다.\n",
    "코로나 발생 근원지인 중국, 빠른 대처로 세계적 이목을 받고 있는 한국, 짧은 기간에 급격한 확산과 많은 사망자가 발생한 이탈리아,\n",
    "확진자 수 세계 1위 미국, 이렇게 총 4개의 국가를 선정하였습니다.\n",
    "중국과 한국은 소강 상태로 보이며, 이탈리아와 미국은 확산이 진행중인 상태로 판단하였습니다."
   ]
  },
  {
   "cell_type": "code",
   "execution_count": null,
   "metadata": {},
   "outputs": [],
   "source": [
    "################################## 4개 나라 그래프 #################################\n",
    "DAYS2FIT = 5\n",
    "PREDICT_PERIOD = 14\n",
    "\n",
    "fig = make_subplots(rows=2, cols=2, subplot_titles=['<b>중국</b>', '<b>한국</b>','<b>이탈리아</b>', '<b>미국</b>'])\n",
    "countries = [china, korea, italy, us]\n",
    "name=['China','Korea','Italy','U.S.A']\n",
    "for i in range(4):\n",
    "    if i>1:\n",
    "        row= 2\n",
    "        col= i-1\n",
    "    else:\n",
    "        row=1\n",
    "        col=i+1\n",
    "    \n",
    "    legend=False\n",
    "    if i==3:\n",
    "        legend=True\n",
    "        \n",
    "    # 날짜 설정\n",
    "    actualDate = countries[i]['Date']\n",
    "    predDate = pd.date_range(actualDate.iloc[0], actualDate.iloc[-1] + dt.timedelta(days=PREDICT_PERIOD))\n",
    "    futureDate = pd.date_range(actualDate.iloc[-1], predDate[-1])\n",
    "\n",
    "    # 선형회귀 예측\n",
    "    predDate, predY = linearRgPrediction(countries[i], DAYS2FIT, PREDICT_PERIOD)\n",
    "    # 로지스틱 함수 파라미터 찾기\n",
    "    popt, pcov = curve_fit(logistic, range(len(countries[i])), countries[i]['Confirmed'], p0)\n",
    "    \n",
    "    # 실제 확진자 그래프\n",
    "    fig.add_trace(go.Scatter(x=actualDate, y=countries[i]['Confirmed'],\n",
    "                             marker=dict(color = DEFAULT_PLOTLY_COLORS[0]),\n",
    "                             showlegend=legend, name='real'),\n",
    "                             row=row,col=col)\n",
    "    \n",
    "    # Logistic Curve\n",
    "    fig.add_trace(go.Scatter(x=actualDate,\n",
    "                             y=logistic(range(len(countries[i])+PREDICT_PERIOD), *popt),\n",
    "                             marker=dict(color = DEFAULT_PLOTLY_COLORS[1]),\n",
    "                             showlegend=legend, name='Logistic Curve'),row=row,col=col)\n",
    "    \n",
    "    # Logistic Curve 예측 부분\n",
    "    fig.add_trace(go.Scatter(x=futureDate, \n",
    "                             y=logistic(range(len(countries[i])+PREDICT_PERIOD), *popt)[-PREDICT_PERIOD-1:],\n",
    "                             mode='lines', line = dict(color=DEFAULT_PLOTLY_COLORS[1], width=3, dash='dot'),\n",
    "                             showlegend=legend, name='Logistic Prediction'),row=row,col=col)\n",
    "\n",
    "    # 선형 회귀 선\n",
    "    fig.add_trace(go.Scatter(x=predDate, y=predY.reshape(1,-1)[0], mode='lines',\n",
    "                             line = dict(color=DEFAULT_PLOTLY_COLORS[2], width=3, dash='dot'),\n",
    "                             showlegend=legend, name='Linear regresstion prediction'),\n",
    "                             row=row,col=col)\n",
    "    \n",
    "fig.update_layout(title='<b>선형회귀와 로지스틱 함수를 사용한 확진자 수 방향 예측</b>',\n",
    "                  font = layout_setting['font'],\n",
    "                  font_size=14, legend_orientation=\"h\",\n",
    "                  legend=dict( traceorder=\"normal\", font=dict(family=\"sans-serif\", size=15)))\n",
    "fig.show()"
   ]
  },
  {
   "cell_type": "markdown",
   "metadata": {},
   "source": [
    "중국과 한국은 로지스틱 그래프와 수렴해가는 모습을 보이고 있습니다. 또한, 선형회귀식의 기울기가 매우 낮아졌으며 로지스틱 함수와 거의 평행해지는 것을 확인할 수 있습니다. 이를 통해서 한국과 중국은 코로나 종식에 가까워지고 있는 모습을 확인할 수 있습니다. \n",
    "\n",
    "이탈리아와 미국은 아래 그래프에서 더욱 자세하게 보겠습니다."
   ]
  },
  {
   "cell_type": "code",
   "execution_count": null,
   "metadata": {},
   "outputs": [],
   "source": [
    "################################## 4개 나라 그래프 #################################\n",
    "fig = make_subplots(rows=1, cols=2, subplot_titles=['<b>이탈리아</b>', '<b>미국</b>'])\n",
    "countries = [italy, us]\n",
    "name=['Italy','U.S.A']\n",
    "legend = False\n",
    "for i in range(2):\n",
    "    row, col = 1, i+1\n",
    "    if col == 2:\n",
    "        legend = True\n",
    "    \n",
    "    # 날짜 설정\n",
    "    actualDate = countries[i]['Date'][-DAYS2FIT:]\n",
    "    predDate = pd.date_range(actualDate.iloc[0], actualDate.iloc[-1] + dt.timedelta(days=PREDICT_PERIOD))\n",
    "    futureDate = pd.date_range(actualDate.iloc[-1], predDate[-1])\n",
    "    \n",
    "    # 선형회귀\n",
    "    predDate, predY = linearRgPrediction(countries[i], DAYS2FIT, PREDICT_PERIOD)\n",
    "    # 로지스틱 함수\n",
    "    popt, pcov = curve_fit(logistic, range(len(countries[i])), countries[i]['Confirmed'], p0)\n",
    "    \n",
    "    # 실제 확진자 그래프\n",
    "    fig.add_trace(go.Scatter(x=actualDate, y=countries[i]['Confirmed'][-DAYS2FIT:],\n",
    "                             marker=dict(color = DEFAULT_PLOTLY_COLORS[0]),\n",
    "                             showlegend=legend, name='real'),\n",
    "                             row=row,col=col)\n",
    "    \n",
    "    # Logistic Curve\n",
    "    fig.add_trace(go.Scatter(x=actualDate,\n",
    "                             y=logistic(range(len(countries[i])+PREDICT_PERIOD), *popt)[-DAYS2FIT-PREDICT_PERIOD:-PREDICT_PERIOD],\n",
    "                             marker=dict(color = DEFAULT_PLOTLY_COLORS[1]),\n",
    "                             showlegend=legend, name='logistic curve'),row=row,col=col)\n",
    "    \n",
    "    # Logistic Curve 예측 부분\n",
    "    fig.add_trace(go.Scatter(x=futureDate, \n",
    "                             y=logistic(range(len(countries[i])+PREDICT_PERIOD), *popt)[-PREDICT_PERIOD-1:], mode='lines',\n",
    "                             line = dict(color=DEFAULT_PLOTLY_COLORS[1], width=3, dash='dot' ),\n",
    "                             showlegend=legend, name='logistic prediction'),row=row,col=col)\n",
    "    \n",
    "    # 선형 회귀 선\n",
    "    fig.add_trace(go.Scatter(x=predDate, y=predY.reshape(1,-1)[0], mode='lines',\n",
    "                             line = dict(color=DEFAULT_PLOTLY_COLORS[2], width=3, dash='dot'),\n",
    "                             showlegend=legend, name='linear regresstion prediction'),\n",
    "                             row=row,col=col)\n",
    "    \n",
    "fig.update_layout(title='<b>최근 5일을 통한, 이후 진행 방향 예측</b>',\n",
    "                  font = layout_setting['font'],\n",
    "                  font_size=14, legend_orientation=\"h\",\n",
    "                  legend=dict( traceorder=\"normal\", font=dict(family=\"sans-serif\", size=15)))\n",
    "fig.show()"
   ]
  },
  {
   "cell_type": "markdown",
   "metadata": {},
   "source": [
    "이탈리아와 미국은 로지스틱과 선형 그래프의 진행방향에 차이가 꽤 있는 것을 확인할 수 있습니다. 로지스틱 함수의 방향과 다른 방향으로 진행되고 있는 확진자수 증가 추이와 선형회귀 식의 기울기를 통해서 여전히 확진자가 증가하는 추세임을 예상할 수 있습니다. 미국과 이탈리아는 더욱 확진 방지를 위한 노력이 필요할 것입니다."
   ]
  },
  {
   "cell_type": "markdown",
   "metadata": {},
   "source": [
    "## 3. 신천지 집단 감염이 일어나지 않았다면?\n",
    "\n",
    "Topic 1과 Topic 3를 통해서 집단 감염이 가장 확진자를 많이 발생시키는 것임을 확인하였습니다. 이를 기반으로 우리나라의 가장 많은 확진자를 발생시킨 집단 감염 사태인 신천지 집단 감염이 만약 발생하지 않았다면 확진자 수가 어떻게 변화되었을지를 확인해보고자 하였습니다. 그리하여 신천지 첫 확진자 발생일 2월 17일을 기준으로 그 전까지의 데이터를 바탕으로 예측을 진행하고 비교해보았습니다."
   ]
  },
  {
   "cell_type": "code",
   "execution_count": null,
   "metadata": {
    "scrolled": false
   },
   "outputs": [],
   "source": [
    "DAYS2FIT = 5\n",
    "PREDICT_PERIOD = 7\n",
    "predDatelinear, predY = linearRgPrediction(koreaBeforeSCJ, DAYS2FIT, PREDICT_PERIOD)\n",
    "\n",
    "popt, pcov = curve_fit(logistic, range(len(koreaBeforeSCJ)), koreaBeforeSCJ['Confirmed'], p0)\n",
    "predLogistic = logistic(range(len(koreaBeforeSCJ)+DAYS2FIT), *popt)\n",
    "\n",
    "actualDate = koreaBeforeSCJ['Date']\n",
    "predDate = pd.date_range(actualDate.iloc[0], actualDate.iloc[-1] + dt.timedelta(days=DAYS2FIT))\n",
    "futureDate = pd.date_range(actualDate.iloc[-1], predDate[-1])\n",
    "\n",
    "fig = go.Figure()\n",
    "fig.add_trace(go.Scatter(x=actualDate, y=koreaBeforeSCJ['Confirmed'],\n",
    "              marker=dict(color = DEFAULT_PLOTLY_COLORS[0]),name='Confirmed'))\n",
    "fig.add_trace(go.Scatter(x=actualDate, y=predLogistic[:-DAYS2FIT], # 입력데이터 까지의 예측값\n",
    "        marker=dict(color = DEFAULT_PLOTLY_COLORS[1]),name='Logistic Prediction'))\n",
    "fig.add_trace(go.Scatter(x=futureDate, y=predLogistic[-DAYS2FIT:], # 입력이후 진행방향\n",
    "                         line = dict(color=DEFAULT_PLOTLY_COLORS[1], width=1, dash='dot'),\n",
    "                         showlegend=True,name='Logistic After 7 days Prediction'))\n",
    "\n",
    "fig.add_trace(go.Scatter(x=predDatelinear, y=predY.reshape(1,-1)[0],\n",
    "                         line = dict(color=DEFAULT_PLOTLY_COLORS[2], width=3, ),#dash='dash'\n",
    "                         showlegend=True, name='Linear After 7 days Prediction'))\n",
    "\n",
    "fig.update_layout(title='<b>신천지 발생 이전 확진자 수 및 예측</b>',\n",
    "                  font = layout_setting['font'],\n",
    "                  font_size=14, legend_orientation=\"h\",\n",
    "                  legend=dict( traceorder=\"normal\", \n",
    "                             font=dict(family=\"sans-serif\", size=15))) \n",
    "fig.show()"
   ]
  },
  {
   "cell_type": "markdown",
   "metadata": {},
   "source": [
    "신천지 이전 까지의 데이터를 통해서 예측 그래프를 그려보았습니다. 로지스틱 그래프는 점차 소강상태에 접어들기 시작하였으며, 선형회귀 선의 기울기가 상당히 낮아진 것을 확인할 수 있습니다. 두 그래프가 점차 평행해 나가는 것을 보며 어느정도 코로나가 확산이 줄어들고 <span style=\"color:red\">소강상태로 진입하는 모습을 예상</span>해 볼 수 있습니다."
   ]
  },
  {
   "cell_type": "code",
   "execution_count": null,
   "metadata": {
    "scrolled": true
   },
   "outputs": [],
   "source": [
    "lastData = korea[-DAYS2FIT:]\n",
    "predDate, predY = linearRgPrediction(koreaBeforeSCJ, 10, PREDICT_PERIOD)\n",
    "popt, pcov = curve_fit(logistic, range(len(koreaBeforeSCJ)), koreaBeforeSCJ['Confirmed'], p0)\n",
    "\n",
    "logisticPeriod = pd.date_range(koreaBeforeSCJ['Date'].iloc[0], \n",
    "                               koreaBeforeSCJ['Date'].iloc[-1] + dt.timedelta(days=PREDICT_PERIOD))\n",
    "\n",
    "fig = go.Figure()\n",
    "\n",
    "fig.add_trace(go.Scatter(x=koreaBeforeSCJ['Date'], y=koreaBeforeSCJ['Confirmed'],\n",
    "              marker=dict(color = DEFAULT_PLOTLY_COLORS[0]),name='confirmed'))\n",
    "\n",
    "fig.add_trace(go.Scatter(x=predDate[-9:], y=predY.reshape(1,-1)[0][-9:],\n",
    "        line = dict(color=DEFAULT_PLOTLY_COLORS[2], width=3, dash='dot'),name='linear regression prediction'))\n",
    "\n",
    "fig.add_trace(go.Scatter(x=korea['Date'][27:33], y=korea['Confirmed'][27:33],\n",
    "        line = dict(color=DEFAULT_PLOTLY_COLORS[3], width=3, dash='dot'),name='Actual Confirmed'))\n",
    "\n",
    "fig.add_trace(go.Scatter(x=logisticPeriod[-9:], y=logistic(range(len(koreaBeforeSCJ)+PREDICT_PERIOD), *popt)[-9:],\n",
    "        line = dict(color=DEFAULT_PLOTLY_COLORS[1], width=3, dash='dot'),name='logistic prediction'))\n",
    "\n",
    "# fig.add_trace(go.Scatter(x=list(range(len(koreaBeforeSCJ),len(koreaBeforeSCJ)+7)), y=logistic(range(len(koreaBeforeSCJ)+7), *popt)[-7:],\n",
    "#                          line = dict(color=DEFAULT_PLOTLY_COLORS[1], width=1, dash='dot'),name='prediction'))\n",
    "fig.update_layout(title='<b>신천지 확진 이후 3일</b>',\n",
    "                  font = layout_setting['font'],\n",
    "                  height=500, font_size=14, legend_orientation=\"h\",\n",
    "                  legend=dict( traceorder=\"normal\", \n",
    "                             font=dict(family=\"sans-serif\", size=15))) \n"
   ]
  },
  {
   "cell_type": "markdown",
   "metadata": {},
   "source": [
    "2월 17일 이후 3일을 추가하여 집단감염 발생으로 늘어난 확진자 수의 모습을 확인해보았습니다.\n",
    "신천지 발생 이전에 예측했던 <span style=\"color:red\">선형회귀 선을 뚫고 수직에 가까운 기울기를 보이며 확진자가 증가</span>하고 있습니다. \n",
    "자연적인 접촉으로 확산되는 지수적 증가와 상당히 차이가 있으며, 이전까지의 전체적인 트렌를 깨고 새로운 양상을 보여주고 있습니다. \n",
    "2월 16일 까지의 전체 확진자가 30명이었던 반면, 2월 19일 하루에 20명, 20일 하루에 53명의 대량 신규 확진자가 발생하였습니다. \n",
    "\n",
    "신천지 확진자 발생 전까지는 큰 확진 없이 미미하게 진행되었고 예측 그래프를 통해서 점차 소강 상태로 접어드는 단계였음을 확인하였습니다. 하지만, 신천지 대규모 확진으로 인하여 우리나라의 코로나 확진양상이 급격하게 바뀌었으며, 대규모 집단 감염의 위험성을 가시적으로 확인할 수 있습니다."
   ]
  },
  {
   "cell_type": "markdown",
   "metadata": {},
   "source": [
    "# 마무리"
   ]
  },
  {
   "cell_type": "markdown",
   "metadata": {},
   "source": [
    "# 최종 결론\n",
    "\n",
    "코로나 종식 및 예방을 위해서는 <span style=\"color:red\">해외 유입에 의한 확진자를 차단</span>해야합니다. 현재 입국자에 대한 검사 및 2주 자가격리 등 많은 노력이 진행되고 있습니다. 하지만, 그럼에도 유의사항을 잘 따르지 않는 일부 인원에 의해서 신천지와 같은 큰 집단 감염이 발생될 수 있다는 사실을 잊지 말아야합니다. 따라서, 코로나에 대한 경각심과 인식을 잘 심어주어야하며, 특히나 가장 안일하게 생각하는 20대의 인식 변화를 이끌어야 할 것입니다. \n",
    "또한, <span style=\"color:red\">20대의 행동 패턴 및 방문 경로를 바탕으로 감염 위험이 있는 업종은 특히나 더욱 신경써서 사회적 거리두기, 마스크 착용, 손세정제와 손씻기 등을 더욱 권장</span>하도록 해야합니다.\n",
    "\n",
    "두번째로, 사망률을 줄이기 위해서는 <span style=\"color:red\">70대이상의 완치기간이 긴 노년층</span>의 주의있는 예방이 필요합니다. 또한 페렴 뿐만아니라 <span style=\"color:red\"> 다른 기저질환이 있는 환자들</span>에게 매우 치명적임으로 병원에 대한 항시 방역과 기저질환 환자들을 위해 자가방문 치료와 같은 방안을 통해 기존 감염자과의 접촉을 완전히 차단해야 코로나 바이러스로 인한 사망률을 줄일 수 있을 것입니다.\n",
    "\n",
    "\n",
    "세번째로, 수도권지역이 다른 지역과 다르게 확진자가 급증하지 않았던 이유는 다른 지역에 비해 <span style=\"color:red\">신천지관련 확진자</span>가 없었기 때문이고 급증 후 급감했던 다른 지역과 다르게 지속적으로 확진자가 나왔던 이유는 뒤늦게 <span style=\"color:red\">해외에서 들어온 확진자</span>가 증가 했기 때문입니다. 해외에서 입국하는 사람들 중 감염이 되어 오는 사람은 어쩔 수가 없지만 해외에서 들어온 감염자의 관리를 철저히 하여 그 사람들로 인한 2차 감염을 줄이는 것이 코로나 바이러스의 종결을 앞당길 것이라고 생각합니다. 또한 집단 감염도 해외유입으로 인한 감염과 비등하게 많기때문에, 낮아지고 있는 코로나 바이러스에 대한 경각심을 다시 한번 심어 주어 사회적 거리두기와 마스크 착용을 지속적으로 해야합니다.\n",
    "\n",
    "네번째로, <span style=\"color:red\">신천지 확진자 발생 전까지는 큰 확진 없이 미미하게 진행</span>되었고 예측 그래프를 통해서 <span style=\"color:red\">점차 소강 상태</span>로 접어드는 단계였음을 확인하였습니다. 하지만, 신천지 대규모 확진으로 인하여 우리나라의 코로나 확진양상이 급격하게 바뀌었으며, 대규모 집단 감염의 위험성을 가시적으로 확인할 수 있습니다.\n",
    "\n",
    "따라서, 신규 확진자 발생이 줄어들었다 하더라도 방심하면 안된다는 것을 명심해야할 것입니다. 한 확진자가 대규모 감염을 발생시킬 수 있으며, 이는 곧 전국적인 확산으로 퍼질 수 있습니다. 코로나 증가추세가 꺽인 현재의 한국과 중국은 코로나 종식까지 철저한 위생관리 및 방역활동을 진행해야하며, 사회적 거리두기를 지속해야 합니다."
   ]
  },
  {
   "cell_type": "markdown",
   "metadata": {},
   "source": [
    "# 부록) 사회적 거리두기에서 생활속 거리두기, 괜찮은걸까?\n",
    "\n",
    "> 5월 6일부로 사회적 거리두기에서 생활속 거리두기로 변경되면서 많은 우려를 안고 있습니다. 4월 30일부터 5월 5일까지 연휴기간이었기 때문에 정부에서는 5월 5일까지 사회적 거리두기를 진행하였습니다. 하지만 연휴기간까지 사회적 거리두기 기간이었음에도 불구하고 과연 사람들이 잘 지켰을까 하는 의문점으로 전반적인 활동을 파악해 보기로 하였습니다. 최근 1달간의 '검색어 트랜드', '고속도로 교통량', '제주노선 이용객 수'를 중심으로 추가 분석 작업을 하였습니다. 데이터는 각각 네이버 데이터랩, 항공 포털 통계자료, 한국 도로 공사 오픈 데이터를 활용하였습니다."
   ]
  },
  {
   "cell_type": "markdown",
   "metadata": {},
   "source": [
    "### 분석결과\n",
    "\n",
    "검색 트랜드에서는 4월 25일 부터 교통정보, 단기 렌트카, 숙발시설, 액티비티와 같은 외부 활동을 찾는 키워드들이 급증했음을 보아 연휴기간을 이용해 여행이나 외부 활동에 관심이 많았음을 알 수 있었습니다. 실제로, 교통량을 보면 4월 4째주부터 5월 1째주까지 수도권을 제외한 모든 지역의 교통량이 증가했음을 보여줌니다. 특히, 5월 첫째주 기준으로 부산이나 강원도 그리고 전남 지역은 전 주 대비 약 1만이상의 교통량의 차이를 보여줌으로써 연휴기간 사람들의 활동성이 늘어났다는 사실을 알 수 있었습니다. 마지막으로, 제주 노선 이용객 수와 항공 수요량을 보면 눈에 띄게 4월 4째주부터 연휴기간을 맞이해 제주노선 수요량이 급증했다는 사실을 보아 사람들의 코로나 경각심이 줄고 여가를 즐긴다는 사실을 알 수 있었습니다. 이를 통해 아직까지 국내에 확진자가 1000명이상이 존재하는 상황에서 이렇게 많은 사람들이 활동한 다는 것은 사람들의 코로나 경각심이 많이 누그러졌으며 이는 제 2의 신천지 확산과 같은 집단감염 상황이 재발 될것이라 우려됩니다. "
   ]
  },
  {
   "cell_type": "markdown",
   "metadata": {},
   "source": [
    "## 1) 검색트랜드"
   ]
  },
  {
   "cell_type": "code",
   "execution_count": null,
   "metadata": {},
   "outputs": [],
   "source": [
    "naverSearchTrend = pd.read_csv('NaverSearchTrend.csv')\n",
    "\n",
    "layout_setting = {'xaxis_title':'Date','yaxis_title':'Scale','font':dict(size=18,color='#60606e',family='Franklin Gothic' )}\n",
    "\n",
    "fig = go.Figure()\n",
    "\n",
    "fig.add_trace(go.Scatter(x=naverSearchTrend.iloc[::6,:].Date,y=naverSearchTrend.iloc[::6,:].Traffic,\n",
    "             mode='lines+markers', name='교통 정보'))\n",
    "fig.add_trace(go.Scatter(x=naverSearchTrend.iloc[::6,:].Date,y=naverSearchTrend.iloc[::6,:].LentCar,\n",
    "             mode='lines+markers', name='단기 렌트카'))\n",
    "fig.add_trace(go.Scatter(x=naverSearchTrend.iloc[::6,:].Date,y=naverSearchTrend.iloc[::6,:].Accommodation,\n",
    "             mode='lines+markers', name='숙박 시설'))\n",
    "fig.add_trace(go.Scatter(x=naverSearchTrend.iloc[::6,:].Date,y=naverSearchTrend.iloc[::6,:].Activity,\n",
    "             mode='lines+markers', name='액티비티')) #7일씩 \n",
    "\n",
    "fig.update_xaxes(title_text='Date', tickfont=dict(size=15))\n",
    "fig.update_yaxes(title_text='Scale', tickfont=dict(size=16))\n",
    "fig.update_layout(title='<b>검색 트랜드</b>',**layout_setting, width=800)\n",
    "fig.show()"
   ]
  },
  {
   "cell_type": "markdown",
   "metadata": {},
   "source": [
    "## 2)  교통량"
   ]
  },
  {
   "cell_type": "code",
   "execution_count": 3,
   "metadata": {},
   "outputs": [
    {
     "ename": "NameError",
     "evalue": "name 'pd' is not defined",
     "output_type": "error",
     "traceback": [
      "\u001b[1;31m---------------------------------------------------------------------------\u001b[0m",
      "\u001b[1;31mNameError\u001b[0m                                 Traceback (most recent call last)",
      "\u001b[1;32m<ipython-input-3-e8baba82a67b>\u001b[0m in \u001b[0;36m<module>\u001b[1;34m\u001b[0m\n\u001b[1;32m----> 1\u001b[1;33m \u001b[0mtraffic\u001b[0m \u001b[1;33m=\u001b[0m \u001b[0mpd\u001b[0m\u001b[1;33m.\u001b[0m\u001b[0mread_excel\u001b[0m\u001b[1;33m(\u001b[0m\u001b[1;34m'주단위 교통량.xlsx'\u001b[0m\u001b[1;33m,\u001b[0m \u001b[0mheader\u001b[0m \u001b[1;33m=\u001b[0m \u001b[1;36m0\u001b[0m\u001b[1;33m)\u001b[0m\u001b[1;33m\u001b[0m\u001b[1;33m\u001b[0m\u001b[0m\n\u001b[0m\u001b[0;32m      2\u001b[0m \u001b[0mtraffic\u001b[0m \u001b[1;33m=\u001b[0m \u001b[0mtraffic\u001b[0m\u001b[1;33m.\u001b[0m\u001b[0mT\u001b[0m\u001b[1;33m\u001b[0m\u001b[1;33m\u001b[0m\u001b[0m\n\u001b[0;32m      3\u001b[0m \u001b[0mtraffic\u001b[0m \u001b[1;33m=\u001b[0m \u001b[0mtraffic\u001b[0m\u001b[1;33m.\u001b[0m\u001b[0miloc\u001b[0m\u001b[1;33m[\u001b[0m\u001b[1;36m5\u001b[0m\u001b[1;33m:\u001b[0m\u001b[1;33m,\u001b[0m\u001b[1;33m[\u001b[0m\u001b[1;36m5\u001b[0m\u001b[1;33m,\u001b[0m\u001b[1;36m8\u001b[0m\u001b[1;33m,\u001b[0m\u001b[1;36m11\u001b[0m\u001b[1;33m,\u001b[0m\u001b[1;36m14\u001b[0m\u001b[1;33m,\u001b[0m\u001b[1;36m17\u001b[0m\u001b[1;33m,\u001b[0m\u001b[1;36m20\u001b[0m\u001b[1;33m,\u001b[0m\u001b[1;36m23\u001b[0m\u001b[1;33m]\u001b[0m\u001b[1;33m]\u001b[0m\u001b[1;33m\u001b[0m\u001b[1;33m\u001b[0m\u001b[0m\n\u001b[0;32m      4\u001b[0m \u001b[0mtraffic\u001b[0m \u001b[1;33m=\u001b[0m \u001b[0mtraffic\u001b[0m\u001b[1;33m[\u001b[0m\u001b[1;33m:\u001b[0m\u001b[1;33m:\u001b[0m\u001b[1;33m-\u001b[0m\u001b[1;36m1\u001b[0m\u001b[1;33m]\u001b[0m\u001b[1;33m\u001b[0m\u001b[1;33m\u001b[0m\u001b[0m\n\u001b[0;32m      5\u001b[0m \u001b[0mtraffic\u001b[0m\u001b[1;33m.\u001b[0m\u001b[0mcolumns\u001b[0m \u001b[1;33m=\u001b[0m \u001b[1;33m[\u001b[0m\u001b[1;34m'강원'\u001b[0m\u001b[1;33m,\u001b[0m\u001b[1;34m'대전충남'\u001b[0m\u001b[1;33m,\u001b[0m\u001b[1;34m'전북'\u001b[0m\u001b[1;33m,\u001b[0m\u001b[1;34m'광주전남'\u001b[0m\u001b[1;33m,\u001b[0m\u001b[1;34m'대구경북'\u001b[0m\u001b[1;33m,\u001b[0m\u001b[1;34m'부산경남'\u001b[0m\u001b[1;33m,\u001b[0m\u001b[1;34m'충북'\u001b[0m\u001b[1;33m]\u001b[0m\u001b[1;33m\u001b[0m\u001b[1;33m\u001b[0m\u001b[0m\n",
      "\u001b[1;31mNameError\u001b[0m: name 'pd' is not defined"
     ]
    }
   ],
   "source": [
    "traffic = pd.read_excel('주단위 교통량.xlsx', header = 0)\n",
    "traffic = traffic.T\n",
    "traffic = traffic.iloc[5:,[5,8,11,14,17,20,23]]\n",
    "traffic = traffic[::-1]\n",
    "traffic.columns = ['강원','대전충남','전북','광주전남','대구경북','부산경남','충북']\n",
    "\n",
    "condition = [(traffic.index == '2020.04.08')|(traffic.index == '2020.04.09')|(traffic.index == '2020.04.10')|(traffic.index == '2020.04.11')|(traffic.index == '2020.04.12')|(traffic.index == '2020.04.13')|(traffic.index == '2020.04.14'),\n",
    "             (traffic.index == '2020.04.15')|(traffic.index == '2020.04.16')|(traffic.index == '2020.04.17')|(traffic.index == '2020.04.18')|(traffic.index == '2020.04.19')|(traffic.index == '2020.04.20')|(traffic.index == '2020.04.21'),\n",
    "             (traffic.index == '2020.04.22')|(traffic.index == '2020.04.23')|(traffic.index == '2020.04.24')|(traffic.index == '2020.04.25')|(traffic.index == '2020.04.26')|(traffic.index == '2020.04.27')|(traffic.index == '2020.04.28'),\n",
    "             (traffic.index == '2020.04.29')|(traffic.index == '2020.04.30')|(traffic.index == '2020.05.01')|(traffic.index == '2020.05.02')|(traffic.index == '2020.05.03')|(traffic.index == '2020.05.04')|(traffic.index == '2020.05.05')]\n",
    "\n",
    "choices = choices = ['April 2nd week', 'April 3th week', 'April 4th week', 'May 1st week']\n",
    "traffic[\"date\"] = np.select(condition, choices, default=np.nan)\n",
    "traffic = traffic.groupby('date')['강원','대전충남','전북','광주전남','대구경북','부산경남','충북'].sum()"
   ]
  },
  {
   "cell_type": "code",
   "execution_count": null,
   "metadata": {},
   "outputs": [],
   "source": [
    "fig = go.Figure()\n",
    "for col in traffic.columns:\n",
    "    fig.add_trace(go.Scatter(x=traffic.index, y=traffic[col], mode='lines+markers', name=col))\n",
    "\n",
    "fig.update_xaxes(title_text='Week', tickfont=dict(size=15))\n",
    "fig.update_yaxes(title_text='Scale', tickfont=dict(size=16))\n",
    "fig.update_layout(title='<b>교통량</b>',**layout_setting, width=800)\n",
    "fig.show()"
   ]
  },
  {
   "cell_type": "markdown",
   "metadata": {},
   "source": [
    "## 3) 제주 국내선 수요량 "
   ]
  },
  {
   "cell_type": "code",
   "execution_count": null,
   "metadata": {
    "scrolled": true
   },
   "outputs": [],
   "source": [
    "layout_setting = {'xaxis_title':'기간','yaxis_title':'제주 이용객 수','font':dict(size=18,color='#60606e',family='Franklin Gothic' )}\n",
    "\n",
    "fig = make_subplots(specs=[[{\"secondary_y\": True}]])\n",
    "fig.add_trace(go.Bar(x=tojeju_total.index, y=tojeju_total['총 이용객(명)'], \n",
    "                    name='총 이용객(명)'), secondary_y = False)\n",
    "fig.add_trace(go.Scatter(x=tojeju_total.index, y=tojeju_total['총 편수 합계'],\n",
    "                    mode='lines+markers', name='총 운항 횟수(편)', line=dict(\n",
    "                color=\"orange\",\n",
    "                width=2,\n",
    "            )), secondary_y=True)\n",
    "fig.update_traces(marker_color='rgb(158,202,225)', marker_line_color='rgb(8,48,107)',\n",
    "                  marker_line_width=1.5, opacity=0.6)\n",
    "fig.update_layout(title='<b>제주 국내선 수요량 <b>', **layout_setting, xaxis=dict(showgrid=False, zeroline=False), width= 800,\n",
    "    yaxis=dict(showgrid=False, zeroline=False))\n",
    "fig.show()"
   ]
  }
 ],
 "metadata": {
  "kernelspec": {
   "display_name": "Python 3",
   "language": "python",
   "name": "python3"
  },
  "language_info": {
   "codemirror_mode": {
    "name": "ipython",
    "version": 3
   },
   "file_extension": ".py",
   "mimetype": "text/x-python",
   "name": "python",
   "nbconvert_exporter": "python",
   "pygments_lexer": "ipython3",
   "version": "3.7.4"
  }
 },
 "nbformat": 4,
 "nbformat_minor": 4
}
