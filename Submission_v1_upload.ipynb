{
 "cells": [
  {
   "cell_type": "markdown",
   "metadata": {},
   "source": [
    "---\n",
    "# 분석글 읽으러 가기\n",
    "\n",
    "### [[Mulcamer] 20대 감염자는 어디서 왔는가 - 감염 원인과 성향](https://dacon.io/competitions/official/235590/codeshare/1001)\n",
    "\n",
    "---\n",
    "# COVID-19 EDA 결과 발견 특징\n",
    "\n",
    "\n",
    "안녕하세요. Mulcampler 팀 입니다.  \n",
    "\n",
    "저희는 본 경진대회의 데이터를 활용하여 전반적인 EDA를 통해 특징과 시사점을 생각해보았습니다. \n",
    "첫 번째 단계로 plotly와 tableu를 활용한 EDA와 시각화를 진행했습니다.\n",
    " + 유익하고 재밌으셨다면 투표한번씩 부탁드립니다. ^__^  \n",
    " + 모든 데이터로 이루워진 EDA 다 보니 글이 다소 깁니다. 이 점 참고하시고 재미있게 봐주세요~\n",
    " + 분석글도 읽고 투표 부탁드립니다!!\n",
    "\n",
    "\n",
    "---\n",
    "## 결론 및 요약\n",
    "\n",
    "###   1. 끝날때까지 끝난게 아니다! \n",
    "\n",
    "####   - 코로나는 감염성이 매우 높은 전염 질병이므로 대규모 집회와 모임, 외출 등을 삼가해야 합니다. \n",
    "\n",
    "\n",
    "###   2. 우리들의 궁금증은 이제 시작이다!\n",
    "\n",
    "####   - 데이터를 통해서 더 알아야할 것들이 많아보였습니다.\n",
    "---\n",
    "\n",
    "## 분석 방향\n",
    "\n",
    "### 분석의 방향을 위한 4가지 궁금증\n",
    "\n",
    "#### 1. 20대 감염자는 어디서 왔는가?\n",
    "\n",
    "1. 오히려 유동인구는 20대가 40, 50대 보다 낮은 것을 확인할 수 있습니다. 막연히 외부 접촉이 많았다고 결론짓기에는 부족한 부분이 있습니다.\n",
    "2. 30, 40, 50대의 경우 직장 생활의 경우가 높고, 대학생의 경우 그 외의 활동들 예상할 수 있습니다.\n",
    "\n",
    "#### 2. 압도적인 고연령자들의 사망률?\n",
    "\n",
    "1. 경상도와 대구의 사망률이 높은 것을 확인할 수 있습니다. 특히나 경상도의 경우는 평균 연령이 시/도 중에서 두번째로 높은 곳입니다. \n",
    "2. 독거노인 비율 또한 함께 비교해볼 필요가 있을 것 같습니다.\n",
    "\n",
    "#### 3. 서울경기와 대구와 경상도의 그래프 모양의 차이\n",
    "\n",
    "1. 서울, 경기, 인천 :  꾸준히 증가추세인 감염자 모형\n",
    "\n",
    "2. 대구, 경상도 :  신천지 집단 감염으로 급격한 증가 이후 급격한 감소\n",
    "\n",
    "    두 지역간의 확연한 구분 차이를 비교해볼 필요가 있을 것 같습니다.\n",
    "\n",
    "#### 4. PatientInfo 데이터의 대구지역 데이터 부족\n",
    "\n",
    "1. 지역별에 따른 환자 State(released/isolated/deceased) 정보에 대해 분석을 진행하였습니다.\n",
    "\n",
    "   하지만 대구지역의 환자 정보가 많이 부족함을 알 수 있었습니다.\n",
    "\n",
    "   감염 경로 및 이동 경로 등을 파악해서 환자를 줄이기위해 1:1로 역학조사를 진행합니다. \n",
    "   \n",
    "   하지만, 대구 지역 신천지 사태로 인해서 급격하게 증가한 대구 환자들을 모두 조사하기에 인력이 부족했고, 이로 인해서 자세한 정보가 부족한 것으로 예상할 수 있습니다.\n",
    "\n",
    "2. 신규 확진자 수 증가 그래프를 보아도 신천지 이후 매우 심각하고 급박한 상황이었음을 예상할 수 있습니다.\n",
    "\n",
    "#### 이러한 내용을 바탕으로 분석을 진행 중이며 분석글과 인사이트를 가지고 다음 포스팅을 이어나가겠습니다.\n",
    "\n",
    "\n",
    "(4월 22일) COVID-19 Plotly를 사용한 전반적 EDA\n",
    "(4월 23일) 시간에 따른 세계 확진자 추이 TABLEU\n",
    "(4월 24일) 시간에 따른 한국 확진자 추이 TABLEU\n",
    "(4월 26일) EDA 결과 및 특징을 통한 분석 방향 확립\n",
    "\n",
    "태블로 주소 : https://public.tableau.com/profile/.12875783#!/vizhome/CoronavirusStatistics_15877072836610/1_1"
   ]
  },
  {
   "cell_type": "markdown",
   "metadata": {},
   "source": [
    "# Time Related Data\n",
    "\n",
    "### 시간의 흐름에 따른 EDA\n",
    "\n",
    "- 1.1) 시간에 따른 환자 \n",
    "- 1.2) 검사자 수와 음성판정자 수\n",
    "- 1.3) 일단위 확진자 수\n",
    "\n",
    "- 2.1) 연령별 확진자 \n",
    "- 2.2) 연령별 사망자 \n",
    "- 2.3) 성별 확진자 및 사망자 수\n",
    "\n",
    "- 3.1) 지역별 확진자 추이\n",
    "- 3.2) 지역별 확진자 추이 상세\n",
    "- 3.2) 지역별 사망률"
   ]
  },
  {
   "cell_type": "code",
   "execution_count": 1,
   "metadata": {},
   "outputs": [
    {
     "ename": "NameError",
     "evalue": "name 'pd' is not defined",
     "output_type": "error",
     "traceback": [
      "\u001b[1;31m---------------------------------------------------------------------------\u001b[0m",
      "\u001b[1;31mNameError\u001b[0m                                 Traceback (most recent call last)",
      "\u001b[1;32m<ipython-input-1-38f3e5ccfa84>\u001b[0m in \u001b[0;36m<module>\u001b[1;34m\u001b[0m\n\u001b[1;32m----> 1\u001b[1;33m \u001b[0mtime\u001b[0m \u001b[1;33m=\u001b[0m \u001b[0mpd\u001b[0m\u001b[1;33m.\u001b[0m\u001b[0mread_csv\u001b[0m\u001b[1;33m(\u001b[0m\u001b[1;34m'Time.csv'\u001b[0m\u001b[1;33m)\u001b[0m\u001b[1;33m\u001b[0m\u001b[1;33m\u001b[0m\u001b[0m\n\u001b[0m\u001b[0;32m      2\u001b[0m \u001b[0mtimeAge\u001b[0m \u001b[1;33m=\u001b[0m \u001b[0mpd\u001b[0m\u001b[1;33m.\u001b[0m\u001b[0mread_csv\u001b[0m\u001b[1;33m(\u001b[0m\u001b[1;34m'timeAge.csv'\u001b[0m\u001b[1;33m)\u001b[0m\u001b[1;33m\u001b[0m\u001b[1;33m\u001b[0m\u001b[0m\n\u001b[0;32m      3\u001b[0m \u001b[0mtimeGender\u001b[0m \u001b[1;33m=\u001b[0m \u001b[0mpd\u001b[0m\u001b[1;33m.\u001b[0m\u001b[0mread_csv\u001b[0m\u001b[1;33m(\u001b[0m\u001b[1;34m'timeGender.csv'\u001b[0m\u001b[1;33m)\u001b[0m\u001b[1;33m\u001b[0m\u001b[1;33m\u001b[0m\u001b[0m\n\u001b[0;32m      4\u001b[0m \u001b[0mtimeProvince\u001b[0m \u001b[1;33m=\u001b[0m \u001b[0mpd\u001b[0m\u001b[1;33m.\u001b[0m\u001b[0mread_csv\u001b[0m\u001b[1;33m(\u001b[0m\u001b[1;34m'TimeProvince.csv'\u001b[0m\u001b[1;33m,\u001b[0m\u001b[1;33m)\u001b[0m\u001b[1;33m\u001b[0m\u001b[1;33m\u001b[0m\u001b[0m\n",
      "\u001b[1;31mNameError\u001b[0m: name 'pd' is not defined"
     ]
    }
   ],
   "source": [
    "time = pd.read_csv('Time.csv')\n",
    "timeAge = pd.read_csv('timeAge.csv')\n",
    "timeGender = pd.read_csv('timeGender.csv')\n",
    "timeProvince = pd.read_csv('TimeProvince.csv',)"
   ]
  },
  {
   "cell_type": "markdown",
   "metadata": {},
   "source": [
    "## 1.1) 시간에 따른 환자 추이"
   ]
  },
  {
   "cell_type": "code",
   "execution_count": null,
   "metadata": {
    "scrolled": true
   },
   "outputs": [],
   "source": [
    "fig = go.Figure()\n",
    "fig.add_trace(go.Scatter(x=time['date'],y=time['released'],\n",
    "             mode='lines+markers', name='released'))\n",
    "fig.add_trace(go.Scatter(x=time['date'],y=time['confirmed'],\n",
    "             mode='lines+markers', name='confirmed'))\n",
    "fig.add_trace(go.Scatter(x=time['date'],y=time['deceased'],\n",
    "             mode='lines+markers', name='deceased'))\n",
    "\n",
    "fig.update_layout(title='<b>시간에 따른 확진자 추이</b>', **layout_setting)\n",
    "fig.show()"
   ]
  },
  {
   "cell_type": "markdown",
   "metadata": {},
   "source": [
    "* 확진자가 급속하게 먼저 늘어나고 이후 완치자 숫자가 크게 증가하고 있습니다.\n",
    "* 확진자 증가 속도가 감소하면서 전체적인 숫자가 줄어드는 것을 확인할 수 있습니다."
   ]
  },
  {
   "cell_type": "markdown",
   "metadata": {},
   "source": [
    "## 1.2) 검사자 수와 음성판정 수"
   ]
  },
  {
   "cell_type": "code",
   "execution_count": null,
   "metadata": {},
   "outputs": [],
   "source": [
    "fig = make_subplots(rows=1, cols=1, shared_xaxes=True)\n",
    "fig.add_trace(go.Scatter(x=time['date'],y=time['negative'],\n",
    "             mode='lines+markers', name='Negative'))\n",
    "fig.add_trace(go.Scatter(x=time['date'],y=time['test'],\n",
    "             mode='lines+markers', name='Test'))\n",
    "\n",
    "fig.update_layout(title='<b>검사자 수와 음성판정자 수</b>', **layout_setting)\n",
    "fig.show()"
   ]
  },
  {
   "cell_type": "markdown",
   "metadata": {},
   "source": [
    "## 1.3) 일단위 확진자 수"
   ]
  },
  {
   "cell_type": "markdown",
   "metadata": {},
   "source": [
    "* <b>Covid 바이러스 발생 및 확진 날짜</b>\n",
    " - 우한 바이러스 첫등장 11월14일\n",
    " - 우한지역 첫 확진자 발생 12월1일\n",
    " - 국내 첫 확진자 1월 21일\n",
    " - 대구 신천지 첫 확진자 2월17일 (31번)\n",
    "     - 대구 확진 이후를 중점적 확인 필요"
   ]
  },
  {
   "cell_type": "code",
   "execution_count": null,
   "metadata": {
    "scrolled": false
   },
   "outputs": [],
   "source": [
    "time['date'] = pd.to_datetime(time['date'])\n",
    "start = dt.strptime('2020-02-17', '%Y-%m-%d')\n",
    "mid = dt.strptime('2020-03-05', '%Y-%m-%d')\n",
    "\n",
    "fig = go.Figure()\n",
    "clr = [DEFAULT_PLOTLY_COLORS[3] if start <= d <= mid else DEFAULT_PLOTLY_COLORS[7] for d in time['date']]\n",
    "fig.add_trace(go.Bar(x=time['date'],y=time['confirmed'].diff(), \n",
    "                     name='confirmed', marker=dict(color=clr)))\n",
    "\n",
    "fig.update_layout(title='<b>일단위 확진자 수</b>',**layout_setting)\n",
    "\n",
    "fig.show()"
   ]
  },
  {
   "cell_type": "markdown",
   "metadata": {},
   "source": [
    "## 2.1) 연령별 확진자 "
   ]
  },
  {
   "cell_type": "code",
   "execution_count": null,
   "metadata": {
    "scrolled": false
   },
   "outputs": [],
   "source": [
    "fig = px.bar(timeAge, x='date', y='confirmed',\n",
    "             hover_data=['age'], color='age', )\n",
    "\n",
    "fig.update_layout(title='<b>연령별 확진자 추이</b>', **layout_setting)\n",
    "fig.show()"
   ]
  },
  {
   "cell_type": "markdown",
   "metadata": {},
   "source": [
    "* 확진자 수는 20대가 훨씬 많다는 것을 알 수 있습니다. \n",
    "* 50대가 두번째로 많은 확진자 연령층 입니다.\n",
    "* 70, 80대 확진자 수 자체는 매우 많지 않다는 것을 알 수 있습니다."
   ]
  },
  {
   "cell_type": "markdown",
   "metadata": {},
   "source": [
    "## 2.2) 연령별 사망자 "
   ]
  },
  {
   "cell_type": "code",
   "execution_count": null,
   "metadata": {},
   "outputs": [],
   "source": [
    "timeAge_Date = timeAge.pivot_table(index = ['date'],columns=['age'], aggfunc=sum)\n",
    "timeAge_Date['deceased']\n",
    "\n",
    "fig = go.Figure()\n",
    "for col in timeAge_Date['deceased'].columns:\n",
    "    fig.add_trace(go.Scatter(x=timeAge_Date.index,y= timeAge_Date['deceased'][col],\n",
    "                 mode='lines+markers', name=col))\n",
    "# ... #\n",
    "fig.update_layout(title='<b>연령별 사망자 추이</b>', **layout_setting)\n",
    "fig.show()"
   ]
  },
  {
   "cell_type": "markdown",
   "metadata": {},
   "source": [
    "* 20대가 확진자 수가 월등히 많음에도 사망자 숫자 자체가 80, 70대에서 더 많은 것은 나이에 따른 사망확률이 매우 높음을 알 수 있습니다."
   ]
  },
  {
   "cell_type": "markdown",
   "metadata": {},
   "source": [
    "## 2.3) 성별 확진자 및 사망자 수"
   ]
  },
  {
   "cell_type": "code",
   "execution_count": null,
   "metadata": {
    "scrolled": false
   },
   "outputs": [],
   "source": [
    "Gender_Date = timeGender.pivot_table(index = ['date'],columns=['sex'], aggfunc=sum)\n",
    "Gender_Confirmed = Gender_Date['confirmed']\n",
    "Gender_Deceased = Gender_Date['deceased']\n",
    "\n",
    "fig = make_subplots(rows=1, cols=2,\n",
    "                    horizontal_spacing= 0.15,\n",
    "                   subplot_titles=('<b>남여 확진자 수</b>','<b>남여 사망자 수</b>'))\n",
    "\n",
    "fig.add_trace(go.Scatter(x=Gender_Confirmed.index, y=Gender_Confirmed['male'],\n",
    "                 mode='lines', name=\"Male\", line=dict(color='#3370ff')), row=1, col=1)\n",
    "fig.add_trace(go.Scatter(x=Gender_Confirmed.index, y=Gender_Confirmed['female'],\n",
    "                 mode='lines', name=\"Female\", line=dict(color='#ff0d5f')), row=1, col=1)\n",
    "\n",
    "fig.add_trace(go.Scatter(x=Gender_Deceased.index, y=Gender_Deceased['male'],\n",
    "                 mode='lines', name=\"Male\", showlegend=False, line=dict(color='#3370ff')), row=1, col=2)\n",
    "fig.add_trace(go.Scatter(x=Gender_Deceased.index, y=Gender_Deceased['female'],\n",
    "                 mode='lines', name=\"Female\", showlegend=False, line=dict(color='#ff0d5f')), row=1, col=2)\n",
    "\n",
    "fig.update_layout(title='<b>성별 확진자 및 사망자 수</b>', font = layout_setting['font'], showlegend=True)\n",
    "\n",
    "fig.update_xaxes(title_text=\"Month\", row=1, col=1)\n",
    "fig.update_xaxes(title_text=\"Month\", row=1, col=2)\n",
    "fig.update_yaxes(title_text=\"Number\", row=1, col=1)\n",
    "fig.update_yaxes(title_text=\"Number\", row=1, col=2)\n",
    "\n",
    "for i in fig['layout']['annotations']:\n",
    "    i['font'] = dict(size=18)\n",
    "    \n",
    "fig.show()"
   ]
  },
  {
   "cell_type": "markdown",
   "metadata": {},
   "source": [
    "* 여성 확진자 수가 약 1.5배 정도로 많은 반면, 사망자 수는 크게 차이나지 않으며 오히려 남성 사망자 수가 조금 더 많습니다."
   ]
  },
  {
   "cell_type": "markdown",
   "metadata": {},
   "source": [
    "## 3.1) 지역별 확진자 추이"
   ]
  },
  {
   "cell_type": "code",
   "execution_count": null,
   "metadata": {
    "scrolled": false
   },
   "outputs": [],
   "source": [
    "Province_Date = timeProvince.pivot_table(index='date',columns='province')\n",
    "top = Province_Date['confirmed'].sum().sort_values(ascending=False)[:5]\n",
    "\n",
    "fig = make_subplots(rows=2, cols=1, subplot_titles=('<b>지역별 확진자 추이</b>','<b>지역별 사망자 추이</b>'))\n",
    "\n",
    "for i, col in enumerate(list(top.index)):\n",
    "    fig.add_trace(go.Scatter(x=Province_Date.index[20:],\n",
    "                             y= Province_Date['confirmed'].iloc[20:,:][col],\n",
    "                             mode='lines', name=col,\n",
    "                            line=dict(color=DEFAULT_PLOTLY_COLORS[i], width=2)),row=1, col=1)\n",
    "\n",
    "for i, col in enumerate(list(top.index)):\n",
    "    fig.add_trace(go.Scatter(x=Province_Date.index[20:],\n",
    "                             y= Province_Date['deceased'].iloc[20:,:][col],\n",
    "                             mode='lines', name=col, showlegend=False,\n",
    "                             line=dict(color=DEFAULT_PLOTLY_COLORS[i], width=2)), row=2, col=1)\n",
    "    \n",
    "\n",
    "fig.update_xaxes(title_text=\"Month\", row=1, col=1)\n",
    "fig.update_xaxes(title_text=\"Month\", row=2, col=1)\n",
    "fig.update_yaxes(title_text=\"Number\", row=1, col=1)\n",
    "fig.update_yaxes(title_text=\"Number\", row=2, col=1)\n",
    "\n",
    "fig.update_layout(title='<b>확진자 상위 7개 지역의 추이</b>', height=800,\n",
    "                  font=dict(size=18,color='#60606e',family='Franklin Gothic'))\n",
    "for i in fig['layout']['annotations']:\n",
    "    i['font'] = dict(size=18)\n",
    "fig.show()"
   ]
  },
  {
   "cell_type": "markdown",
   "metadata": {},
   "source": [
    "## 3.2) 지역별 확진자 추이 상세"
   ]
  },
  {
   "cell_type": "code",
   "execution_count": null,
   "metadata": {},
   "outputs": [],
   "source": [
    "table = Province_Date\n",
    "provinces = timeProvince['province'].unique()\n",
    "isolated = pd.DataFrame(table['confirmed'] - table['deceased'] - table['released'])\n",
    "\n",
    "fig = make_subplots(rows=6, cols=3, horizontal_spacing=0.03,\n",
    "                    vertical_spacing= 0.05,\n",
    "                   subplot_titles=([f'<b>{prov}</b>' for prov in provinces]))\n",
    "\n",
    "for i, province in enumerate(provinces):\n",
    "    row, col, legend = i//3 + 1, i%3 + 1, False\n",
    "    if i == len(provinces)-1 :\n",
    "        legend = True\n",
    "    fig.add_trace(go.Scatter(x=table.index, y=table['confirmed'][province],\n",
    "                     mode='lines', name=\"Confirmed\", \n",
    "                     marker=dict(color = DEFAULT_PLOTLY_COLORS[3]), showlegend=legend), row=row, col=col)\n",
    "    fig.add_trace(go.Scatter(x=table.index, y=table['deceased'][province],\n",
    "                     mode='lines', name=\"Deceased\", \n",
    "                     marker=dict(color = DEFAULT_PLOTLY_COLORS[2]), showlegend=legend), row=row, col=col)\n",
    "    fig.add_trace(go.Scatter(x=table.index, y=table['released'][province],\n",
    "                     mode='lines', name=\"Released\",\n",
    "                     marker=dict(color = DEFAULT_PLOTLY_COLORS[9]), showlegend=legend), row=row, col=col)\n",
    "    fig.add_trace(go.Scatter(x=table.index, y=isolated[province],\n",
    "                     mode='lines', name=\"Isolated\",\n",
    "                     marker=dict(color = DEFAULT_PLOTLY_COLORS[1]), showlegend=legend), row=row, col=col)\n",
    "\n",
    "fig.update_layout(title='<b>지역별 환자 추이</b>',\n",
    "                  height = 2000, font = layout_setting['font'],\n",
    "                  legend=dict(x=0.7, y=0.05, traceorder=\"normal\",\n",
    "                             font=dict(family=\"sans-serif\", size=18)))\n",
    "for i in fig['layout']['annotations']:\n",
    "    i['font'] = dict(size=20)\n",
    "    \n",
    "fig.show()"
   ]
  },
  {
   "cell_type": "markdown",
   "metadata": {},
   "source": [
    "## 3.3) 지역별 사망률"
   ]
  },
  {
   "cell_type": "code",
   "execution_count": null,
   "metadata": {
    "scrolled": true
   },
   "outputs": [],
   "source": [
    "# 확진자 1만명 이상인 도시\n",
    "provinces = timeProvince['province'].unique()\n",
    "prov = {}\n",
    "for province in provinces:\n",
    "    conv, decs = table[[('confirmed',province), ('deceased',province)]].sum()\n",
    "    prov[province] = {'사망률' : percentage(conv, decs), '확진자수' : conv, '사망자수' : decs}\n",
    "for province in sorted(prov.items(), key=lambda x : x[1]['사망률'], reverse=True):\n",
    "    ratio, conv, decs = province[1].values()\n",
    "    if conv >= 10000 : \n",
    "        print(f'{province[0]:<20}  사망률 : {ratio:<8.2f}\\t 확진자수 : {conv:<10d}\\t 사망자수 : {decs:d}')"
   ]
  },
  {
   "cell_type": "code",
   "execution_count": null,
   "metadata": {},
   "outputs": [],
   "source": [
    "Image.open(r\"C:\\Users\\chan\\Desktop\\covid\\data\\avgAgeProvince.jpg\")"
   ]
  },
  {
   "cell_type": "markdown",
   "metadata": {},
   "source": [
    " - 전남과 경북이 평균연령이 매우 높은 편입니다.\n",
    " - 전남의 경우는 확진자 수가 매우 적어서 경북의 경우를 생각해보겠습니다.\n",
    " - 상대적으로 평균 연령이 높은 것이 사망률이 높은 것과 관련이 있는지 생각해볼 필요가 있을 것 같습니다."
   ]
  },
  {
   "cell_type": "markdown",
   "metadata": {},
   "source": [
    "---\n",
    "# PatientInfo Data\n",
    "\n",
    "### state( Isolated / Released / Deceased ) 중심의 EDA\n",
    "\n",
    "\n",
    "- 1.1) 전체 state 비율\n",
    "- 1.2) 연령대층에 따른 state 현황 \n",
    "- 1.3) 성별에 따른 state 현황\n",
    "- 1.4) State별 지역 환자 비율\n",
    "- 1.5) 가장 높은 환자 비율의 지역들의 도시별 비율\n",
    "\n",
    "\n",
    "- 2.1) 격리해제 환자(state=released)의 확진일(confirm date)과 격리해제 일(released date)까지의 소요 기간.\n",
    "- 2.2) 사망 환자(state=deceased)의 확진일과 사망일 까지의 소요 기간.\n",
    "-  cf) 격리 환자(state=isolated)는 격리가 진행중이기 때문에 released_date,deceased_date가 NaN.(제외) \n",
    "- 2.3) 연령층대별 평균이상 이하 소요기간\n",
    "\n",
    "\n",
    "- 3.1) state에 따른 감염 경우 "
   ]
  },
  {
   "cell_type": "code",
   "execution_count": null,
   "metadata": {},
   "outputs": [],
   "source": [
    "p_info=pd.read_csv('PatientInfo.csv')"
   ]
  },
  {
   "cell_type": "markdown",
   "metadata": {},
   "source": [
    "## 1.1) 전체 State 비율 "
   ]
  },
  {
   "cell_type": "code",
   "execution_count": null,
   "metadata": {},
   "outputs": [],
   "source": [
    "clr2 = [px.colors.sequential.Reds_r[3],\n",
    "        px.colors.sequential.Reds_r[5],\n",
    "        px.colors.sequential.Reds_r[1]]\n",
    "total_state=pd.DataFrame(p_info['state'].value_counts()).reset_index()\n",
    "fig=px.pie(total_state, values='state', names='index', title='<b>[격리자/ 격리해제자 / 사망]</b>', template = 'seaborn', color_discrete_sequence=clr2)\n",
    "fig.update_traces(rotation=90, pull=0.05, textinfo=\"value+percent+label\")\n",
    "fig.show()"
   ]
  },
  {
   "cell_type": "markdown",
   "metadata": {},
   "source": [
    "## 1.2) 연령대층에 따른 state 현황"
   ]
  },
  {
   "cell_type": "code",
   "execution_count": null,
   "metadata": {
    "scrolled": true
   },
   "outputs": [],
   "source": [
    "state_age=p_info.groupby('state')['age'].value_counts()\n",
    "stage_age=pd.DataFrame(state_age)"
   ]
  },
  {
   "cell_type": "code",
   "execution_count": null,
   "metadata": {},
   "outputs": [],
   "source": [
    "## 1.2) 연령대층에 따른 state 현황\n",
    "#연령대 컬럼명 변경\n",
    "stage_age.rename(index={'0s':'0대','10s':'10대','20s':'20대','30s':'30대','40s':'40대','50s':'50대','60s':'60대','70s':'70대','80s':'80대','90s':'90대','100s':'100대'},inplace=True)\n",
    "\n",
    "stage_age=stage_age.T\n",
    "stage_age=stage_age.drop(('isolated','100대'), axis=1, inplace=False) #격리된 연령층 100살대 1개 제외\n",
    "stage_age=stage_age.T\n",
    "\n",
    "stage_age.columns=['count']\n",
    "released_=stage_age.loc['released',:].sort_index()\n",
    "isolated=stage_age.loc['isolated',:].sort_index()\n",
    "deceased=stage_age.loc['deceased',:].sort_index()\n",
    "\n",
    "fig = go.Figure()\n",
    "fig.add_trace(go.Scatter(x=released_.index, y=released_['count'],\n",
    "                    mode='lines+markers',\n",
    "                    name='격리해제 환자'))\n",
    "fig.add_trace(go.Scatter(x=isolated.index, y=isolated['count'],\n",
    "                    mode='lines+markers',\n",
    "                    name='격리 환자'))\n",
    "fig.add_trace(go.Scatter(x=deceased.index, y=deceased['count'], \n",
    "                    mode='lines+markers', name='사망 환자'))\n",
    "\n",
    "fig.update_layout(title='[연령대층에 따른 상태]',\n",
    "                   xaxis_title='연령대',\n",
    "                   yaxis_title='환자 수')\n",
    "\n",
    "fig.show()"
   ]
  },
  {
   "cell_type": "markdown",
   "metadata": {},
   "source": [
    "#### 연령층별로 알아본 격리/ 격리해제/ 사망 상태\n",
    "\n",
    "- 가장 많이 격리된 연령층도 20대 , 가장 많이 격리해제가 된 연령층도 20대\n",
    "-  사망 연령층은 30대부터 시작, 80대가 가장 많음 "
   ]
  },
  {
   "cell_type": "markdown",
   "metadata": {},
   "source": [
    "## 1.3) 성별에 따른 state"
   ]
  },
  {
   "cell_type": "code",
   "execution_count": null,
   "metadata": {},
   "outputs": [],
   "source": [
    "state_sex=pd.DataFrame(p_info.groupby('state')['sex'].value_counts())\n",
    "state_sex"
   ]
  },
  {
   "cell_type": "code",
   "execution_count": null,
   "metadata": {},
   "outputs": [],
   "source": [
    "state_sex.columns=['count']\n",
    "state_sex=state_sex.reset_index()\n",
    "\n",
    "fig=px.bar(state_sex, x='state', y='count', color='sex',title='state별 남/여 비율')\n",
    "fig.show()"
   ]
  },
  {
   "cell_type": "markdown",
   "metadata": {},
   "source": [
    "## 1.4) 지역별에 따른 State 현황"
   ]
  },
  {
   "cell_type": "code",
   "execution_count": null,
   "metadata": {},
   "outputs": [],
   "source": [
    "province_df=pd.DataFrame(p_info['province'].value_counts())\n",
    "province_df=province_df.reset_index()\n",
    "fig=px.pie(province_df, values='province', names='index', title='[전체 지역별 환자 수 및 비율(%)]', color_discrete_sequence=px.colors.sequential.RdBu)\n",
    "fig.update_traces(textposition='inside', textinfo='percent+label')\n",
    "fig.show()"
   ]
  },
  {
   "cell_type": "code",
   "execution_count": null,
   "metadata": {},
   "outputs": [],
   "source": [
    "city_state=pd.DataFrame(p_info.groupby(['province','city'])['state'].value_counts())\n",
    "city_state"
   ]
  },
  {
   "cell_type": "code",
   "execution_count": null,
   "metadata": {},
   "outputs": [],
   "source": [
    "city_state=city_state.unstack()\n",
    "city_state=city_state.fillna(0)\n",
    "city_state"
   ]
  },
  {
   "cell_type": "code",
   "execution_count": null,
   "metadata": {},
   "outputs": [],
   "source": [
    "deceased=pd.DataFrame(city_state.loc[:,'state'].loc[:,'deceased']).reset_index()\n",
    "isolated=pd.DataFrame(city_state.loc[:,'state'].loc[:,'isolated']).reset_index()\n",
    "released=pd.DataFrame(city_state.loc[:,'state'].loc[:,'released']).reset_index()"
   ]
  },
  {
   "cell_type": "markdown",
   "metadata": {},
   "source": [
    "### 지역별 \"격리해제\" 환자 수 및 비율 "
   ]
  },
  {
   "cell_type": "code",
   "execution_count": null,
   "metadata": {},
   "outputs": [],
   "source": [
    "fig=px.pie(released, values='released', names='province', title='[지역별 격리해제 환자 수 및 비율(%)]',color_discrete_sequence=px.colors.sequential.RdBu)\n",
    "fig.update_traces(textposition='inside', textinfo='percent+label')\n",
    "fig.show()"
   ]
  },
  {
   "cell_type": "markdown",
   "metadata": {},
   "source": [
    "### 지역별 \"사망 환자\" 수 및 비율"
   ]
  },
  {
   "cell_type": "code",
   "execution_count": null,
   "metadata": {},
   "outputs": [],
   "source": [
    "fig=px.pie(deceased, values='deceased', names='province', title='[지역별 사망 환자 수 및 비율(%)]',color_discrete_sequence=px.colors.sequential.RdBu)\n",
    "fig.update_traces(textposition='inside', textinfo='percent+label')\n",
    "fig.show()"
   ]
  },
  {
   "cell_type": "markdown",
   "metadata": {},
   "source": [
    "### 환자수가 가장 많은 상위 3개 지역 (경상북도, 경기도, 서울시)"
   ]
  },
  {
   "cell_type": "markdown",
   "metadata": {},
   "source": [
    "#### 1위. 경상북도 "
   ]
  },
  {
   "cell_type": "code",
   "execution_count": null,
   "metadata": {},
   "outputs": [],
   "source": [
    "#가장 환자 수가 많았던 경상북도의 city별 state현황 : 경산시가 압도적으로 사망자 수, 격리자 수, 격리해제 수 많음.\n",
    "city_state.loc['Gyeongsangbuk-do'].iplot(kind='barh', barmode=\"stack\",title='[ 경상북도 시/군별 state 현황 ]')"
   ]
  },
  {
   "cell_type": "markdown",
   "metadata": {},
   "source": [
    "#### 경상북도 현황\n",
    "- 경산시(대구시 바로 옆)가 압도적. 격리해제자가 생각보다 495명으로 많다. \n",
    "- 신천지 교회가 있는 대구 남구 보다 대구 바로 옆인 경산시에 사망자, 격리자가 훨씬 많음. ?? 대구시에 대한 정보가 부족한듯하다. 대구 외부 데이터 사용해야 할듯하다."
   ]
  },
  {
   "cell_type": "markdown",
   "metadata": {},
   "source": [
    "#### 추가 ) 대구시"
   ]
  },
  {
   "cell_type": "code",
   "execution_count": null,
   "metadata": {},
   "outputs": [],
   "source": [
    "city_state.loc['Daegu'].iplot(kind='barh', barmode=\"stack\",title='[ 대구광역시 구별 state 현황 ]')"
   ]
  },
  {
   "cell_type": "markdown",
   "metadata": {},
   "source": [
    "#### 대구시\n",
    "- 신천지 교회 소재지인 대구 남구에 사망자 1명, 격리자 7명 "
   ]
  },
  {
   "cell_type": "markdown",
   "metadata": {},
   "source": [
    "#### 2위. 경기도 "
   ]
  },
  {
   "cell_type": "code",
   "execution_count": 2,
   "metadata": {},
   "outputs": [
    {
     "ename": "NameError",
     "evalue": "name 'city_state' is not defined",
     "output_type": "error",
     "traceback": [
      "\u001b[1;31m---------------------------------------------------------------------------\u001b[0m",
      "\u001b[1;31mNameError\u001b[0m                                 Traceback (most recent call last)",
      "\u001b[1;32m<ipython-input-2-b9c63fb8ac19>\u001b[0m in \u001b[0;36m<module>\u001b[1;34m\u001b[0m\n\u001b[1;32m----> 1\u001b[1;33m \u001b[0mcity_state\u001b[0m\u001b[1;33m.\u001b[0m\u001b[0mloc\u001b[0m\u001b[1;33m[\u001b[0m\u001b[1;34m'Gyeonggi-do'\u001b[0m\u001b[1;33m]\u001b[0m\u001b[1;33m.\u001b[0m\u001b[0miplot\u001b[0m\u001b[1;33m(\u001b[0m\u001b[0mkind\u001b[0m\u001b[1;33m=\u001b[0m\u001b[1;34m'barh'\u001b[0m\u001b[1;33m,\u001b[0m \u001b[0mbarmode\u001b[0m\u001b[1;33m=\u001b[0m\u001b[1;34m\"stack\"\u001b[0m\u001b[1;33m,\u001b[0m\u001b[0mtitle\u001b[0m\u001b[1;33m=\u001b[0m\u001b[1;34m'[ 경기도 시별 state 현황 ]'\u001b[0m\u001b[1;33m)\u001b[0m\u001b[1;33m\u001b[0m\u001b[1;33m\u001b[0m\u001b[0m\n\u001b[0m",
      "\u001b[1;31mNameError\u001b[0m: name 'city_state' is not defined"
     ]
    }
   ],
   "source": [
    "city_state.loc['Gyeonggi-do'].iplot(kind='barh', barmode=\"stack\",title='[ 경기도 시별 state 현황 ]')"
   ]
  },
  {
   "cell_type": "markdown",
   "metadata": {},
   "source": [
    "#### 경기도 현황\n",
    "- 경기도에는 성남시가 압도적으로 격리 환자 수(123명)가 많다.\n",
    "- 사망자는 대체적으로 없고 남양주시에서만 1명 있다는 것 확인.\n",
    "- 격리해제 환자도 대체적으로 거의 없음을 확인.  "
   ]
  },
  {
   "cell_type": "markdown",
   "metadata": {},
   "source": [
    "#### 3위. 서울시 "
   ]
  },
  {
   "cell_type": "code",
   "execution_count": null,
   "metadata": {},
   "outputs": [],
   "source": [
    "city_state.loc['Seoul'].iplot(kind='barh', barmode=\"stack\",title='[ 서울특별시 구별 state 현황 ]')"
   ]
  },
  {
   "cell_type": "markdown",
   "metadata": {},
   "source": [
    "#### 서울 현황\n",
    "- 강남구 : 격리자(46명), 격리해제자(13명)\n",
    "- 관악구 : 격리자(26명) , 격리해제자(16명)\n",
    "- 서초구 : 격리자(26명), 격리해제자(9명)\n",
    "- 송파구 : 격리자(24명), 격리해제자(13명)\n",
    "- 구로구 : 격리자(23명), 격리해제자(11명) + 구로구 콜센터 집단감염과 연관?.\n",
    "- 동작구 : 격리자(23명), 격리해제자(7명)\n",
    "- 마포구 : 유일한 사망자: 1명, 격리자(13명), 격리해제자(8명)\n",
    ".\n",
    ".\n"
   ]
  },
  {
   "cell_type": "markdown",
   "metadata": {},
   "source": [
    "## 2.1) 격리해제 환자(state=released)의 확진일(confirm date)과 격리해제 일(released date)까지의 소요 기간. "
   ]
  },
  {
   "cell_type": "code",
   "execution_count": null,
   "metadata": {},
   "outputs": [],
   "source": [
    "released_p=p_info[p_info['state']=='released']\n",
    "#격리해제자인데 격리해제된날 NaN인 사람 : 304명 제외 => drop\n",
    "released_p=released_p.dropna(subset=['released_date'], inplace=False)"
   ]
  },
  {
   "cell_type": "code",
   "execution_count": null,
   "metadata": {},
   "outputs": [],
   "source": [
    "import re\n",
    "\n",
    "confirm_list=[]\n",
    "released_list=[]\n",
    "\n",
    "for date in released_p['confirmed_date']:\n",
    "    r= re.compile('(?P<year>\\d+)[-](?P<month>\\d+)[-](?P<date>\\d+)')\n",
    "    confirm_list.append(r.sub('\\g<year>\\g<month>\\g<date>',date))\n",
    "\n",
    "for date in released_p['released_date']:\n",
    "    r= re.compile('(?P<year>\\d+)[-](?P<month>\\d+)[-](?P<date>\\d+)')\n",
    "    released_list.append(r.sub('\\g<year>\\g<month>\\g<date>',date))\n",
    "\n",
    "released_p['confirmed_date']=confirm_list \n",
    "released_p['released_date']=released_list\n",
    "\n",
    "released_p['confirmed_date']=released_p['confirmed_date'].astype(int)\n",
    "released_p['released_date']=released_p['released_date'].astype(int)\n",
    "\n",
    "released_p['period_diff']=released_p['released_date']-released_p['confirmed_date']\n",
    "released_p['period_diff'].describe() "
   ]
  },
  {
   "cell_type": "markdown",
   "metadata": {},
   "source": [
    "### 결과 \n",
    "\n",
    "- 평균: 65.7일\n",
    "- 최대: 190일\n",
    "- 최소: 0일? 만에 격리해제 "
   ]
  },
  {
   "cell_type": "code",
   "execution_count": null,
   "metadata": {},
   "outputs": [],
   "source": [
    "#0일만에 격리해제된 사람: 20대 남성(97년생, 경기도 수원시, 환자와의 접촉)\n",
    "released_p[released_p['period_diff']==0]"
   ]
  },
  {
   "cell_type": "code",
   "execution_count": null,
   "metadata": {
    "scrolled": true
   },
   "outputs": [],
   "source": [
    "#최대일수 190일만에 격리해제된 사람: 20대 여성(91년생, 경산시, 신천지교회에서 감염) \n",
    "released_p[released_p['period_diff']==190]"
   ]
  },
  {
   "cell_type": "markdown",
   "metadata": {},
   "source": [
    "## 2.2) 사망자(state=deceased)의 확진일과 사망일 까지의 소요 기간"
   ]
  },
  {
   "cell_type": "code",
   "execution_count": null,
   "metadata": {},
   "outputs": [],
   "source": [
    "deceased_p=p_info[p_info['state']=='deceased']\n",
    "deceased_p=deceased_p.dropna(subset=['deceased_date'], inplace=False)\n",
    "\n",
    "confirm_list=[]\n",
    "released_list=[]\n",
    "\n",
    "for date in deceased_p['confirmed_date']:\n",
    "    r= re.compile('(?P<year>\\d+)[-](?P<month>\\d+)[-](?P<date>\\d+)')\n",
    "    confirm_list.append(r.sub('\\g<year>\\g<month>\\g<date>',date))\n",
    "\n",
    "for date in deceased_p['deceased_date']:\n",
    "    r= re.compile('(?P<year>\\d+)[-](?P<month>\\d+)[-](?P<date>\\d+)')\n",
    "    released_list.append(r.sub('\\g<year>\\g<month>\\g<date>',date))\n",
    "\n",
    "deceased_p['confirmed_date']=confirm_list \n",
    "deceased_p['deceased_date']=released_list\n",
    "\n",
    "deceased_p['confirmed_date']=deceased_p['confirmed_date'].astype(int)\n",
    "deceased_p['deceased_date']=deceased_p['deceased_date'].astype(int)\n",
    "\n",
    "deceased_p['period_diff']=deceased_p['deceased_date']-deceased_p['confirmed_date']"
   ]
  },
  {
   "cell_type": "code",
   "execution_count": null,
   "metadata": {},
   "outputs": [],
   "source": [
    "deceased_p[deceased_p['period_diff']==-1] \n",
    "#청도대남병원에서 사후판정 2명 사망자 : 질병여부 0, 청도대남병원에서 사망. => 신천지 발생 이후 사망, 청도대남병원으로 확진자들 대거 유입되면서 걸렸을 수 있겠음. "
   ]
  },
  {
   "cell_type": "code",
   "execution_count": null,
   "metadata": {},
   "outputs": [],
   "source": [
    "deceased_p[deceased_p['patient_id']==6020100104]"
   ]
  },
  {
   "cell_type": "markdown",
   "metadata": {},
   "source": [
    "## 2.3) 연령층대별 평균이상 이하 소요기간"
   ]
  },
  {
   "cell_type": "markdown",
   "metadata": {},
   "source": [
    "#### 평균 66일을 기준으로 평균이상, 이하인 환자들로 나누어 더 자세히 알아보았습니다."
   ]
  },
  {
   "cell_type": "code",
   "execution_count": null,
   "metadata": {},
   "outputs": [],
   "source": [
    "released_p['over_aveg']=np.where(released_p['period_diff']>66,1,0)\n",
    "over_av_released=released_p[released_p['over_aveg']==1]\n",
    "under_av_released=released_p[released_p['over_aveg']==0]\n",
    "\n",
    "over_av=pd.DataFrame(over_av_released['age'].value_counts().sort_index()).reset_index()\n",
    "under_av=pd.DataFrame(under_av_released['age'].value_counts().sort_index()).reset_index()\n",
    "\n",
    "#연령대층별로 감염자수가 확연히 다르기때문에 각 연령층별의 비율로 계산\n",
    "\n",
    "under_av['per']=under_av['age']/(under_av['age']+over_av['age']) \n",
    "over_av['per']=over_av['age']/(under_av['age']+over_av['age'])\n",
    "\n",
    "#컬럼 재정리\n",
    "under_av.columns=['age', 'count', 'per']\n",
    "over_av.columns=['age', 'count', 'per']"
   ]
  },
  {
   "cell_type": "code",
   "execution_count": null,
   "metadata": {},
   "outputs": [],
   "source": [
    "fig=px.pie(over_av, values='count', names='age', title='[연령대별 확진날짜~격리해제 소요기간 (평균이상)]', color_discrete_sequence=px.colors.sequential.RdBu)\n",
    "fig.update_traces(rotation=90, pull=0.05, textinfo=\"value+percent+label\")\n",
    "fig.show()"
   ]
  },
  {
   "cell_type": "code",
   "execution_count": null,
   "metadata": {},
   "outputs": [],
   "source": [
    "fig=px.pie(under_av, values='count', names='age', title='[연령대별 확진날짜~격리해제 소요기간 (평균이하)]', color_discrete_sequence=px.colors.sequential.RdBu)\n",
    "fig.update_traces(rotation=90, pull=0.05, textinfo=\"value+percent+label\")\n",
    "fig.show()"
   ]
  },
  {
   "cell_type": "markdown",
   "metadata": {},
   "source": [
    "#### 결과 \n",
    "- 10대,20대,30대 들도 격리해제까지 걸리는 평균 기간 66일 이상이 60%를 넘는것을 보아 COVID-19는 쉽게 완치되지 않는 병임을 알 수 있었다.\n",
    "- 평균일수를 넘는 비율이 가장 큰 연령층은 60대이며, 70%가 넘는다."
   ]
  },
  {
   "cell_type": "markdown",
   "metadata": {},
   "source": [
    "## 3.1) 감염 케이스에 따른 State "
   ]
  },
  {
   "cell_type": "code",
   "execution_count": null,
   "metadata": {
    "scrolled": true
   },
   "outputs": [],
   "source": [
    "p_info['infection_case'].value_counts().plot.barh(figsize=(20,10))\n",
    "#환자끼리와의 접촉이 가장 많음"
   ]
  },
  {
   "cell_type": "code",
   "execution_count": null,
   "metadata": {},
   "outputs": [],
   "source": [
    "case_state=pd.DataFrame(p_info.groupby('infection_case')['state'].value_counts())\n",
    "case_state=case_state.unstack(level=0)\n",
    "case_state.iplot(kind='barh', barmode=\"stack\",title='state별 감염 케이스')"
   ]
  },
  {
   "cell_type": "code",
   "execution_count": null,
   "metadata": {
    "scrolled": true
   },
   "outputs": [],
   "source": [
    "#격리해제자 수/격리자 수/사망자 수 가장 많은 감염 경우 부터\n",
    "p_info.groupby('infection_case')['state'].value_counts().sort_values(ascending=False)"
   ]
  },
  {
   "cell_type": "markdown",
   "metadata": {},
   "source": [
    "#### 감염 케이스\n",
    "\n",
    "- 격리해제자 : 다른환자와의 접촉(320명) > 기타(250명) > 신천지교회(69명) > 구로콜센터(58명) > 온천교회(28명) > 천안 체육관(25명) > ...\n",
    "\n",
    "- 격리자 : 다른환자와의 접촉(582명) >  해외(469명) > 기타(262명) > 구로콜센터(53명) > 신천지교회(36명) > 봉화푸른요양원(30명) > ..\n",
    "\n",
    "- 사망자 : 기타(13명) > 청도대남병원(7명) > 다른 환자와의 접촉(3명) > 신천지교회(2명) > 구로콜센터(1명) ..\n",
    "\n",
    "\n",
    "- 결론: 다른환자와의 접촉 사례가 가장 큼, 최근 해외에서 온 격리자 수가 많아졌음을 알 수 있다."
   ]
  },
  {
   "cell_type": "markdown",
   "metadata": {},
   "source": [
    "# Route data\n",
    "\n",
    "\n",
    "- 환자 이동장소 유형\n",
    "- 확진자별 이동경로"
   ]
  },
  {
   "cell_type": "code",
   "execution_count": null,
   "metadata": {},
   "outputs": [],
   "source": [
    "route=pd.read_csv('PatientRoute.csv')\n",
    "route['patient_id'].value_counts() #총 939명의 환자의 동선"
   ]
  },
  {
   "cell_type": "markdown",
   "metadata": {},
   "source": [
    "## 1) 환자 이동 장소 유형 "
   ]
  },
  {
   "cell_type": "code",
   "execution_count": null,
   "metadata": {},
   "outputs": [],
   "source": [
    "type_infection=pd.DataFrame(route['type'].value_counts())\n",
    "type_infection=type_infection.reset_index()\n",
    "\n",
    "fig=px.pie(type_infection, values='type', names='index', title='[환자 이동 장소 유형 수 및 비율(%)]')\n",
    "fig.update_traces(textposition='inside', textinfo='percent+label')\n",
    "fig.show()"
   ]
  },
  {
   "cell_type": "markdown",
   "metadata": {},
   "source": [
    "#### 감염자가 이동한 장소 \n",
    "\n",
    "- 기타가 제일 높은 비율 차지. 기타가 뭘지일지는 외부데이터를 사용하여 두번째 Search Insight 로 분석 예정.\n",
    "- 기타와 병원이 60%로 대부분의 비율 차지."
   ]
  },
  {
   "cell_type": "markdown",
   "metadata": {},
   "source": [
    "## 2) 확진자별 이동경로 "
   ]
  },
  {
   "cell_type": "code",
   "execution_count": null,
   "metadata": {},
   "outputs": [],
   "source": [
    "#확진자가 방문한 위치 분포를 알아보기 위해 scatter형태로 표시\n",
    "\n",
    "fig_map = px.scatter_mapbox(route, lat=\"latitude\", lon=\"longitude\",\n",
    "                color_continuous_scale=\"Rainbow\", size_max=50)\n",
    "fig_map.update_layout(mapbox_style=\"carto-positron\",width=900, height=700)\n",
    "fig_map.update_layout(margin={\"r\":0,\"t\":0,\"l\":0,\"b\":0})\n",
    "fig_map.show()"
   ]
  },
  {
   "cell_type": "markdown",
   "metadata": {},
   "source": [
    "# Case data \n",
    "\n",
    "- 위치별 확진 환자 수 분포"
   ]
  },
  {
   "cell_type": "markdown",
   "metadata": {},
   "source": [
    "### 1) 위치별 확진 환자 수 분포   "
   ]
  },
  {
   "cell_type": "code",
   "execution_count": null,
   "metadata": {},
   "outputs": [],
   "source": [
    "case=pd.read_csv('Case.csv')\n",
    "\n",
    "case[['latitude','longitude']]=np.where(case[['latitude','longitude']]=='-',None,case[['latitude','longitude']])\n",
    "case[['latitude','longitude']]=case[['latitude','longitude']].astype(float)\n",
    "\n",
    "fig_map = px.scatter_mapbox(case, lat=\"latitude\", lon=\"longitude\", color='case_id',\n",
    "                color_continuous_scale=\"Rainbow\", size='confirmed', size_max=50, zoom=7)\n",
    "fig_map.update_layout(mapbox_style=\"carto-positron\",width=900, height=700)\n",
    "fig_map.update_layout(margin={\"r\":0,\"t\":0,\"l\":0,\"b\":0}) #margin(layout 크기) 맞춤\n",
    "fig_map.show()"
   ]
  },
  {
   "cell_type": "markdown",
   "metadata": {},
   "source": [
    "# Region\n",
    "\n",
    "### 지역(province,city) 중심의 EDA\n",
    "\n",
    "\n",
    "- 1.1) 도(시)에 따른 학교 현황\n",
    "- 1.2) 도(시)에 따른 학원 현황\n",
    "- 1.3) 도(시)에 따른 노인과 독거노인 현황\n",
    "- 1.4) 도(시)에 따른 사회복지시설 현황"
   ]
  },
  {
   "cell_type": "code",
   "execution_count": null,
   "metadata": {
    "scrolled": false
   },
   "outputs": [],
   "source": [
    "Region = pd.read_csv(\"Region.csv\")"
   ]
  },
  {
   "cell_type": "code",
   "execution_count": null,
   "metadata": {},
   "outputs": [],
   "source": [
    "Region_province = Region[Region.province == Region.city]\n",
    "Region_province.set_index('city', drop=True, inplace=True)\n",
    "Region_province.drop('Korea',inplace=True, axis=0)"
   ]
  },
  {
   "cell_type": "markdown",
   "metadata": {},
   "source": [
    "## 1.1) 도(시)에 따른 학교 현황"
   ]
  },
  {
   "cell_type": "code",
   "execution_count": null,
   "metadata": {},
   "outputs": [],
   "source": [
    "layout_setting = {'xaxis_title':'Province','yaxis_title':'Number','font':dict(size=18,color='#60606e',family='Franklin Gothic' )}"
   ]
  },
  {
   "cell_type": "code",
   "execution_count": null,
   "metadata": {},
   "outputs": [],
   "source": [
    "province_name = list(Region_province.province)\n",
    "school_name = [\"elementary_school_count\",\"kindergarten_count\",\"university_count\"]\n",
    "\n",
    "fig = go.Figure(data=[\n",
    "    go.Bar(name=school_name[0], x=province_name, y=Region_province[school_name[0]]),\n",
    "    go.Bar(name=school_name[1], x=province_name, y=Region_province[school_name[1]]),\n",
    "    go.Bar(name=school_name[2], x=province_name, y=Region_province[school_name[2]])\n",
    "])\n",
    "fig.update_layout(barmode='stack',\n",
    "                 title = '<b>도(시)별 학교 수</b>',\n",
    "                 **layout_setting)\n",
    "\n",
    "fig.show()"
   ]
  },
  {
   "cell_type": "markdown",
   "metadata": {},
   "source": [
    "## 1.2) 도(시)에 따른 학원 현황"
   ]
  },
  {
   "cell_type": "code",
   "execution_count": null,
   "metadata": {},
   "outputs": [],
   "source": [
    "province_name = list(Region_province.province)\n",
    "school_name = [\"elementary_school_count\",\"kindergarten_count\",\"university_count\"]\n",
    "school = Region_province[school_name]\n",
    "school_sum = school.sum(axis=1)\n",
    "\n",
    "fig = make_subplots(specs=[[{\"secondary_y\": True}]])\n",
    "fig.add_trace(go.Bar(name='school_count', x=province_name, y=school_sum),\n",
    "             secondary_y=False)\n",
    "\n",
    "fig.add_trace(go.Scatter(name = 'academy_ratio',x=province_name, y= Region_province.academy_ratio),\n",
    "             secondary_y=True)\n",
    "\n",
    "fig.update_layout(title = '<b>도(시)별 학교 학원 수</b>',\n",
    "                 **layout_setting)\n",
    "fig.show()"
   ]
  },
  {
   "cell_type": "markdown",
   "metadata": {},
   "source": [
    "\n",
    "- 학교 수가 만"
   ]
  },
  {
   "cell_type": "markdown",
   "metadata": {},
   "source": [
    "## 1.3) 도(시)에 따른 노인과 독거노인 현황"
   ]
  },
  {
   "cell_type": "code",
   "execution_count": null,
   "metadata": {},
   "outputs": [],
   "source": [
    "province_name = list(Region_province.province)\n",
    "\n",
    "elderly = ['elderly_population_ratio','elderly_alone_ratio']\n",
    "fig = go.Figure(data=[go.Bar(name=elderly[0], x=province_name, y=Region_province[elderly[0]]),\n",
    "                      go.Bar(name=elderly[1], x=province_name, y=Region_province[elderly[1]])])\n",
    "fig.update_layout(barmode='group',\n",
    "                 title = '<b>도(시)별 노인과 독거노인 비율</b>',\n",
    "                 **layout_setting)\n",
    "fig.show()"
   ]
  },
  {
   "cell_type": "markdown",
   "metadata": {},
   "source": [
    "## 1.4) 도(시)에 따른 노인 수와 사회복지시설 현황"
   ]
  },
  {
   "cell_type": "code",
   "execution_count": null,
   "metadata": {},
   "outputs": [],
   "source": [
    "province_name = list(Region_province.province)\n",
    "elderly = ['elderly_population_ratio','elderly_alone_ratio']\n",
    "fig = make_subplots(specs=[[{\"secondary_y\": True}]])\n",
    "fig.add_trace(go.Bar(name=elderly[0], x=province_name, y=Region_province[elderly[0]]),\n",
    "             secondary_y=False)\n",
    "\n",
    "fig.add_trace(go.Scatter(name = 'nursing_home_count',x=province_name, y= Region_province.nursing_home_count),\n",
    "             secondary_y=True)\n",
    "\n",
    "fig.update_layout(title = '<b>도(시)별 노인 수와 사회복지시설 수</b>',\n",
    "                 **layout_setting)\n",
    "fig.show()"
   ]
  },
  {
   "cell_type": "markdown",
   "metadata": {},
   "source": [
    "- 노인 수가 많다고 해서 사회복지시설의 수가 많은 것은 아닌 것을 알 수 있다"
   ]
  },
  {
   "cell_type": "markdown",
   "metadata": {},
   "source": [
    "# SearchTrend\n",
    "\n",
    "- 1.1) 검색어 검색량 변화"
   ]
  },
  {
   "cell_type": "code",
   "execution_count": null,
   "metadata": {},
   "outputs": [],
   "source": [
    "searchTrend = pd.read_csv(\"SearchTrend.csv\")\n",
    "searchTrend.head()"
   ]
  },
  {
   "cell_type": "markdown",
   "metadata": {},
   "source": [
    "## 검색어 검색량 변화"
   ]
  },
  {
   "cell_type": "code",
   "execution_count": 3,
   "metadata": {},
   "outputs": [],
   "source": [
    "layout_setting = {'xaxis_title':'Date','yaxis_title':'Number','font':dict(size=18,color='#60606e',family='Franklin Gothic' )}"
   ]
  },
  {
   "cell_type": "code",
   "execution_count": 4,
   "metadata": {},
   "outputs": [
    {
     "ename": "NameError",
     "evalue": "name 'go' is not defined",
     "output_type": "error",
     "traceback": [
      "\u001b[1;31m---------------------------------------------------------------------------\u001b[0m",
      "\u001b[1;31mNameError\u001b[0m                                 Traceback (most recent call last)",
      "\u001b[1;32m<ipython-input-4-54672d0e4533>\u001b[0m in \u001b[0;36m<module>\u001b[1;34m\u001b[0m\n\u001b[1;32m----> 1\u001b[1;33m \u001b[0mfig\u001b[0m \u001b[1;33m=\u001b[0m \u001b[0mgo\u001b[0m\u001b[1;33m.\u001b[0m\u001b[0mFigure\u001b[0m\u001b[1;33m(\u001b[0m\u001b[1;33m)\u001b[0m \u001b[1;31m# Figure 객체 생성\u001b[0m\u001b[1;33m\u001b[0m\u001b[1;33m\u001b[0m\u001b[0m\n\u001b[0m\u001b[0;32m      2\u001b[0m fig.add_trace(go.Scatter(x=searchTrend['date'],y= searchTrend['cold'],  # 그래프 하나씩 그리는 것\n\u001b[0;32m      3\u001b[0m              mode='lines+markers', name='cold'))\n\u001b[0;32m      4\u001b[0m fig.add_trace(go.Scatter(x=searchTrend['date'],y= searchTrend['flu'],  # 그래프 하나씩 그리는 것\n\u001b[0;32m      5\u001b[0m              mode='lines+markers', name='flu'))\n",
      "\u001b[1;31mNameError\u001b[0m: name 'go' is not defined"
     ]
    }
   ],
   "source": [
    "fig = go.Figure() # Figure 객체 생성\n",
    "fig.add_trace(go.Scatter(x=searchTrend['date'],y= searchTrend['cold'],  # 그래프 하나씩 그리는 것\n",
    "             mode='lines+markers', name='cold'))\n",
    "fig.add_trace(go.Scatter(x=searchTrend['date'],y= searchTrend['flu'],  # 그래프 하나씩 그리는 것\n",
    "             mode='lines+markers', name='flu'))\n",
    "fig.add_trace(go.Scatter(x=searchTrend['date'],y= searchTrend['pneumonia'],  # 그래프 하나씩 그리는 것\n",
    "             mode='lines+markers', name='pneumonia'))\n",
    "fig.add_trace(go.Scatter(x=searchTrend['date'],y= searchTrend['coronavirus'],  # 그래프 하나씩 그리는 것\n",
    "             mode='lines+markers', name='coronavirus'))\n",
    "\n",
    "fig.update_layout(title='<b>시간에 따른 검색어 검색량 변화</b>',\n",
    "                 **layout_setting)\n",
    "fig.show()"
   ]
  },
  {
   "cell_type": "markdown",
   "metadata": {},
   "source": [
    "2016년 12월 **독감유행**으로 'flu' 검색량 증가\n",
    "\n",
    "2019년 3월 **감기유행**으로 'cold' 검색량 증가\n",
    "\n",
    "2020년 1월8일 **폐렴** 검색 증가이후 **코로나** 검색 증가\n",
    " - 1/20 첫 확진자 발생 -> **코로나** 검색 증가\n",
    " - 2/18 31번 확진자 확진판정 후 급증\n",
    " "
   ]
  },
  {
   "cell_type": "markdown",
   "metadata": {},
   "source": [
    "# Seoul Floating\n",
    "\n",
    "- 1.1) 연령에 따른 유동인구\n",
    "- 1.2) 성별에 따른 유동인구\n",
    "- 1.3) 시간에 따른 유동인구"
   ]
  },
  {
   "cell_type": "code",
   "execution_count": null,
   "metadata": {},
   "outputs": [],
   "source": [
    "seoulFloating = pd.read_csv(\"SeoulFloating.csv\")\n",
    "seoulFloating.head()"
   ]
  },
  {
   "cell_type": "markdown",
   "metadata": {},
   "source": [
    "## 1.1) 연령에 따른 유동 인구"
   ]
  },
  {
   "cell_type": "code",
   "execution_count": null,
   "metadata": {},
   "outputs": [],
   "source": [
    "fp_age = pd.pivot_table(seoulFloating, index='date',columns='birth_year',values='fp_num')\n",
    "\n",
    "fig = go.Figure()\n",
    "for col in set(fp_age.columns):\n",
    "    fig.add_trace(go.Scatter(x=fp_age.index, y=fp_age[col],mode='lines+markers', name=col) )\n",
    "\n",
    "fig.update_layout(title='<b>연령별 유동인구</b>', **layout_setting)\n",
    "fig.show()"
   ]
  },
  {
   "cell_type": "markdown",
   "metadata": {},
   "source": [
    "- 30대, 40대, 50대, 20대, 60대, 70대 순으로 유동인구가 많습니다.\n",
    "- 유동인구 수가 급감소 되기 시작하였던 1월24일은 2번째 확진자 나온 날입니다.\n",
    "- 유동인구 수가 급증가한 2월 23일의 마땅한 원인을 못찾았습니다."
   ]
  },
  {
   "cell_type": "markdown",
   "metadata": {},
   "source": [
    "## 1.2) 성별에 따른 유동인구"
   ]
  },
  {
   "cell_type": "code",
   "execution_count": null,
   "metadata": {},
   "outputs": [],
   "source": [
    "# 성별 유동인구 변화량\n",
    "fp_sex = pd.pivot_table(seoulFloating, index='date',columns='sex',values='fp_num')\n",
    "\n",
    "fig = go.Figure()\n",
    "for col in set(fp_sex.columns):\n",
    "    fig.add_trace(go.Scatter(x=fp_sex.index, y=fp_sex[col],mode='lines+markers', name=col) )\n",
    "\n",
    "fig.update_layout(title='<b>성별 유동인구</b>', **layout_setting)\n",
    "fig.show()"
   ]
  },
  {
   "cell_type": "markdown",
   "metadata": {},
   "source": [
    "## 1.3) 시간에 따른 유동인구 조사"
   ]
  },
  {
   "cell_type": "code",
   "execution_count": null,
   "metadata": {},
   "outputs": [],
   "source": [
    "fp_hour = pd.pivot_table(seoulFloating, index='date', columns='hour',values='fp_num')\n",
    "fig = go.Figure()\n",
    "for col in set(fp_hour.columns):\n",
    "    fig.add_trace(go.Scatter(x=fp_hour.index, y=fp_hour[col],mode='lines+markers', name=col) )\n",
    "\n",
    "fig.update_layout(title='<b>시간별 유동인구</b>', **layout_setting)\n",
    "fig.show()"
   ]
  }
 ],
 "metadata": {
  "kernelspec": {
   "display_name": "Python 3",
   "language": "python",
   "name": "python3"
  },
  "language_info": {
   "codemirror_mode": {
    "name": "ipython",
    "version": 3
   },
   "file_extension": ".py",
   "mimetype": "text/x-python",
   "name": "python",
   "nbconvert_exporter": "python",
   "pygments_lexer": "ipython3",
   "version": "3.7.4"
  }
 },
 "nbformat": 4,
 "nbformat_minor": 2
}
