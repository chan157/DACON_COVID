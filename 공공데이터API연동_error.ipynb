{
 "cells": [
  {
   "cell_type": "code",
   "execution_count": 26,
   "metadata": {},
   "outputs": [],
   "source": [
    "# API, URL, DB\n",
    "from bs4 import BeautifulSoup\n",
    "import requests\n",
    "from urllib.parse import urlencode\n",
    "from urllib.parse import quote_plus\n",
    "from urllib.request import urlopen\n",
    "import sqlite3"
   ]
  },
  {
   "cell_type": "code",
   "execution_count": 27,
   "metadata": {},
   "outputs": [
    {
     "data": {
      "text/plain": [
       "'<?xml version=\"1.0\" encoding=\"UTF-8\" standalone=\"yes\"?><response><header><resultCode>99</resultCode><resultMsg>SERVICE KEY IS NOT REGISTERED ERROR.</resultMsg></header></response>'"
      ]
     },
     "execution_count": 27,
     "metadata": {},
     "output_type": "execute_result"
    }
   ],
   "source": [
    "from urllib.parse import urlencode\n",
    "import requests\n",
    "# API 연동 Accesskey 직접 입력 필요\n",
    "base_url = \"http://openapi.data.go.kr/openapi/service/rest/Covid19/getCovid19InfStateJson\"\n",
    "\n",
    "acesskey = \"iu+acf8TAMy1jWr7M933jladigB8QMTZwMdwKqd6LLAtOxRiG9Q/VUGc2gpjHSorpvP3ErakcbZFNA0ohWtZ6Q==\"\n",
    "\n",
    "params = '?' + urlencode({quote_plus('ServiceKey') : acesskey,\n",
    "                            quote_plus('pageNo') : '1',\n",
    "                           quote_plus('numOfRows') : '10',\n",
    "                           quote_plus('startCreateDt') : '20200310', \n",
    "                           quote_plus('endCreateDt') : '20200315' })\n",
    "\n",
    "request = requests.get(url + queryParams)\n",
    "request.text"
   ]
  },
  {
   "cell_type": "code",
   "execution_count": null,
   "metadata": {},
   "outputs": [],
   "source": []
  }
 ],
 "metadata": {
  "kernelspec": {
   "display_name": "Python 3",
   "language": "python",
   "name": "python3"
  },
  "language_info": {
   "codemirror_mode": {
    "name": "ipython",
    "version": 3
   },
   "file_extension": ".py",
   "mimetype": "text/x-python",
   "name": "python",
   "nbconvert_exporter": "python",
   "pygments_lexer": "ipython3",
   "version": "3.7.7"
  }
 },
 "nbformat": 4,
 "nbformat_minor": 4
}
